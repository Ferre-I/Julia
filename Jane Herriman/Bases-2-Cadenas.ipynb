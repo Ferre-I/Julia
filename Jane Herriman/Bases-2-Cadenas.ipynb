{
 "cells": [
  {
   "cell_type": "markdown",
   "id": "a9e53f81",
   "metadata": {},
   "source": [
    "# Cadenas\n",
    "\n",
    "1.Cómo obtener una cadenas\n",
    "\n",
    "2.Interpolación de cadenas\n",
    "\n",
    "3.Concatenación de cadenas\n",
    "\n",
    "\n"
   ]
  },
  {
   "cell_type": "code",
   "execution_count": 7,
   "id": "738d211b",
   "metadata": {},
   "outputs": [
    {
     "data": {
      "text/plain": [
       "\"También soy una cadena. \\n\\n\\\"hola\\\"\\n\""
      ]
     },
     "execution_count": 7,
     "metadata": {},
     "output_type": "execute_result"
    }
   ],
   "source": [
    "#Para obtener cadenas ecerrar texto entre comillas\n",
    "\n",
    "s1=\"Soy una cadena. \"\n",
    "s2=\"\"\"También soy una cadena. \n",
    "\n",
    "\"hola\"\n",
    "\"\"\"\n"
   ]
  },
  {
   "cell_type": "markdown",
   "id": "824bd276",
   "metadata": {},
   "source": []
  },
  {
   "cell_type": "code",
   "execution_count": 12,
   "id": "484970e9",
   "metadata": {},
   "outputs": [
    {
     "data": {
      "text/plain": [
       "\"Sin problemas \\\"Hola\\\" \""
      ]
     },
     "execution_count": 12,
     "metadata": {},
     "output_type": "execute_result"
    }
   ],
   "source": [
    "s4=\"\"\"Sin problemas \"Hola\" \"\"\"\n",
    "s3=\"Sin problemas \\\"Hola\\\" \"\n"
   ]
  },
  {
   "cell_type": "code",
   "execution_count": 13,
   "id": "1e4d7769",
   "metadata": {},
   "outputs": [
    {
     "data": {
      "text/plain": [
       "true"
      ]
     },
     "execution_count": 13,
     "metadata": {},
     "output_type": "execute_result"
    }
   ],
   "source": [
    "s3==s4\n"
   ]
  },
  {
   "cell_type": "markdown",
   "id": "c24710a0",
   "metadata": {},
   "source": [
    "## Interpolación de Cadenas\n",
    "\n",
    "Se utiliza el símbolo $ para insertar variables ya declaradas directamente dentro\n",
    "de una cadena\n"
   ]
  },
  {
   "cell_type": "code",
   "execution_count": 16,
   "id": "5c237cf9",
   "metadata": {},
   "outputs": [],
   "source": [
    "nombre= \"Fernando Ivan\"\n",
    "edad=29\n",
    "nacionalidad=\"mexicano\";"
   ]
  },
  {
   "cell_type": "code",
   "execution_count": 18,
   "id": "b685259d",
   "metadata": {},
   "outputs": [
    {
     "name": "stdout",
     "output_type": "stream",
     "text": [
      "Hola mi nombre es Fernando Ivan.\n",
      "Tengo 29 años y soy mexicano.\n",
      "Un gusto en conocerle.\n"
     ]
    }
   ],
   "source": [
    "println(\"Hola mi nombre es $nombre.\")\n",
    "println(\"Tengo $edad años y soy $nacionalidad.\")\n",
    "println(\"Un gusto en conocerle.\")"
   ]
  },
  {
   "cell_type": "code",
   "execution_count": 19,
   "id": "32ef1e48",
   "metadata": {},
   "outputs": [
    {
     "name": "stdout",
     "output_type": "stream",
     "text": [
      "En diez años tendré 39 años\n"
     ]
    }
   ],
   "source": [
    "println(\"En diez años tendré $(edad +10) años\")"
   ]
  },
  {
   "cell_type": "markdown",
   "id": "dc226c5d",
   "metadata": {},
   "source": [
    " ## Concatenación de cadenas\n",
    " \n",
    " Existen tres principales maneras de concatenar cadenas en Julia\n",
    " \n",
    " Una es utilizando la función string, otra es utilizando en operador *\n",
    " \n",
    " y otra es con una cadena interpolada\n",
    " "
   ]
  },
  {
   "cell_type": "code",
   "execution_count": 25,
   "id": "8d2caa73",
   "metadata": {},
   "outputs": [],
   "source": [
    "s1= \"¿Cuántos gatos \";\n",
    "s2= \"son demasiados? \";\n",
    "😺=10;"
   ]
  },
  {
   "cell_type": "code",
   "execution_count": 30,
   "id": "b072e54c",
   "metadata": {},
   "outputs": [
    {
     "data": {
      "text/plain": [
       "\"¿Cuántos gatos son demasiados? \""
      ]
     },
     "execution_count": 30,
     "metadata": {},
     "output_type": "execute_result"
    }
   ],
   "source": [
    "##1 Concatenación con la función string\n",
    "string(s1,s2)"
   ]
  },
  {
   "cell_type": "code",
   "execution_count": 27,
   "id": "a4c65a4a",
   "metadata": {},
   "outputs": [
    {
     "name": "stdout",
     "output_type": "stream",
     "text": [
      "¿Cuántos gatos son demasiados? \n"
     ]
    }
   ],
   "source": [
    "##Para imprimir sin comillas\n",
    "println(string(s1,s2))"
   ]
  },
  {
   "cell_type": "code",
   "execution_count": 28,
   "id": "dca8fb16",
   "metadata": {},
   "outputs": [
    {
     "name": "stdout",
     "output_type": "stream",
     "text": [
      "¿Cuántos gatos son demasiados? \n"
     ]
    }
   ],
   "source": [
    "##2 Concatenación con el operador de concatenar ( * )\n",
    "println(s1*s2)"
   ]
  },
  {
   "cell_type": "code",
   "execution_count": 31,
   "id": "40ed0bcc",
   "metadata": {},
   "outputs": [
    {
     "name": "stdout",
     "output_type": "stream",
     "text": [
      "¿Cuántos gatos son demasiados? \n"
     ]
    }
   ],
   "source": [
    "#3 Concatenación con interpolación de cadenas\n",
    "println(\"$s1$s2\")"
   ]
  },
  {
   "cell_type": "markdown",
   "id": "098e1e70",
   "metadata": {},
   "source": [
    "# Ejercicios"
   ]
  },
  {
   "cell_type": "code",
   "execution_count": 32,
   "id": "ab80bd82",
   "metadata": {},
   "outputs": [
    {
     "name": "stdout",
     "output_type": "stream",
     "text": [
      "hi hi hi hi hi hi hi hi hi hi hi hi hi hi hi hi hi hi hi hi hi hi hi hi hi hi hi hi hi hi hi hi hi hi hi hi hi hi hi hi hi hi hi hi hi hi hi hi hi hi hi hi hi hi hi hi hi hi hi hi hi hi hi hi hi hi hi hi hi hi hi hi hi hi hi hi hi hi hi hi hi hi hi hi hi hi hi hi hi hi hi hi hi hi hi hi hi hi hi hi hi hi hi hi hi hi hi hi hi hi hi hi hi hi hi hi hi hi hi hi hi hi hi hi hi hi hi hi hi hi hi hi hi hi hi hi hi hi hi hi hi hi hi hi hi hi hi hi hi hi hi hi hi hi hi hi hi hi hi hi hi hi hi hi hi hi hi hi hi hi hi hi hi hi hi hi hi hi hi hi hi hi hi hi hi hi hi hi hi hi hi hi hi hi hi hi hi hi hi hi hi hi hi hi hi hi hi hi hi hi hi hi hi hi hi hi hi hi hi hi hi hi hi hi hi hi hi hi hi hi hi hi hi hi hi hi hi hi hi hi hi hi hi hi hi hi hi hi hi hi hi hi hi hi hi hi hi hi hi hi hi hi hi hi hi hi hi hi hi hi hi hi hi hi hi hi hi hi hi hi hi hi hi hi hi hi hi hi hi hi hi hi hi hi hi hi hi hi hi hi hi hi hi hi hi hi hi hi hi hi hi hi hi hi hi hi hi hi hi hi hi hi hi hi hi hi hi hi hi hi hi hi hi hi hi hi hi hi hi hi hi hi hi hi hi hi hi hi hi hi hi hi hi hi hi hi hi hi hi hi hi hi hi hi hi hi hi hi hi hi hi hi hi hi hi hi hi hi hi hi hi hi hi hi hi hi hi hi hi hi hi hi hi hi hi hi hi hi hi hi hi hi hi hi hi hi hi hi hi hi hi hi hi hi hi hi hi hi hi hi hi hi hi hi hi hi hi hi hi hi hi hi hi hi hi hi hi hi hi hi hi hi hi hi hi hi hi hi hi hi hi hi hi hi hi hi hi hi hi hi hi hi hi hi hi hi hi hi hi hi hi hi hi hi hi hi hi hi hi hi hi hi hi hi hi hi hi hi hi hi hi hi hi hi hi hi hi hi hi hi hi hi hi hi hi hi hi hi hi hi hi hi hi hi hi hi hi hi hi hi hi hi hi hi hi hi hi hi hi hi hi hi hi hi hi hi hi hi hi hi hi hi hi hi hi hi hi hi hi hi hi hi hi hi hi hi hi hi hi hi hi hi hi hi hi hi hi hi hi hi hi hi hi hi hi hi hi hi hi hi hi hi hi hi hi hi hi hi hi hi hi hi hi hi hi hi hi hi hi hi hi hi hi hi hi hi hi hi hi hi hi hi hi hi hi hi hi hi hi hi hi hi hi hi hi hi hi hi hi hi hi hi hi hi hi hi hi hi hi hi hi hi hi hi hi hi hi hi hi hi hi hi hi hi hi hi hi hi hi hi hi hi hi hi hi hi hi hi hi hi hi hi hi hi hi hi hi hi hi hi hi hi hi hi hi hi hi hi hi hi hi hi hi hi hi hi hi hi hi hi hi hi hi hi hi hi hi hi hi hi hi hi hi hi hi hi hi hi hi hi hi hi hi hi hi hi hi hi hi hi hi hi hi hi hi hi hi hi hi hi hi hi hi hi hi hi hi hi hi hi hi hi hi hi hi hi hi hi hi hi hi hi hi hi hi hi hi hi hi hi hi hi hi hi hi hi hi hi hi hi hi hi hi hi hi hi hi hi hi hi hi hi hi hi hi hi hi hi hi hi hi hi hi hi hi hi hi hi hi hi hi hi hi hi hi hi hi hi hi hi hi hi hi hi hi hi hi hi hi hi hi hi hi hi hi hi hi hi hi hi hi hi hi hi hi hi hi hi hi hi hi hi hi hi hi hi hi hi hi hi hi hi hi hi hi hi hi hi hi hi hi hi hi hi hi hi hi hi hi hi hi hi hi hi hi hi hi hi hi hi hi hi hi hi hi hi hi hi hi hi hi hi hi hi hi hi hi hi hi hi hi hi hi hi hi hi hi hi hi hi hi hi hi hi hi hi hi hi hi hi hi hi hi hi hi hi hi hi hi hi hi hi hi hi hi hi hi hi hi hi hi hi hi hi hi hi hi hi hi hi hi hi hi hi hi hi hi hi hi hi hi hi hi hi hi hi hi hi hi hi hi hi hi hi hi hi hi hi hi hi hi hi hi hi hi hi hi hi hi hi \n"
     ]
    }
   ],
   "source": [
    "println(\"hi \"^1000)"
   ]
  },
  {
   "cell_type": "code",
   "execution_count": 40,
   "id": "327b218a",
   "metadata": {},
   "outputs": [
    {
     "data": {
      "text/plain": [
       "\"3 +4\""
      ]
     },
     "execution_count": 40,
     "metadata": {},
     "output_type": "execute_result"
    }
   ],
   "source": [
    "a=3\n",
    "b=4\n",
    "\n",
    "\"$a +$b\""
   ]
  },
  {
   "cell_type": "code",
   "execution_count": 41,
   "id": "0fb023f8",
   "metadata": {},
   "outputs": [
    {
     "data": {
      "text/plain": [
       "\"7\""
      ]
     },
     "execution_count": 41,
     "metadata": {},
     "output_type": "execute_result"
    }
   ],
   "source": [
    "\"$(a+b)\""
   ]
  },
  {
   "cell_type": "code",
   "execution_count": null,
   "id": "4431c507",
   "metadata": {},
   "outputs": [],
   "source": []
  }
 ],
 "metadata": {
  "kernelspec": {
   "display_name": "Julia 1.6.5",
   "language": "julia",
   "name": "julia-1.6"
  },
  "language_info": {
   "file_extension": ".jl",
   "mimetype": "application/julia",
   "name": "julia",
   "version": "1.6.5"
  }
 },
 "nbformat": 4,
 "nbformat_minor": 5
}

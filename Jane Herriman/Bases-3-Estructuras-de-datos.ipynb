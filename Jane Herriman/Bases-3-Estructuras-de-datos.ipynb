{
 "cells": [
  {
   "cell_type": "markdown",
   "id": "b22aedb4",
   "metadata": {},
   "source": [
    "# Estructuras de Datos simples\n",
    "\n",
    "Es conveniente usar estructuras para almacenar datos, \n",
    "como tuplas, arreglos, o diccionarios.\n",
    "\n",
    "Tipos de estructuras de datos que se cubren:\n",
    "\n",
    "    1.Tuplas\n",
    "    2.Diccionarios\n",
    "    3.Arreglos\n",
    "\n"
   ]
  },
  {
   "cell_type": "markdown",
   "id": "8a2d79ae",
   "metadata": {},
   "source": [
    "## Tuplas\n",
    "\n",
    "Las tuplas son estructuras de datos que consisten en una colección de elementos y que no pueden actualizarse. En cambio a los arreglos y los diccionarios sí se les puede realizar modificaciones.\n"
   ]
  },
  {
   "cell_type": "code",
   "execution_count": 2,
   "id": "79ca478f",
   "metadata": {},
   "outputs": [
    {
     "data": {
      "text/plain": [
       "(\"matemáticas\", \"japonés\", \"español\", \"computación\")"
      ]
     },
     "execution_count": 2,
     "metadata": {},
     "output_type": "execute_result"
    }
   ],
   "source": [
    "##Forma de declarar una tupla\n",
    "\n",
    "materias=(\"matemáticas\",\"japonés\",\"español\",\"computación\")\n"
   ]
  },
  {
   "cell_type": "code",
   "execution_count": 3,
   "id": "1b1a8e23",
   "metadata": {},
   "outputs": [
    {
     "data": {
      "text/plain": [
       "\"matemáticas\""
      ]
     },
     "execution_count": 3,
     "metadata": {},
     "output_type": "execute_result"
    }
   ],
   "source": [
    "#Forma de indexar una tupla\n",
    "materias[1]\n",
    "\n",
    "# Nótese que se indexan con la definición clásica de Números naturales\n"
   ]
  },
  {
   "cell_type": "code",
   "execution_count": 4,
   "id": "a291dc80",
   "metadata": {},
   "outputs": [
    {
     "ename": "LoadError",
     "evalue": "MethodError: no method matching setindex!(::NTuple{4, String}, ::String, ::Int64)",
     "output_type": "error",
     "traceback": [
      "MethodError: no method matching setindex!(::NTuple{4, String}, ::String, ::Int64)",
      "",
      "Stacktrace:",
      " [1] top-level scope",
      "   @ In[4]:2",
      " [2] eval",
      "   @ ./boot.jl:360 [inlined]",
      " [3] include_string(mapexpr::typeof(REPL.softscope), mod::Module, code::String, filename::String)",
      "   @ Base ./loading.jl:1116"
     ]
    }
   ],
   "source": [
    "# Aquí se muestra cómo una tupla no puede ser actualizada\n",
    "materias[1]=\"algebra\"\n"
   ]
  },
  {
   "cell_type": "markdown",
   "id": "d2f3e128",
   "metadata": {},
   "source": [
    "# Diccionarios\n",
    "\n",
    "Son una colección de parejas asociadas de datos, donde un dato llamado llave está asociado a otro dato llamado valor. Al dato llamado valor se le accede y modifica por medio de su llave.\n",
    "\n",
    "Estas colecciones de datos no están ordenadas, a diferencia de las tuplas y de los arreglos. Por lo que no pueden ser indexados"
   ]
  },
  {
   "cell_type": "code",
   "execution_count": 5,
   "id": "693c19ef",
   "metadata": {},
   "outputs": [
    {
     "data": {
      "text/plain": [
       "Dict{String, String} with 2 entries:\n",
       "  \"Arturia Pendragón\"                                 => \"55 54579908\"\n",
       "  \"Constanze Amalie Von Braunschbank Albrechtsberger\" => \"55 57023195\""
      ]
     },
     "execution_count": 5,
     "metadata": {},
     "output_type": "execute_result"
    }
   ],
   "source": [
    "#Un buen ejemplo de un diccionario es una lista telefónica\n",
    "\n",
    "mi_agenda= Dict(\"Arturia Pendragón\" => \"55 54579908\", \n",
    "    \"Constanze Amalie Von Braunschbank Albrechtsberger\" => \"55 57023195\")\n"
   ]
  },
  {
   "cell_type": "code",
   "execution_count": 6,
   "id": "9a14f670",
   "metadata": {},
   "outputs": [
    {
     "data": {
      "text/plain": [
       "\"55 54579908\""
      ]
     },
     "execution_count": 6,
     "metadata": {},
     "output_type": "execute_result"
    }
   ],
   "source": [
    "#Realizamos una consulta\n",
    "mi_agenda[\"Arturia Pendragón\"]"
   ]
  },
  {
   "cell_type": "code",
   "execution_count": 7,
   "id": "31fee834",
   "metadata": {},
   "outputs": [
    {
     "data": {
      "text/plain": [
       "\"55 53070899\""
      ]
     },
     "execution_count": 7,
     "metadata": {},
     "output_type": "execute_result"
    }
   ],
   "source": [
    "#Agregamos otro elemento al diccionario\n",
    "\n",
    "mi_agenda[\"Iris\"]=\"55 53070899\"\n",
    "\n"
   ]
  },
  {
   "cell_type": "code",
   "execution_count": 8,
   "id": "a8a04801",
   "metadata": {},
   "outputs": [
    {
     "data": {
      "text/plain": [
       "Dict{String, String} with 3 entries:\n",
       "  \"Arturia Pendragón\"                                 => \"55 54579908\"\n",
       "  \"Constanze Amalie Von Braunschbank Albrechtsberger\" => \"55 57023195\"\n",
       "  \"Iris\"                                              => \"55 53070899\""
      ]
     },
     "execution_count": 8,
     "metadata": {},
     "output_type": "execute_result"
    }
   ],
   "source": [
    "mi_agenda"
   ]
  },
  {
   "cell_type": "code",
   "execution_count": 9,
   "id": "e0367818",
   "metadata": {},
   "outputs": [
    {
     "data": {
      "text/plain": [
       "\"000 0002\""
      ]
     },
     "execution_count": 9,
     "metadata": {},
     "output_type": "execute_result"
    }
   ],
   "source": [
    "mi_agenda[\"nuevo\"]=\"000 0002\"\n"
   ]
  },
  {
   "cell_type": "code",
   "execution_count": 10,
   "id": "a5ed9918",
   "metadata": {},
   "outputs": [
    {
     "data": {
      "text/plain": [
       "Dict{String, String} with 4 entries:\n",
       "  \"Arturia Pendragón\"                                 => \"55 54579908\"\n",
       "  \"Constanze Amalie Von Braunschbank Albrechtsberger\" => \"55 57023195\"\n",
       "  \"Iris\"                                              => \"55 53070899\"\n",
       "  \"nuevo\"                                             => \"000 0002\""
      ]
     },
     "execution_count": 10,
     "metadata": {},
     "output_type": "execute_result"
    }
   ],
   "source": [
    "mi_agenda"
   ]
  },
  {
   "cell_type": "code",
   "execution_count": 11,
   "id": "817bcf0c",
   "metadata": {},
   "outputs": [],
   "source": [
    "#Removemos un elemento del diccionario\n",
    "\n",
    "pop!(mi_agenda,\"nuevo\");"
   ]
  },
  {
   "cell_type": "code",
   "execution_count": 12,
   "id": "621cea46",
   "metadata": {},
   "outputs": [
    {
     "data": {
      "text/plain": [
       "Dict{String, String} with 3 entries:\n",
       "  \"Arturia Pendragón\"                                 => \"55 54579908\"\n",
       "  \"Constanze Amalie Von Braunschbank Albrechtsberger\" => \"55 57023195\"\n",
       "  \"Iris\"                                              => \"55 53070899\""
      ]
     },
     "execution_count": 12,
     "metadata": {},
     "output_type": "execute_result"
    }
   ],
   "source": [
    "mi_agenda"
   ]
  },
  {
   "cell_type": "code",
   "execution_count": 13,
   "id": "32f78bf7",
   "metadata": {},
   "outputs": [
    {
     "ename": "LoadError",
     "evalue": "KeyError: key 1 not found",
     "output_type": "error",
     "traceback": [
      "KeyError: key 1 not found",
      "",
      "Stacktrace:",
      " [1] getindex(h::Dict{String, String}, key::Int64)",
      "   @ Base ./dict.jl:482",
      " [2] top-level scope",
      "   @ In[13]:2",
      " [3] eval",
      "   @ ./boot.jl:360 [inlined]",
      " [4] include_string(mapexpr::typeof(REPL.softscope), mod::Module, code::String, filename::String)",
      "   @ Base ./loading.jl:1116"
     ]
    }
   ],
   "source": [
    "#Demostramos que los diccionarios no se los puede indexar\n",
    "mi_agenda[1]"
   ]
  },
  {
   "cell_type": "markdown",
   "id": "2b4fa1b2",
   "metadata": {},
   "source": [
    "## Arreglos\n",
    "\n",
    "Los arreglos son colecciones ordenadas de datos, que pueden se indexados. A diferencia de las tuplas, los arreglos sí pueden ser modificados.\n",
    "\n",
    "Podemos crear arreglos encerrando entre corchetes una colección de datos.\n",
    "\n",
    "Sintaxis:\n",
    "\n",
    "    [elemento1, elemento2, ...]\n",
    "    \n",
    "Por ejemplo, se pueden crear un arreglo para llevar el registro de los amigos que tiene una persona:\n"
   ]
  },
  {
   "cell_type": "code",
   "execution_count": 14,
   "id": "26d19ab5",
   "metadata": {},
   "outputs": [
    {
     "data": {
      "text/plain": [
       "6-element Vector{String}:\n",
       " \"María\"\n",
       " \"Lucía\"\n",
       " \"Sofía\"\n",
       " \"Pedro\"\n",
       " \"Tomás\"\n",
       " \"Alfredo\""
      ]
     },
     "execution_count": 14,
     "metadata": {},
     "output_type": "execute_result"
    }
   ],
   "source": [
    "misAmigos = [\"María\", \"Lucía\", \"Sofía\", \"Pedro\", \"Tomás\",\"Alfredo\"]"
   ]
  },
  {
   "cell_type": "markdown",
   "id": "c89d2b28",
   "metadata": {},
   "source": [
    "O se puede utilizar para almacenar una secuencia de números"
   ]
  },
  {
   "cell_type": "code",
   "execution_count": 15,
   "id": "109e6046",
   "metadata": {},
   "outputs": [
    {
     "data": {
      "text/plain": [
       "7-element Vector{Int64}:\n",
       "  1\n",
       "  1\n",
       "  2\n",
       "  3\n",
       "  5\n",
       "  8\n",
       " 13"
      ]
     },
     "execution_count": 15,
     "metadata": {},
     "output_type": "execute_result"
    }
   ],
   "source": [
    "fibonacci = [1, 1, 2, 3, 5, 8, 13]"
   ]
  },
  {
   "cell_type": "code",
   "execution_count": 16,
   "id": "de1c2b83",
   "metadata": {},
   "outputs": [
    {
     "data": {
      "text/plain": [
       "6-element Vector{Any}:\n",
       " 1\n",
       " 1\n",
       " 2\n",
       " 3\n",
       "  \"Tomás\"\n",
       "  \"Marcos\""
      ]
     },
     "execution_count": 16,
     "metadata": {},
     "output_type": "execute_result"
    }
   ],
   "source": [
    "mezcla = [1, 1, 2, 3, \"Tomás\", \"Marcos\"]"
   ]
  },
  {
   "cell_type": "code",
   "execution_count": 17,
   "id": "3cca8841",
   "metadata": {},
   "outputs": [
    {
     "data": {
      "text/plain": [
       "\"Alfredo\""
      ]
     },
     "execution_count": 17,
     "metadata": {},
     "output_type": "execute_result"
    }
   ],
   "source": [
    "misAmigos[6]"
   ]
  },
  {
   "cell_type": "markdown",
   "id": "80493792",
   "metadata": {},
   "source": [
    "Se puede editar un elemento existente de un arreglo usando el indexado"
   ]
  },
  {
   "cell_type": "code",
   "execution_count": 18,
   "id": "1f57e751",
   "metadata": {},
   "outputs": [
    {
     "data": {
      "text/plain": [
       "\"Carlos\""
      ]
     },
     "execution_count": 18,
     "metadata": {},
     "output_type": "execute_result"
    }
   ],
   "source": [
    "misAmigos[6]=\"Carlos\""
   ]
  },
  {
   "cell_type": "markdown",
   "id": "78b5c864",
   "metadata": {},
   "source": [
    "También se pueden editar arreglos usando las funciones push! y pop!\n",
    "\n",
    "push! añade un elemento al final de un arreglo\n",
    "\n",
    "pop! remueve el último elemento de un arreglo\n",
    "\n",
    "\n",
    "De esta manera se puede añadir otro número a nuestra secuencia de Fibonacci"
   ]
  },
  {
   "cell_type": "code",
   "execution_count": 19,
   "id": "64d2ca4e",
   "metadata": {},
   "outputs": [
    {
     "data": {
      "text/plain": [
       "8-element Vector{Int64}:\n",
       "  1\n",
       "  1\n",
       "  2\n",
       "  3\n",
       "  5\n",
       "  8\n",
       " 13\n",
       " 21"
      ]
     },
     "execution_count": 19,
     "metadata": {},
     "output_type": "execute_result"
    }
   ],
   "source": [
    "push!(fibonacci,21)"
   ]
  },
  {
   "cell_type": "markdown",
   "id": "60972591",
   "metadata": {},
   "source": [
    "Y luego removerlo"
   ]
  },
  {
   "cell_type": "code",
   "execution_count": 20,
   "id": "3c2ce817",
   "metadata": {},
   "outputs": [
    {
     "data": {
      "text/plain": [
       "21"
      ]
     },
     "execution_count": 20,
     "metadata": {},
     "output_type": "execute_result"
    }
   ],
   "source": [
    "pop!(fibonacci)"
   ]
  },
  {
   "cell_type": "code",
   "execution_count": 21,
   "id": "77d3edf8",
   "metadata": {
    "scrolled": false
   },
   "outputs": [
    {
     "data": {
      "text/plain": [
       "7-element Vector{Int64}:\n",
       "  1\n",
       "  1\n",
       "  2\n",
       "  3\n",
       "  5\n",
       "  8\n",
       " 13"
      ]
     },
     "execution_count": 21,
     "metadata": {},
     "output_type": "execute_result"
    }
   ],
   "source": [
    "fibonacci"
   ]
  },
  {
   "cell_type": "markdown",
   "id": "88e83ad4",
   "metadata": {},
   "source": [
    "En Julia los arreglos unidimensionales reciben el nombre de vectores.\n",
    "\n",
    "Mientras que los arreglos multidimencionales de mxn, reciben el nombre de matrices.\n",
    "\n",
    "También pueden almacenar otros arreglos\n"
   ]
  },
  {
   "cell_type": "code",
   "execution_count": 22,
   "id": "f6806048",
   "metadata": {},
   "outputs": [
    {
     "data": {
      "text/plain": [
       "2-element Vector{Vector{String}}:\n",
       " [\"chocolate\", \"leche\", \"huevos\"]\n",
       " [\"gatos\", \"aves\", \"french puddles\"]"
      ]
     },
     "execution_count": 22,
     "metadata": {},
     "output_type": "execute_result"
    }
   ],
   "source": [
    "#=Aquí por ejemplo vamos a hacer la declaración de un arreglo de arreglos, \n",
    "que es un arreglo que contiene elementos que son arreglos.\n",
    "\n",
    "En este caso particular se declara un arreglo de arreglo de cadenas. Su\n",
    "firma es un arreglo de una dimensión (vector) de arreglos de una dimensión \n",
    "(vector) que almacenan cadenas. \n",
    "\n",
    "Dicho de otra forma es arreglo es un arreglo de dos elementos, donde cada\n",
    "elemento es un arreglo de 3 cadenas\n",
    "=#\n",
    "\n",
    "favoritos=[[\"chocolate\", \"leche\", \"huevos\"],[\"gatos\",\"aves\",\"french puddles\"]]"
   ]
  },
  {
   "cell_type": "code",
   "execution_count": 23,
   "id": "23799e0e",
   "metadata": {},
   "outputs": [
    {
     "data": {
      "text/plain": [
       "3-element Vector{Vector{Int64}}:\n",
       " [1, 2, 3]\n",
       " [4, 5]\n",
       " [6, 7, 8, 9]"
      ]
     },
     "execution_count": 23,
     "metadata": {},
     "output_type": "execute_result"
    }
   ],
   "source": [
    "#= \n",
    "Mientras aquí se tiene un vector de vectores que almacenan enteros de 64 bits\n",
    "=#\n",
    "\n",
    "numbers = [[1, 2, 3],[4, 5],[6, 7, 8, 9]]"
   ]
  },
  {
   "cell_type": "code",
   "execution_count": 24,
   "id": "0557abad",
   "metadata": {},
   "outputs": [
    {
     "data": {
      "text/plain": [
       "4×3 Matrix{Float64}:\n",
       " 0.427306  0.232608   0.0815394\n",
       " 0.654173  0.0280201  0.463646\n",
       " 0.556565  0.979542   0.165882\n",
       " 0.411545  0.0200134  0.541814"
      ]
     },
     "execution_count": 24,
     "metadata": {},
     "output_type": "execute_result"
    }
   ],
   "source": [
    "#= La función rand permite generar matrices de mxn donde cada elemento es\n",
    "un flotante entre 0 y 1, generado con números únicos pseudoaleatorios\n",
    "=#\n",
    "rand(4,3)"
   ]
  },
  {
   "cell_type": "code",
   "execution_count": 25,
   "id": "bc588ee7",
   "metadata": {},
   "outputs": [
    {
     "data": {
      "text/plain": [
       "4×3×2 Array{Float64, 3}:\n",
       "[:, :, 1] =\n",
       " 0.975514  0.0190537  0.0524136\n",
       " 0.837734  0.888464   0.477563\n",
       " 0.993144  0.397881   0.620022\n",
       " 0.432618  0.745196   0.288465\n",
       "\n",
       "[:, :, 2] =\n",
       " 0.975406  0.624727  0.0347257\n",
       " 0.216466  0.599178  0.389502\n",
       " 0.320223  0.428348  0.536963\n",
       " 0.751216  0.193344  0.803462"
      ]
     },
     "execution_count": 25,
     "metadata": {},
     "output_type": "execute_result"
    }
   ],
   "source": [
    "#=Aquí se utiliza rand() con la finalidad de generar un arreglo \n",
    "multidimensional tridimensional\n",
    "=#\n",
    "\n",
    "rand(4,3,2)"
   ]
  },
  {
   "cell_type": "code",
   "execution_count": 26,
   "id": "ae215a40",
   "metadata": {},
   "outputs": [
    {
     "data": {
      "text/plain": [
       "7-element Vector{Int64}:\n",
       "  1\n",
       "  1\n",
       "  2\n",
       "  3\n",
       "  5\n",
       "  8\n",
       " 13"
      ]
     },
     "execution_count": 26,
     "metadata": {},
     "output_type": "execute_result"
    }
   ],
   "source": [
    "#=Hay que tener cuidado con esta tipo declaración que se escribió para\n",
    "intentar copiar un arreglo. Ya que no copia el  arreglo  fibonacci  en \n",
    "es_copia, más bien declara un nuevo nombre o sinónimo para la \n",
    "estructura de datos ya existente de fibonacci.\n",
    "=#\n",
    "\n",
    "es_copia=fibonacci\n"
   ]
  },
  {
   "cell_type": "code",
   "execution_count": 27,
   "id": "3d5a2376",
   "metadata": {},
   "outputs": [
    {
     "data": {
      "text/plain": [
       "404"
      ]
     },
     "execution_count": 27,
     "metadata": {},
     "output_type": "execute_result"
    }
   ],
   "source": [
    "#=Aquí se modifica el primer elemento de es_copia. Sin embargo, dado que \n",
    "es sinónimo de fibonacci, lo que ocurrirá es que el arreglo fibonacci se \n",
    "verá alterado en su primer elemento\n",
    "=#\n",
    "es_copia[1]=404"
   ]
  },
  {
   "cell_type": "code",
   "execution_count": 28,
   "id": "e97067bc",
   "metadata": {},
   "outputs": [
    {
     "data": {
      "text/plain": [
       "7-element Vector{Int64}:\n",
       " 404\n",
       "   1\n",
       "   2\n",
       "   3\n",
       "   5\n",
       "   8\n",
       "  13"
      ]
     },
     "execution_count": 28,
     "metadata": {},
     "output_type": "execute_result"
    }
   ],
   "source": [
    "#=Aquí se muestra que los cambios en fibonacci, realizados por medio de su\n",
    "sinónimo. Tal y cómo se esperaba.\n",
    "\n",
    "=#\n",
    "\n",
    "fibonacci"
   ]
  },
  {
   "cell_type": "code",
   "execution_count": 30,
   "id": "c2e111c9",
   "metadata": {},
   "outputs": [
    {
     "data": {
      "text/plain": [
       "7-element Vector{Int64}:\n",
       "  1\n",
       "  1\n",
       "  2\n",
       "  3\n",
       "  5\n",
       "  8\n",
       " 13"
      ]
     },
     "execution_count": 30,
     "metadata": {},
     "output_type": "execute_result"
    }
   ],
   "source": [
    "# Se restaura a Fibonacci\n",
    "fibonacci[1]= 1\n",
    "fibonacci"
   ]
  },
  {
   "cell_type": "code",
   "execution_count": 32,
   "id": "3f7deb74",
   "metadata": {},
   "outputs": [
    {
     "data": {
      "text/plain": [
       "7-element Vector{Int64}:\n",
       "  1\n",
       "  1\n",
       "  2\n",
       "  3\n",
       "  5\n",
       "  8\n",
       " 13"
      ]
     },
     "execution_count": 32,
     "metadata": {},
     "output_type": "execute_result"
    }
   ],
   "source": [
    "#= Para definir un arreglo que sea la copia\n",
    "de otro arreglo, se utiliza la función copy()\n",
    "=#\n",
    "\n",
    "es_copia=copy(fibonacci)"
   ]
  },
  {
   "cell_type": "code",
   "execution_count": 35,
   "id": "c90f71d4",
   "metadata": {},
   "outputs": [
    {
     "data": {
      "text/plain": [
       "404"
      ]
     },
     "execution_count": 35,
     "metadata": {},
     "output_type": "execute_result"
    }
   ],
   "source": [
    "es_copia[1]=404"
   ]
  },
  {
   "cell_type": "code",
   "execution_count": 36,
   "id": "47736c55",
   "metadata": {},
   "outputs": [
    {
     "data": {
      "text/plain": [
       "7-element Vector{Int64}:\n",
       "  1\n",
       "  1\n",
       "  2\n",
       "  3\n",
       "  5\n",
       "  8\n",
       " 13"
      ]
     },
     "execution_count": 36,
     "metadata": {},
     "output_type": "execute_result"
    }
   ],
   "source": [
    "#=Aquí se observa que Fibonacci no fue actualizada\n",
    "por lo que se realizó la copia exitosamente\n",
    "\n",
    "=#\n",
    "\n",
    "fibonacci"
   ]
  },
  {
   "cell_type": "markdown",
   "id": "61cbccd3",
   "metadata": {},
   "source": [
    "Ejercicios"
   ]
  },
  {
   "cell_type": "code",
   "execution_count": 37,
   "id": "ec9b196a",
   "metadata": {},
   "outputs": [
    {
     "data": {
      "text/plain": [
       "3-element Vector{Int64}:\n",
       " 1\n",
       " 2\n",
       " 3"
      ]
     },
     "execution_count": 37,
     "metadata": {},
     "output_type": "execute_result"
    }
   ],
   "source": [
    "#= 1)\n",
    "=#\n",
    "a_ray =[1, 2, 3]"
   ]
  },
  {
   "cell_type": "code",
   "execution_count": 39,
   "id": "ea71a66a",
   "metadata": {},
   "outputs": [
    {
     "data": {
      "text/plain": [
       "4-element Vector{Int64}:\n",
       " 1\n",
       " 2\n",
       " 3\n",
       " 4"
      ]
     },
     "execution_count": 39,
     "metadata": {},
     "output_type": "execute_result"
    }
   ],
   "source": [
    "push!(a_ray,4)"
   ]
  },
  {
   "cell_type": "code",
   "execution_count": 43,
   "id": "1d659241",
   "metadata": {},
   "outputs": [
    {
     "data": {
      "text/plain": [
       "4"
      ]
     },
     "execution_count": 43,
     "metadata": {},
     "output_type": "execute_result"
    }
   ],
   "source": [
    "pop!(a_ray)"
   ]
  },
  {
   "cell_type": "code",
   "execution_count": 44,
   "id": "62575616",
   "metadata": {},
   "outputs": [
    {
     "data": {
      "text/plain": [
       "3-element Vector{Int64}:\n",
       " 1\n",
       " 2\n",
       " 3"
      ]
     },
     "execution_count": 44,
     "metadata": {},
     "output_type": "execute_result"
    }
   ],
   "source": [
    "a_ray"
   ]
  },
  {
   "cell_type": "code",
   "execution_count": 45,
   "id": "f06b4b0e",
   "metadata": {},
   "outputs": [
    {
     "data": {
      "text/plain": [
       "Dict{Any, Any}()"
      ]
     },
     "execution_count": 45,
     "metadata": {},
     "output_type": "execute_result"
    }
   ],
   "source": [
    "#=Cuando se declara un diccionario sin especificar su contenido,\n",
    "este por defecto en Julia adquiere un tipo any para las llaves y para sus valores \n",
    "=#\n",
    "\n",
    "a= Dict()"
   ]
  },
  {
   "cell_type": "code",
   "execution_count": 47,
   "id": "f5d10382",
   "metadata": {},
   "outputs": [
    {
     "data": {
      "text/plain": [
       "Dict{Any, Any} with 2 entries:\n",
       "  2 => 3432\n",
       "  1 => \"hola\""
      ]
     },
     "execution_count": 47,
     "metadata": {},
     "output_type": "execute_result"
    }
   ],
   "source": [
    "a[1]=\"hola\"\n",
    "a[2]=3432\n",
    "a"
   ]
  },
  {
   "cell_type": "code",
   "execution_count": 48,
   "id": "f39cee27",
   "metadata": {},
   "outputs": [
    {
     "data": {
      "text/plain": [
       "Dict{String, Int64} with 2 entries:\n",
       "  \"2342\" => 1\n",
       "  \"1234\" => 2"
      ]
     },
     "execution_count": 48,
     "metadata": {},
     "output_type": "execute_result"
    }
   ],
   "source": [
    "#=Cuando se define un diccionario con todas las llaves del mismo tipo \n",
    "y los valores para cada llave del mismo tipo. Julia define este diccionario \n",
    "con base en estos tipos por defecto. Sin que se puedan agregar parejas de datos\n",
    "cuyos tipos no correspondan con estos tipos por defecto.\n",
    "\n",
    "Tal y cómo se muestra a continuación:\n",
    "=#\n",
    "\n",
    "a=Dict(\"2342\" => 1,\"1234\" =>2)\n"
   ]
  },
  {
   "cell_type": "code",
   "execution_count": 49,
   "id": "aa998f44",
   "metadata": {},
   "outputs": [
    {
     "ename": "LoadError",
     "evalue": "MethodError: \u001b[0mCannot `convert` an object of type \u001b[92mInt64\u001b[39m\u001b[0m to an object of type \u001b[91mString\u001b[39m\n\u001b[0mClosest candidates are:\n\u001b[0m  convert(::Type{String}, \u001b[91m::String\u001b[39m) at essentials.jl:210\n\u001b[0m  convert(::Type{T}, \u001b[91m::T\u001b[39m) where T<:AbstractString at strings/basic.jl:231\n\u001b[0m  convert(::Type{T}, \u001b[91m::AbstractString\u001b[39m) where T<:AbstractString at strings/basic.jl:232\n\u001b[0m  ...",
     "output_type": "error",
     "traceback": [
      "MethodError: \u001b[0mCannot `convert` an object of type \u001b[92mInt64\u001b[39m\u001b[0m to an object of type \u001b[91mString\u001b[39m\n\u001b[0mClosest candidates are:\n\u001b[0m  convert(::Type{String}, \u001b[91m::String\u001b[39m) at essentials.jl:210\n\u001b[0m  convert(::Type{T}, \u001b[91m::T\u001b[39m) where T<:AbstractString at strings/basic.jl:231\n\u001b[0m  convert(::Type{T}, \u001b[91m::AbstractString\u001b[39m) where T<:AbstractString at strings/basic.jl:232\n\u001b[0m  ...",
      "",
      "Stacktrace:",
      " [1] setindex!(h::Dict{String, Int64}, v0::Int64, key0::Int64)",
      "   @ Base ./dict.jl:374",
      " [2] top-level scope",
      "   @ In[49]:1",
      " [3] eval",
      "   @ ./boot.jl:360 [inlined]",
      " [4] include_string(mapexpr::typeof(REPL.softscope), mod::Module, code::String, filename::String)",
      "   @ Base ./loading.jl:1116"
     ]
    }
   ],
   "source": [
    "a[3]=4"
   ]
  },
  {
   "cell_type": "code",
   "execution_count": 56,
   "id": "231dbea1",
   "metadata": {},
   "outputs": [
    {
     "data": {
      "text/plain": [
       "Dict{Any, Any} with 1 entry:\n",
       "  1 => \"casa\""
      ]
     },
     "execution_count": 56,
     "metadata": {},
     "output_type": "execute_result"
    }
   ],
   "source": [
    "#= \n",
    "Para evitar esto, y hacer mezclas de datos\n",
    "se tiene que especificar que los tipos para las llaves y sus valores son de tipo \n",
    "any.\n",
    "\n",
    "Tal y cómo se muestra a continuación.\n",
    "=#\n",
    "\n",
    "a=Dict{Any,Any}(1 =>\"casa\")\n",
    "\n",
    "#=Esta identación para especificar los tipos de un diccionario son válidos \n",
    "también para los arreglos\n",
    "\n",
    "=#"
   ]
  },
  {
   "cell_type": "code",
   "execution_count": 53,
   "id": "b363d89b",
   "metadata": {},
   "outputs": [
    {
     "data": {
      "text/plain": [
       "Dict{String, Any} with 2 entries:\n",
       "  \"Juana\"  => 530201\n",
       "  \"Amigos\" => \"55-2716\""
      ]
     },
     "execution_count": 53,
     "metadata": {},
     "output_type": "execute_result"
    }
   ],
   "source": [
    "#= 2)\n",
    "\n",
    "=#\n",
    "\n",
    "agenda_flexible=Dict(\"Juana\"=> 530201, \"Amigos\" => \"55-2716\")"
   ]
  },
  {
   "cell_type": "code",
   "execution_count": 54,
   "id": "2a1d3d82",
   "metadata": {},
   "outputs": [
    {
     "data": {
      "text/plain": [
       "911"
      ]
     },
     "execution_count": 54,
     "metadata": {},
     "output_type": "execute_result"
    }
   ],
   "source": [
    "agenda_flexible[\"Emergencia\"]=911"
   ]
  },
  {
   "cell_type": "code",
   "execution_count": 63,
   "id": "8af3efa6",
   "metadata": {},
   "outputs": [
    {
     "data": {
      "text/plain": [
       "false"
      ]
     },
     "execution_count": 63,
     "metadata": {},
     "output_type": "execute_result"
    }
   ],
   "source": [
    "a=[1,2,3]\n",
    "b=Array(a) #Array construye un nuevo arreglo duplicando otro arreglo que reciba de entrada\n",
    "b[1]=3\n",
    "b==a"
   ]
  },
  {
   "cell_type": "code",
   "execution_count": 58,
   "id": "61690c70",
   "metadata": {},
   "outputs": [
    {
     "data": {
      "text/plain": [
       "3-element Vector{Int64}:\n",
       " 1\n",
       " 2\n",
       " 3"
      ]
     },
     "execution_count": 58,
     "metadata": {},
     "output_type": "execute_result"
    }
   ],
   "source": [
    "a"
   ]
  },
  {
   "cell_type": "code",
   "execution_count": 59,
   "id": "9b1fd040",
   "metadata": {},
   "outputs": [
    {
     "data": {
      "text/plain": [
       "3-element Vector{Int64}:\n",
       " 3\n",
       " 2\n",
       " 3"
      ]
     },
     "execution_count": 59,
     "metadata": {},
     "output_type": "execute_result"
    }
   ],
   "source": [
    "b"
   ]
  },
  {
   "cell_type": "code",
   "execution_count": 61,
   "id": "958aa470",
   "metadata": {},
   "outputs": [
    {
     "name": "stdout",
     "output_type": "stream",
     "text": [
      "search: \u001b[0m\u001b[1mA\u001b[22m\u001b[0m\u001b[1mr\u001b[22m\u001b[0m\u001b[1mr\u001b[22m\u001b[0m\u001b[1ma\u001b[22m\u001b[0m\u001b[1my\u001b[22m Sub\u001b[0m\u001b[1mA\u001b[22m\u001b[0m\u001b[1mr\u001b[22m\u001b[0m\u001b[1mr\u001b[22m\u001b[0m\u001b[1ma\u001b[22m\u001b[0m\u001b[1my\u001b[22m Bit\u001b[0m\u001b[1mA\u001b[22m\u001b[0m\u001b[1mr\u001b[22m\u001b[0m\u001b[1mr\u001b[22m\u001b[0m\u001b[1ma\u001b[22m\u001b[0m\u001b[1my\u001b[22m Dense\u001b[0m\u001b[1mA\u001b[22m\u001b[0m\u001b[1mr\u001b[22m\u001b[0m\u001b[1mr\u001b[22m\u001b[0m\u001b[1ma\u001b[22m\u001b[0m\u001b[1my\u001b[22m Strided\u001b[0m\u001b[1mA\u001b[22m\u001b[0m\u001b[1mr\u001b[22m\u001b[0m\u001b[1mr\u001b[22m\u001b[0m\u001b[1ma\u001b[22m\u001b[0m\u001b[1my\u001b[22m PermutedDims\u001b[0m\u001b[1mA\u001b[22m\u001b[0m\u001b[1mr\u001b[22m\u001b[0m\u001b[1mr\u001b[22m\u001b[0m\u001b[1ma\u001b[22m\u001b[0m\u001b[1my\u001b[22m\n",
      "\n"
     ]
    },
    {
     "data": {
      "text/latex": [
       "\\begin{verbatim}\n",
       "Array{T,N} <: AbstractArray{T,N}\n",
       "\\end{verbatim}\n",
       "\\texttt{N}-dimensional dense array with elements of type \\texttt{T}.\n",
       "\n",
       "\\rule{\\textwidth}{1pt}\n",
       "\\begin{verbatim}\n",
       "Array{T}(undef, dims)\n",
       "Array{T,N}(undef, dims)\n",
       "\\end{verbatim}\n",
       "Construct an uninitialized \\texttt{N}-dimensional \\href{@ref}{\\texttt{Array}} containing elements of type \\texttt{T}. \\texttt{N} can either be supplied explicitly, as in \\texttt{Array\\{T,N\\}(undef, dims)}, or be determined by the length or number of \\texttt{dims}. \\texttt{dims} may be a tuple or a series of integer arguments corresponding to the lengths in each dimension. If the rank \\texttt{N} is supplied explicitly, then it must match the length or number of \\texttt{dims}. See \\href{@ref}{\\texttt{undef}}.\n",
       "\n",
       "\\section{Examples}\n",
       "\\begin{verbatim}\n",
       "julia> A = Array{Float64, 2}(undef, 2, 3) # N given explicitly\n",
       "2×3 Array{Float64, 2}:\n",
       " 6.90198e-310  6.90198e-310  6.90198e-310\n",
       " 6.90198e-310  6.90198e-310  0.0\n",
       "\n",
       "julia> B = Array{Float64}(undef, 2) # N determined by the input\n",
       "2-element Array{Float64, 1}:\n",
       " 1.87103e-320\n",
       " 0.0\n",
       "\\end{verbatim}\n",
       "\\rule{\\textwidth}{1pt}\n",
       "\\begin{verbatim}\n",
       "Array{T}(nothing, dims)\n",
       "Array{T,N}(nothing, dims)\n",
       "\\end{verbatim}\n",
       "Construct an \\texttt{N}-dimensional \\href{@ref}{\\texttt{Array}} containing elements of type \\texttt{T}, initialized with \\href{@ref}{\\texttt{nothing}} entries. Element type \\texttt{T} must be able to hold these values, i.e. \\texttt{Nothing <: T}.\n",
       "\n",
       "\\section{Examples}\n",
       "\\begin{verbatim}\n",
       "julia> Array{Union{Nothing, String}}(nothing, 2)\n",
       "2-element Vector{Union{Nothing, String}}:\n",
       " nothing\n",
       " nothing\n",
       "\n",
       "julia> Array{Union{Nothing, Int}}(nothing, 2, 3)\n",
       "2×3 Matrix{Union{Nothing, Int64}}:\n",
       " nothing  nothing  nothing\n",
       " nothing  nothing  nothing\n",
       "\\end{verbatim}\n",
       "\\rule{\\textwidth}{1pt}\n",
       "\\begin{verbatim}\n",
       "Array{T}(missing, dims)\n",
       "Array{T,N}(missing, dims)\n",
       "\\end{verbatim}\n",
       "Construct an \\texttt{N}-dimensional \\href{@ref}{\\texttt{Array}} containing elements of type \\texttt{T}, initialized with \\href{@ref}{\\texttt{missing}} entries. Element type \\texttt{T} must be able to hold these values, i.e. \\texttt{Missing <: T}.\n",
       "\n",
       "\\section{Examples}\n",
       "\\begin{verbatim}\n",
       "julia> Array{Union{Missing, String}}(missing, 2)\n",
       "2-element Vector{Union{Missing, String}}:\n",
       " missing\n",
       " missing\n",
       "\n",
       "julia> Array{Union{Missing, Int}}(missing, 2, 3)\n",
       "2×3 Matrix{Union{Missing, Int64}}:\n",
       " missing  missing  missing\n",
       " missing  missing  missing\n",
       "\\end{verbatim}\n"
      ],
      "text/markdown": [
       "```\n",
       "Array{T,N} <: AbstractArray{T,N}\n",
       "```\n",
       "\n",
       "`N`-dimensional dense array with elements of type `T`.\n",
       "\n",
       "---\n",
       "\n",
       "```\n",
       "Array{T}(undef, dims)\n",
       "Array{T,N}(undef, dims)\n",
       "```\n",
       "\n",
       "Construct an uninitialized `N`-dimensional [`Array`](@ref) containing elements of type `T`. `N` can either be supplied explicitly, as in `Array{T,N}(undef, dims)`, or be determined by the length or number of `dims`. `dims` may be a tuple or a series of integer arguments corresponding to the lengths in each dimension. If the rank `N` is supplied explicitly, then it must match the length or number of `dims`. See [`undef`](@ref).\n",
       "\n",
       "# Examples\n",
       "\n",
       "```julia-repl\n",
       "julia> A = Array{Float64, 2}(undef, 2, 3) # N given explicitly\n",
       "2×3 Array{Float64, 2}:\n",
       " 6.90198e-310  6.90198e-310  6.90198e-310\n",
       " 6.90198e-310  6.90198e-310  0.0\n",
       "\n",
       "julia> B = Array{Float64}(undef, 2) # N determined by the input\n",
       "2-element Array{Float64, 1}:\n",
       " 1.87103e-320\n",
       " 0.0\n",
       "```\n",
       "\n",
       "---\n",
       "\n",
       "```\n",
       "Array{T}(nothing, dims)\n",
       "Array{T,N}(nothing, dims)\n",
       "```\n",
       "\n",
       "Construct an `N`-dimensional [`Array`](@ref) containing elements of type `T`, initialized with [`nothing`](@ref) entries. Element type `T` must be able to hold these values, i.e. `Nothing <: T`.\n",
       "\n",
       "# Examples\n",
       "\n",
       "```jldoctest\n",
       "julia> Array{Union{Nothing, String}}(nothing, 2)\n",
       "2-element Vector{Union{Nothing, String}}:\n",
       " nothing\n",
       " nothing\n",
       "\n",
       "julia> Array{Union{Nothing, Int}}(nothing, 2, 3)\n",
       "2×3 Matrix{Union{Nothing, Int64}}:\n",
       " nothing  nothing  nothing\n",
       " nothing  nothing  nothing\n",
       "```\n",
       "\n",
       "---\n",
       "\n",
       "```\n",
       "Array{T}(missing, dims)\n",
       "Array{T,N}(missing, dims)\n",
       "```\n",
       "\n",
       "Construct an `N`-dimensional [`Array`](@ref) containing elements of type `T`, initialized with [`missing`](@ref) entries. Element type `T` must be able to hold these values, i.e. `Missing <: T`.\n",
       "\n",
       "# Examples\n",
       "\n",
       "```jldoctest\n",
       "julia> Array{Union{Missing, String}}(missing, 2)\n",
       "2-element Vector{Union{Missing, String}}:\n",
       " missing\n",
       " missing\n",
       "\n",
       "julia> Array{Union{Missing, Int}}(missing, 2, 3)\n",
       "2×3 Matrix{Union{Missing, Int64}}:\n",
       " missing  missing  missing\n",
       " missing  missing  missing\n",
       "```\n"
      ],
      "text/plain": [
       "\u001b[36m  Array{T,N} <: AbstractArray{T,N}\u001b[39m\n",
       "\n",
       "  \u001b[36mN\u001b[39m-dimensional dense array with elements of type \u001b[36mT\u001b[39m.\n",
       "\n",
       "  ────────────────────────────────────────────────────────────────────────────\n",
       "\n",
       "\u001b[36m  Array{T}(undef, dims)\u001b[39m\n",
       "\u001b[36m  Array{T,N}(undef, dims)\u001b[39m\n",
       "\n",
       "  Construct an uninitialized \u001b[36mN\u001b[39m-dimensional \u001b[36mArray\u001b[39m containing elements of type\n",
       "  \u001b[36mT\u001b[39m. \u001b[36mN\u001b[39m can either be supplied explicitly, as in \u001b[36mArray{T,N}(undef, dims)\u001b[39m, or be\n",
       "  determined by the length or number of \u001b[36mdims\u001b[39m. \u001b[36mdims\u001b[39m may be a tuple or a series\n",
       "  of integer arguments corresponding to the lengths in each dimension. If the\n",
       "  rank \u001b[36mN\u001b[39m is supplied explicitly, then it must match the length or number of\n",
       "  \u001b[36mdims\u001b[39m. See \u001b[36mundef\u001b[39m.\n",
       "\n",
       "\u001b[1m  Examples\u001b[22m\n",
       "\u001b[1m  ≡≡≡≡≡≡≡≡≡≡\u001b[22m\n",
       "\n",
       "\u001b[36m  julia> A = Array{Float64, 2}(undef, 2, 3) # N given explicitly\u001b[39m\n",
       "\u001b[36m  2×3 Array{Float64, 2}:\u001b[39m\n",
       "\u001b[36m   6.90198e-310  6.90198e-310  6.90198e-310\u001b[39m\n",
       "\u001b[36m   6.90198e-310  6.90198e-310  0.0\u001b[39m\n",
       "\u001b[36m  \u001b[39m\n",
       "\u001b[36m  julia> B = Array{Float64}(undef, 2) # N determined by the input\u001b[39m\n",
       "\u001b[36m  2-element Array{Float64, 1}:\u001b[39m\n",
       "\u001b[36m   1.87103e-320\u001b[39m\n",
       "\u001b[36m   0.0\u001b[39m\n",
       "\n",
       "  ────────────────────────────────────────────────────────────────────────────\n",
       "\n",
       "\u001b[36m  Array{T}(nothing, dims)\u001b[39m\n",
       "\u001b[36m  Array{T,N}(nothing, dims)\u001b[39m\n",
       "\n",
       "  Construct an \u001b[36mN\u001b[39m-dimensional \u001b[36mArray\u001b[39m containing elements of type \u001b[36mT\u001b[39m, initialized\n",
       "  with \u001b[36mnothing\u001b[39m entries. Element type \u001b[36mT\u001b[39m must be able to hold these values, i.e.\n",
       "  \u001b[36mNothing <: T\u001b[39m.\n",
       "\n",
       "\u001b[1m  Examples\u001b[22m\n",
       "\u001b[1m  ≡≡≡≡≡≡≡≡≡≡\u001b[22m\n",
       "\n",
       "\u001b[36m  julia> Array{Union{Nothing, String}}(nothing, 2)\u001b[39m\n",
       "\u001b[36m  2-element Vector{Union{Nothing, String}}:\u001b[39m\n",
       "\u001b[36m   nothing\u001b[39m\n",
       "\u001b[36m   nothing\u001b[39m\n",
       "\u001b[36m  \u001b[39m\n",
       "\u001b[36m  julia> Array{Union{Nothing, Int}}(nothing, 2, 3)\u001b[39m\n",
       "\u001b[36m  2×3 Matrix{Union{Nothing, Int64}}:\u001b[39m\n",
       "\u001b[36m   nothing  nothing  nothing\u001b[39m\n",
       "\u001b[36m   nothing  nothing  nothing\u001b[39m\n",
       "\n",
       "  ────────────────────────────────────────────────────────────────────────────\n",
       "\n",
       "\u001b[36m  Array{T}(missing, dims)\u001b[39m\n",
       "\u001b[36m  Array{T,N}(missing, dims)\u001b[39m\n",
       "\n",
       "  Construct an \u001b[36mN\u001b[39m-dimensional \u001b[36mArray\u001b[39m containing elements of type \u001b[36mT\u001b[39m, initialized\n",
       "  with \u001b[36mmissing\u001b[39m entries. Element type \u001b[36mT\u001b[39m must be able to hold these values, i.e.\n",
       "  \u001b[36mMissing <: T\u001b[39m.\n",
       "\n",
       "\u001b[1m  Examples\u001b[22m\n",
       "\u001b[1m  ≡≡≡≡≡≡≡≡≡≡\u001b[22m\n",
       "\n",
       "\u001b[36m  julia> Array{Union{Missing, String}}(missing, 2)\u001b[39m\n",
       "\u001b[36m  2-element Vector{Union{Missing, String}}:\u001b[39m\n",
       "\u001b[36m   missing\u001b[39m\n",
       "\u001b[36m   missing\u001b[39m\n",
       "\u001b[36m  \u001b[39m\n",
       "\u001b[36m  julia> Array{Union{Missing, Int}}(missing, 2, 3)\u001b[39m\n",
       "\u001b[36m  2×3 Matrix{Union{Missing, Int64}}:\u001b[39m\n",
       "\u001b[36m   missing  missing  missing\u001b[39m\n",
       "\u001b[36m   missing  missing  missing\u001b[39m"
      ]
     },
     "execution_count": 61,
     "metadata": {},
     "output_type": "execute_result"
    }
   ],
   "source": [
    "?Array"
   ]
  },
  {
   "cell_type": "code",
   "execution_count": 96,
   "id": "fc67eef6",
   "metadata": {},
   "outputs": [
    {
     "data": {
      "text/plain": [
       "3×2 Matrix{Float32}:\n",
       " 2.0  3.0\n",
       " 4.0  3.0\n",
       " 4.0  5.0"
      ]
     },
     "execution_count": 96,
     "metadata": {},
     "output_type": "execute_result"
    }
   ],
   "source": [
    "A = Array{Float32,2}([2.0 3.0\n",
    "           4.0 3.0\n",
    "           4.0 5.0])"
   ]
  },
  {
   "cell_type": "code",
   "execution_count": 98,
   "id": "58b9453f",
   "metadata": {},
   "outputs": [
    {
     "data": {
      "text/plain": [
       "3×2 Matrix{Float32}:\n",
       " 3.2  4.2\n",
       " 5.2  4.2\n",
       " 5.2  6.2"
      ]
     },
     "execution_count": 98,
     "metadata": {},
     "output_type": "execute_result"
    }
   ],
   "source": [
    "#=\n",
    "Aquí se hace uso de operaciones vectorizadas\n",
    " Favor de atender las siguientes observaciones:\n",
    "=#\n",
    "\n",
    "A .+= 0.6"
   ]
  },
  {
   "cell_type": "code",
   "execution_count": null,
   "id": "9d9d81c8",
   "metadata": {},
   "outputs": [],
   "source": []
  }
 ],
 "metadata": {
  "kernelspec": {
   "display_name": "Julia 1.6.5",
   "language": "julia",
   "name": "julia-1.6"
  },
  "language_info": {
   "file_extension": ".jl",
   "mimetype": "application/julia",
   "name": "julia",
   "version": "1.6.5"
  }
 },
 "nbformat": 4,
 "nbformat_minor": 5
}

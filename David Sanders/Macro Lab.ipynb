{
 "cells": [
  {
   "cell_type": "code",
   "execution_count": 16,
   "id": "a25c4967",
   "metadata": {},
   "outputs": [
    {
     "data": {
      "text/plain": [
       "2×3 Matrix{Float64}:\n",
       " 3.0  3.0  4.0\n",
       " 5.0  6.0  0.0"
      ]
     },
     "execution_count": 16,
     "metadata": {},
     "output_type": "execute_result"
    }
   ],
   "source": [
    "A= [3 3 4; 5 6 0.0]"
   ]
  },
  {
   "cell_type": "code",
   "execution_count": 28,
   "id": "e1e5720a",
   "metadata": {},
   "outputs": [
    {
     "data": {
      "text/plain": [
       "3.0"
      ]
     },
     "execution_count": 28,
     "metadata": {},
     "output_type": "execute_result"
    }
   ],
   "source": [
    "A[begin]"
   ]
  },
  {
   "cell_type": "code",
   "execution_count": 11,
   "id": "0b84d1f1",
   "metadata": {},
   "outputs": [
    {
     "data": {
      "text/plain": [
       "@horner101 (macro with 1 method)"
      ]
     },
     "execution_count": 11,
     "metadata": {},
     "output_type": "execute_result"
    }
   ],
   "source": [
    "#¿esc es verdaderamente necesario en la metaprogramación?\n",
    "\n",
    "\n",
    "macro horner101(x,p...)\n",
    "    ex = esc(p[end])\n",
    "    for i = length(p)-1:-1:1\n",
    "        ex = :($(esc(p[i]))+ t*$ex)\n",
    "    end\n",
    "    println(string(ex))\n",
    "    begin\n",
    "    t=x\n",
    "    println(ex)\n",
    "    end\n",
    "    string(Expr(:block, :(t= $(esc(x))),ex))\n",
    "    #Expr(:block, :(t= $(esc(x))),ex)\n",
    "    end\n"
   ]
  },
  {
   "cell_type": "code",
   "execution_count": 12,
   "id": "e1ddfabf",
   "metadata": {},
   "outputs": [
    {
     "name": "stdout",
     "output_type": "stream",
     "text": [
      "$(Expr(:escape, 2)) + t * ($(Expr(:escape, 3)) + t * $(Expr(:escape, 4)))\n",
      "$(Expr(:escape, 2)) + t * ($(Expr(:escape, 3)) + t * $(Expr(:escape, 4)))\n"
     ]
    },
    {
     "data": {
      "text/plain": [
       "\"begin\\n    t = \\$(Expr(:escape, :x))\\n    \\$(Expr(:escape, 2)) + t * (\\$(Expr(:escape, 3)) + t * \\$(Expr(:escape, 4)))\\nend\""
      ]
     },
     "execution_count": 12,
     "metadata": {},
     "output_type": "execute_result"
    }
   ],
   "source": [
    "x=3\n",
    "    @horner101(x,2,3,4)"
   ]
  },
  {
   "cell_type": "code",
   "execution_count": 48,
   "id": "7fc35e39",
   "metadata": {},
   "outputs": [
    {
     "data": {
      "text/plain": [
       "5"
      ]
     },
     "execution_count": 48,
     "metadata": {},
     "output_type": "execute_result"
    }
   ],
   "source": [
    "a=true;b=5;c=3\n",
    "a ? b : c"
   ]
  },
  {
   "cell_type": "code",
   "execution_count": 143,
   "id": "8b755ffc",
   "metadata": {},
   "outputs": [
    {
     "data": {
      "text/plain": [
       "quote\n",
       "    var\"#92#t\" = x\n",
       "    2 + var\"#92#t\" * (3 + var\"#92#t\" * 4)\n",
       "end"
      ]
     },
     "execution_count": 143,
     "metadata": {},
     "output_type": "execute_result"
    }
   ],
   "source": [
    "@macroexpand @horner101(x,2,3,4)"
   ]
  },
  {
   "cell_type": "code",
   "execution_count": 103,
   "id": "928ae974",
   "metadata": {},
   "outputs": [
    {
     "data": {
      "text/plain": [
       ":(a + 3b)"
      ]
     },
     "execution_count": 103,
     "metadata": {},
     "output_type": "execute_result"
    }
   ],
   "source": [
    "ex = :(a + 3*b)"
   ]
  },
  {
   "cell_type": "code",
   "execution_count": 104,
   "id": "a0a7b3c6",
   "metadata": {},
   "outputs": [
    {
     "data": {
      "text/plain": [
       "\"a + 3b\""
      ]
     },
     "execution_count": 104,
     "metadata": {},
     "output_type": "execute_result"
    }
   ],
   "source": [
    "string(ex)"
   ]
  },
  {
   "cell_type": "code",
   "execution_count": 15,
   "id": "ac314d6b",
   "metadata": {},
   "outputs": [
    {
     "data": {
      "text/plain": [
       "f (generic function with 1 method)"
      ]
     },
     "execution_count": 15,
     "metadata": {},
     "output_type": "execute_result"
    }
   ],
   "source": [
    "#Función con múltiples argumentos\n",
    "\n",
    "function f(p...)\n",
    "    s=0\n",
    "    for i=1:1:length(p)\n",
    "        s=p[i]+s\n",
    "    end\n",
    "    s\n",
    "end"
   ]
  },
  {
   "cell_type": "code",
   "execution_count": 18,
   "id": "9500bea3",
   "metadata": {},
   "outputs": [
    {
     "data": {
      "text/plain": [
       "21"
      ]
     },
     "execution_count": 18,
     "metadata": {},
     "output_type": "execute_result"
    }
   ],
   "source": [
    "f(1,2,3,4,5,6)"
   ]
  },
  {
   "cell_type": "code",
   "execution_count": null,
   "id": "0d3e1562",
   "metadata": {},
   "outputs": [],
   "source": []
  }
 ],
 "metadata": {
  "kernelspec": {
   "display_name": "Julia 1.6.5",
   "language": "julia",
   "name": "julia-1.6"
  },
  "language_info": {
   "file_extension": ".jl",
   "mimetype": "application/julia",
   "name": "julia",
   "version": "1.6.5"
  }
 },
 "nbformat": 4,
 "nbformat_minor": 5
}

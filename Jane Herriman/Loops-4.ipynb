{
 "cells": [
  {
   "cell_type": "markdown",
   "id": "9f32b1a0",
   "metadata": {},
   "source": [
    "# Ciclos (Loops) \n",
    "\n",
    "Temas:\n",
    "\n",
    "    1.EL ciclo while\n",
    "    2.El ciclo for\n",
    "\n",
    "## Ciclo While\n",
    "\n",
    "    Sintaxis:\n",
    "        \n",
    "        while CONDICION\n",
    "                CUERPO_DEL_LOOP\n",
    "        end\n",
    "\n",
    "## Ciclo FOR\n",
    "\n",
    "    Sintaxis:\n",
    "    \n",
    "        for VARIABLE in EXPRESIÓN_ITERABLE\n",
    "             CUERPO_DEL_CICLO_FOR\n",
    "        end\n",
    "\n"
   ]
  },
  {
   "cell_type": "code",
   "execution_count": 10,
   "id": "983401ec",
   "metadata": {},
   "outputs": [
    {
     "name": "stdout",
     "output_type": "stream",
     "text": [
      "1\n",
      "2\n",
      "3\n",
      "4\n",
      "5\n",
      "6\n",
      "7\n",
      "8\n",
      "9\n",
      "10\n",
      "\n",
      " hola\n",
      "1\n",
      "2\n",
      "3\n",
      "4\n",
      "5\n",
      "6\n",
      "7\n",
      "8\n",
      "9\n",
      "10\n"
     ]
    }
   ],
   "source": [
    "n=0\n",
    "while n<10\n",
    "    n+=1\n",
    "    println(n)\n",
    "end\n",
    "#=Equivale a la siguiente bloque de código\n",
    " si se utiliza ; en ese contexto\n",
    "\n",
    "    Esto debido a que Julia hace una lectura de código\n",
    "    de sentencia por línea de caracteres en el cuerpo\n",
    "    de un bloque de código y a que el ; se interpreta\n",
    "    como un salto de línea.\n",
    "\n",
    "    En pocas palabras un salto de línea es el fin de una sentencia\n",
    "    y un ; equivale a un salto de línea\n",
    "    \n",
    "    Julia también es insensible a los espacios y tabulaciones\n",
    "    entre sentencia y sentencia\n",
    "=#\n",
    "\n",
    "println(\"\\n hola\")\n",
    "\n",
    "n=0;while n<10;n+=1;println(n);end\n",
    "\n"
   ]
  },
  {
   "cell_type": "code",
   "execution_count": 13,
   "id": "a187112f",
   "metadata": {},
   "outputs": [
    {
     "name": "stdout",
     "output_type": "stream",
     "text": [
      "0\n",
      "1\n",
      "2\n",
      "3\n",
      "4\n",
      "5\n",
      "6\n",
      "7\n",
      "8\n",
      "9\n"
     ]
    }
   ],
   "source": [
    "for n in 0:9; println(n);end"
   ]
  },
  {
   "cell_type": "code",
   "execution_count": 51,
   "id": "50da9cbf",
   "metadata": {},
   "outputs": [
    {
     "name": "stdout",
     "output_type": "stream",
     "text": [
      "1.0\n",
      "1.5\n",
      "2.0\n",
      "2.5\n",
      "3.0\n",
      "3.5\n",
      "4.0\n",
      "4.5\n",
      "5.0\n",
      "5.5\n",
      "6.0\n",
      "6.5\n",
      "7.0\n",
      "7.5\n",
      "8.0\n",
      "8.5\n",
      "9.0\n",
      "9.5\n",
      "10.0\n",
      "[1.0 1.0 1.0]\n",
      "[1.5 1.5 1.5]\n",
      "[2.0 2.0 2.0]\n",
      "[2.5 2.5 2.5]\n",
      "[3.0 3.0 3.0]\n",
      "[3.5 3.5 3.5]\n",
      "[4.0 4.0 4.0]\n",
      "[4.5 4.5 4.5]\n",
      "[5.0 5.0 5.0]\n",
      "[5.5 5.5 5.5]\n",
      "[6.0 6.0 6.0]\n",
      "[6.5 6.5 6.5]\n",
      "[7.0 7.0 7.0]\n",
      "[7.5 7.5 7.5]\n",
      "[8.0 8.0 8.0]\n",
      "[8.5 8.5 8.5]\n",
      "[9.0 9.0 9.0]\n",
      "[9.5 9.5 9.5]\n",
      "[10.0 10.0 10.0]\n"
     ]
    }
   ],
   "source": [
    "for n in 1:0.5:10\n",
    "    println(n)\n",
    "end\n",
    "\n",
    "for n in 1:0.5:10\n",
    "    println([n n n])\n",
    "end"
   ]
  },
  {
   "cell_type": "code",
   "execution_count": 24,
   "id": "a36c4bbe",
   "metadata": {},
   "outputs": [
    {
     "data": {
      "text/plain": [
       "11×3 Matrix{Int64}:\n",
       "  0  10  30\n",
       "  1  11  31\n",
       "  2  12  32\n",
       "  3  13  33\n",
       "  4  14  34\n",
       "  5  15  35\n",
       "  6  16  36\n",
       "  7  17  37\n",
       "  8  18  38\n",
       "  9  19  39\n",
       " 10  20  40"
      ]
     },
     "execution_count": 24,
     "metadata": {},
     "output_type": "execute_result"
    }
   ],
   "source": [
    "a=[0:10 10:20 30:40]\n"
   ]
  },
  {
   "cell_type": "code",
   "execution_count": 31,
   "id": "377f32d3",
   "metadata": {},
   "outputs": [
    {
     "name": "stdout",
     "output_type": "stream",
     "text": [
      "Hola Arturia, me alegra mucho el verte\n",
      "Hola Constanze, me alegra mucho el verte\n",
      "Hola Equidna, me alegra mucho el verte\n",
      "Hola Yuki, me alegra mucho el verte\n",
      "Hola Marco, me alegra mucho el verte\n",
      "Hola Iris, me alegra mucho el verte\n",
      "Hola Mari Illustrious, me alegra mucho el verte\n"
     ]
    }
   ],
   "source": [
    "chicas= [\"Arturia\",\"Constanze\",\"Equidna\",\"Yuki\",\"Marco\",\"Iris\",\"Mari Illustrious\"]\n",
    "\n",
    "for amiga in chicas; print(\"Hola $amiga, me alegra mucho el verte\\n\");end\n",
    "    "
   ]
  },
  {
   "cell_type": "code",
   "execution_count": 61,
   "id": "5b63ab3c",
   "metadata": {},
   "outputs": [
    {
     "data": {
      "text/plain": [
       "5×6 Matrix{Int64}:\n",
       " 0  0  0  0  0  0\n",
       " 0  0  0  0  0  0\n",
       " 0  0  0  0  0  0\n",
       " 0  0  0  0  0  0\n",
       " 0  0  0  0  0  0"
      ]
     },
     "execution_count": 61,
     "metadata": {},
     "output_type": "execute_result"
    }
   ],
   "source": [
    "m,n=5,6  #=Manera curiosa de declarar variables\n",
    "          Aquí m=5,n=6\n",
    "         =# \n",
    "#=Declaramos una matriz con la función fill(), que permite\n",
    "  declarar Matrices con un mismo valor para todos sus elementos \n",
    "=#\n",
    "M=fill(0,(m,n))"
   ]
  },
  {
   "cell_type": "code",
   "execution_count": 67,
   "id": "e808bfb6",
   "metadata": {},
   "outputs": [
    {
     "data": {
      "text/plain": [
       "5×6 Matrix{Int64}:\n",
       " 2  3  4  5   6   7\n",
       " 3  4  5  6   7   8\n",
       " 4  5  6  7   8   9\n",
       " 5  6  7  8   9  10\n",
       " 6  7  8  9  10  11"
      ]
     },
     "execution_count": 67,
     "metadata": {},
     "output_type": "execute_result"
    }
   ],
   "source": [
    "#=Nested Loop (Loop anidado)=#\n",
    "\n",
    "for i in 1:m\n",
    "    for j in 1:n; M[i,j]=i+j;end\n",
    "end\n",
    "M\n"
   ]
  },
  {
   "cell_type": "code",
   "execution_count": 82,
   "id": "9f52eaf1",
   "metadata": {},
   "outputs": [
    {
     "data": {
      "text/plain": [
       "5×5 Matrix{Int64}:\n",
       " 2  3  4  5   6\n",
       " 3  4  5  6   7\n",
       " 4  5  6  7   8\n",
       " 5  6  7  8   9\n",
       " 6  7  8  9  10"
      ]
     },
     "execution_count": 82,
     "metadata": {},
     "output_type": "execute_result"
    }
   ],
   "source": [
    "n=m\n",
    "B= fill(0,(m,n))\n",
    "\n",
    "#=Otra manera de expresar un LOOP ANIDADO=#\n",
    "\n",
    "for i in 1:m, j in 1:n\n",
    "    B[i,j]=i+j; end\n",
    "B\n"
   ]
  },
  {
   "cell_type": "code",
   "execution_count": 83,
   "id": "17e087bf",
   "metadata": {},
   "outputs": [
    {
     "data": {
      "text/plain": [
       "5×5 Matrix{Int64}:\n",
       " 2  3  4  5   6\n",
       " 3  4  5  6   7\n",
       " 4  5  6  7   8\n",
       " 5  6  7  8   9\n",
       " 6  7  8  9  10"
      ]
     },
     "execution_count": 83,
     "metadata": {},
     "output_type": "execute_result"
    }
   ],
   "source": [
    "#=Otra manera de utilizar LOOPS ANIDADOS es por medio de comprensión de matrices(cita 1)\n",
    "\n",
    "   Tal y cómo se ve a continuación\n",
    "=#\n",
    "\n",
    "C=[i+j for i in 1:m,j in 1:n]\n",
    "\n",
    "#=\n",
    "cita 1: La comprensión de matrices implica inicializar una Matriz por medio\n",
    "        de un ciclo que expresa cada elemento de la matriz en función de las\n",
    "        variables contadoras de dicho ciclo\n",
    "=#\n"
   ]
  },
  {
   "cell_type": "markdown",
   "id": "2cc638e0",
   "metadata": {},
   "source": [
    "# Ejercicios"
   ]
  },
  {
   "cell_type": "code",
   "execution_count": 95,
   "id": "f548de8e",
   "metadata": {},
   "outputs": [
    {
     "data": {
      "text/plain": [
       "100-element Vector{Int64}:\n",
       "     1\n",
       "     4\n",
       "     9\n",
       "    16\n",
       "    25\n",
       "    36\n",
       "    49\n",
       "    64\n",
       "    81\n",
       "   100\n",
       "   121\n",
       "   144\n",
       "   169\n",
       "     ⋮\n",
       "  7921\n",
       "  8100\n",
       "  8281\n",
       "  8464\n",
       "  8649\n",
       "  8836\n",
       "  9025\n",
       "  9216\n",
       "  9409\n",
       "  9604\n",
       "  9801\n",
       " 10000"
      ]
     },
     "execution_count": 95,
     "metadata": {},
     "output_type": "execute_result"
    }
   ],
   "source": [
    "[n^2 for n in 1:100]\n",
    "\n"
   ]
  },
  {
   "cell_type": "code",
   "execution_count": 103,
   "id": "d4ee8c3d",
   "metadata": {},
   "outputs": [
    {
     "data": {
      "text/plain": [
       "Dict{Int64, Int64} with 100 entries:\n",
       "  5  => 25\n",
       "  56 => 3136\n",
       "  35 => 1225\n",
       "  55 => 3025\n",
       "  60 => 3600\n",
       "  30 => 900\n",
       "  32 => 1024\n",
       "  6  => 36\n",
       "  67 => 4489\n",
       "  45 => 2025\n",
       "  73 => 5329\n",
       "  64 => 4096\n",
       "  90 => 8100\n",
       "  4  => 16\n",
       "  13 => 169\n",
       "  54 => 2916\n",
       "  63 => 3969\n",
       "  86 => 7396\n",
       "  91 => 8281\n",
       "  62 => 3844\n",
       "  58 => 3364\n",
       "  52 => 2704\n",
       "  12 => 144\n",
       "  28 => 784\n",
       "  75 => 5625\n",
       "  ⋮  => ⋮"
      ]
     },
     "execution_count": 103,
     "metadata": {},
     "output_type": "execute_result"
    }
   ],
   "source": [
    "cuadrados=Dict(i=>i^2 for i in 1:100)"
   ]
  },
  {
   "cell_type": "code",
   "execution_count": 105,
   "id": "667be4f2",
   "metadata": {},
   "outputs": [
    {
     "data": {
      "text/plain": [
       "10000"
      ]
     },
     "execution_count": 105,
     "metadata": {},
     "output_type": "execute_result"
    }
   ],
   "source": [
    "cuadrados[100]"
   ]
  },
  {
   "cell_type": "code",
   "execution_count": null,
   "id": "b120210f",
   "metadata": {},
   "outputs": [],
   "source": []
  }
 ],
 "metadata": {
  "kernelspec": {
   "display_name": "Julia 1.6.5",
   "language": "julia",
   "name": "julia-1.6"
  },
  "language_info": {
   "file_extension": ".jl",
   "mimetype": "application/julia",
   "name": "julia",
   "version": "1.6.5"
  }
 },
 "nbformat": 4,
 "nbformat_minor": 5
}

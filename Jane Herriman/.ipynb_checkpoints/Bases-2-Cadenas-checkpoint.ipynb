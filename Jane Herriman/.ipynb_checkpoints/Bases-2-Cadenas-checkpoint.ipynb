{
 "cells": [
  {
   "cell_type": "markdown",
   "id": "dc20912a",
   "metadata": {},
   "source": [
    "# Cadenas\n",
    "\n",
    "1.Cómo obtener una cadenas\n",
    "\n",
    "2.Interpolación de cadenas\n",
    "\n",
    "3.Concatenación de cadenas\n",
    "\n",
    "\n"
   ]
  },
  {
   "cell_type": "code",
   "execution_count": 7,
   "id": "d8292032",
   "metadata": {},
   "outputs": [
    {
     "data": {
      "text/plain": [
       "\"También soy una cadena. \\n\\n\\\"hola\\\"\\n\""
      ]
     },
     "execution_count": 7,
     "metadata": {},
     "output_type": "execute_result"
    }
   ],
   "source": [
    "#Para obtener cadenas ecerrar texto entre comillas\n",
    "\n",
    "s1=\"Soy una cadena. \"\n",
    "s2=\"\"\"También soy una cadena. \n",
    "\n",
    "\"hola\"\n",
    "\"\"\"\n"
   ]
  },
  {
   "cell_type": "markdown",
   "id": "4d02db6b",
   "metadata": {},
   "source": []
  },
  {
   "cell_type": "code",
   "execution_count": 12,
   "id": "455e2519",
   "metadata": {},
   "outputs": [
    {
     "data": {
      "text/plain": [
       "\"Sin problemas \\\"Hola\\\" \""
      ]
     },
     "execution_count": 12,
     "metadata": {},
     "output_type": "execute_result"
    }
   ],
   "source": [
    "s4=\"\"\"Sin problemas \"Hola\" \"\"\"\n",
    "s3=\"Sin problemas \\\"Hola\\\" \"\n"
   ]
  },
  {
   "cell_type": "code",
   "execution_count": 13,
   "id": "f65305b7",
   "metadata": {},
   "outputs": [
    {
     "data": {
      "text/plain": [
       "true"
      ]
     },
     "execution_count": 13,
     "metadata": {},
     "output_type": "execute_result"
    }
   ],
   "source": [
    "s3==s4\n"
   ]
  },
  {
   "cell_type": "markdown",
   "id": "7e320f82",
   "metadata": {},
   "source": [
    "## Interpolación de Cadenas\n",
    "\n",
    "Se utiliza el símbolo $ para insertar variables ya declaradas directamente dentro\n",
    "de una cadena\n"
   ]
  },
  {
   "cell_type": "code",
   "execution_count": 16,
   "id": "aee83cac",
   "metadata": {},
   "outputs": [],
   "source": [
    "nombre= \"Fernando Ivan\"\n",
    "edad=29\n",
    "nacionalidad=\"mexicano\";"
   ]
  },
  {
   "cell_type": "code",
   "execution_count": 18,
   "id": "fd398b00",
   "metadata": {},
   "outputs": [
    {
     "name": "stdout",
     "output_type": "stream",
     "text": [
      "Hola mi nombre es Fernando Ivan.\n",
      "Tengo 29 años y soy mexicano.\n",
      "Un gusto en conocerle.\n"
     ]
    }
   ],
   "source": [
    "println(\"Hola mi nombre es $nombre.\")\n",
    "println(\"Tengo $edad años y soy $nacionalidad.\")\n",
    "println(\"Un gusto en conocerle.\")"
   ]
  },
  {
   "cell_type": "code",
   "execution_count": 19,
   "id": "5d8e3d05",
   "metadata": {},
   "outputs": [
    {
     "name": "stdout",
     "output_type": "stream",
     "text": [
      "En diez años tendré 39 años\n"
     ]
    }
   ],
   "source": [
    "println(\"En diez años tendré $(edad +10) años\")"
   ]
  },
  {
   "cell_type": "markdown",
   "id": "f090b481",
   "metadata": {},
   "source": [
    " ## Concatenación de cadenas\n",
    " \n",
    " Existen tres principales maneras de concatenar cadenas en Julia\n",
    " \n",
    " Una es utilizando la función string, otra es utilizando en operador *\n",
    " \n",
    " y otra es con una cadena interpolada\n",
    " "
   ]
  },
  {
   "cell_type": "code",
   "execution_count": 25,
   "id": "e6c27cdc",
   "metadata": {},
   "outputs": [],
   "source": [
    "s1= \"¿Cuántos gatos \";\n",
    "s2= \"son demasiados? \";\n",
    "😺=10;"
   ]
  },
  {
   "cell_type": "code",
   "execution_count": 30,
   "id": "250bddfa",
   "metadata": {},
   "outputs": [
    {
     "data": {
      "text/plain": [
       "\"¿Cuántos gatos son demasiados? \""
      ]
     },
     "execution_count": 30,
     "metadata": {},
     "output_type": "execute_result"
    }
   ],
   "source": [
    "##1 Concatenación con la función string\n",
    "string(s1,s2)"
   ]
  },
  {
   "cell_type": "code",
   "execution_count": 27,
   "id": "127ac846",
   "metadata": {},
   "outputs": [
    {
     "name": "stdout",
     "output_type": "stream",
     "text": [
      "¿Cuántos gatos son demasiados? \n"
     ]
    }
   ],
   "source": [
    "##Para imprimir sin comillas\n",
    "println(string(s1,s2))"
   ]
  },
  {
   "cell_type": "code",
   "execution_count": 28,
   "id": "a836285a",
   "metadata": {},
   "outputs": [
    {
     "name": "stdout",
     "output_type": "stream",
     "text": [
      "¿Cuántos gatos son demasiados? \n"
     ]
    }
   ],
   "source": [
    "##2 Concatenación con el operador de concatenar ( * )\n",
    "println(s1*s2)"
   ]
  },
  {
   "cell_type": "code",
   "execution_count": 31,
   "id": "30fc7374",
   "metadata": {},
   "outputs": [
    {
     "name": "stdout",
     "output_type": "stream",
     "text": [
      "¿Cuántos gatos son demasiados? \n"
     ]
    }
   ],
   "source": [
    "#3 Concatenación con interpolación de cadenas\n",
    "println(\"$s1$s2\")"
   ]
  },
  {
   "cell_type": "markdown",
   "id": "7f1529ad",
   "metadata": {},
   "source": [
    "# Ejercicios"
   ]
  },
  {
   "cell_type": "code",
   "execution_count": 32,
   "id": "752f7f8a",
   "metadata": {},
   "outputs": [
    {
     "name": "stdout",
     "output_type": "stream",
     "text": [
      "hi hi hi hi hi hi hi hi hi hi hi hi hi hi hi hi hi hi hi hi hi hi hi hi hi hi hi hi hi hi hi hi hi hi hi hi hi hi hi hi hi hi hi hi hi hi hi hi hi hi hi hi hi hi hi hi hi hi hi hi hi hi hi hi hi hi hi hi hi hi hi hi hi hi hi hi hi hi hi hi hi hi hi hi hi hi hi hi hi hi hi hi hi hi hi hi hi hi hi hi hi hi hi hi hi hi hi hi hi hi hi hi hi hi hi hi hi hi hi hi hi hi hi hi hi hi hi hi hi hi hi hi hi hi hi hi hi hi hi hi hi hi hi hi hi hi hi hi hi hi hi hi hi hi hi hi hi hi hi hi hi hi hi hi hi hi hi hi hi hi hi hi hi hi hi hi hi hi hi hi hi hi hi hi hi hi hi hi hi hi hi hi hi hi hi hi hi hi hi hi hi hi hi hi hi hi hi hi hi hi hi hi hi hi hi hi hi hi hi hi hi hi hi hi hi hi hi hi hi hi hi hi hi hi hi hi hi hi hi hi hi hi hi hi hi hi hi hi hi hi hi hi hi hi hi hi hi hi hi hi hi hi hi hi hi hi hi hi hi hi hi hi hi hi hi hi hi hi hi hi hi hi hi hi hi hi hi hi hi hi hi hi hi hi hi hi hi hi hi hi hi hi hi hi hi hi hi hi hi hi hi hi hi hi hi hi hi hi hi hi hi hi hi hi hi hi hi hi hi hi hi hi hi hi hi hi hi hi hi hi hi hi hi hi hi hi hi hi hi hi hi hi hi hi hi hi hi hi hi hi hi hi hi hi hi hi hi hi hi hi hi hi hi hi hi hi hi hi hi hi hi hi hi hi hi hi hi hi hi hi hi hi hi hi hi hi hi hi hi hi hi hi hi hi hi hi hi hi hi hi hi hi hi hi hi hi hi hi hi hi hi hi hi hi hi hi hi hi hi hi hi hi hi hi hi hi hi hi hi hi hi hi hi hi hi hi hi hi hi hi hi hi hi hi hi hi hi hi hi hi hi hi hi hi hi hi hi hi hi hi hi hi hi hi hi hi hi hi hi hi hi hi hi hi hi hi hi hi hi hi hi hi hi hi hi hi hi hi hi hi hi hi hi hi hi hi hi hi hi hi hi hi hi hi hi hi hi hi hi hi hi hi hi hi hi hi hi hi hi hi hi hi hi hi hi hi hi hi hi hi hi hi hi hi hi hi hi hi hi hi hi hi hi hi hi hi hi hi hi hi hi hi hi hi hi hi hi hi hi hi hi hi hi hi hi hi hi hi hi hi hi hi hi hi hi hi hi hi hi hi hi hi hi hi hi hi hi hi hi hi hi hi hi hi hi hi hi hi hi hi hi hi hi hi hi hi hi hi hi hi hi hi hi hi hi hi hi hi hi hi hi hi hi hi hi hi hi hi hi hi hi hi hi hi hi hi hi hi hi hi hi hi hi hi hi hi hi hi hi hi hi hi hi hi hi hi hi hi hi hi hi hi hi hi hi hi hi hi hi hi hi hi hi hi hi hi hi hi hi hi hi hi hi hi hi hi hi hi hi hi hi hi hi hi hi hi hi hi hi hi hi hi hi hi hi hi hi hi hi hi hi hi hi hi hi hi hi hi hi hi hi hi hi hi hi hi hi hi hi hi hi hi hi hi hi hi hi hi hi hi hi hi hi hi hi hi hi hi hi hi hi hi hi hi hi hi hi hi hi hi hi hi hi hi hi hi hi hi hi hi hi hi hi hi hi hi hi hi hi hi hi hi hi hi hi hi hi hi hi hi hi hi hi hi hi hi hi hi hi hi hi hi hi hi hi hi hi hi hi hi hi hi hi hi hi hi hi hi hi hi hi hi hi hi hi hi hi hi hi hi hi hi hi hi hi hi hi hi hi hi hi hi hi hi hi hi hi hi hi hi hi hi hi hi hi hi hi hi hi hi hi hi hi hi hi hi hi hi hi hi hi hi hi hi hi hi hi hi hi hi hi hi hi hi hi hi hi hi hi hi hi hi hi hi hi hi hi hi hi hi hi hi hi hi hi hi hi hi hi hi hi hi hi hi hi hi hi hi hi hi hi hi hi hi hi hi hi hi hi hi hi hi hi hi hi hi hi hi hi hi hi hi hi hi hi hi hi hi hi hi hi hi hi hi hi hi hi hi hi hi hi hi hi hi hi hi hi hi hi hi hi hi hi hi hi hi hi hi hi hi hi hi hi hi hi hi hi hi hi hi \n"
     ]
    }
   ],
   "source": [
    "println(\"hi \"^1000)"
   ]
  },
  {
   "cell_type": "code",
   "execution_count": 40,
   "id": "437efe04",
   "metadata": {},
   "outputs": [
    {
     "data": {
      "text/plain": [
       "\"3 +4\""
      ]
     },
     "execution_count": 40,
     "metadata": {},
     "output_type": "execute_result"
    }
   ],
   "source": [
    "a=3\n",
    "b=4\n",
    "\n",
    "\"$a +$b\""
   ]
  },
  {
   "cell_type": "code",
   "execution_count": 41,
   "id": "23233ce2",
   "metadata": {},
   "outputs": [
    {
     "data": {
      "text/plain": [
       "\"7\""
      ]
     },
     "execution_count": 41,
     "metadata": {},
     "output_type": "execute_result"
    }
   ],
   "source": [
    "\"$(a+b)\""
   ]
  },
  {
   "cell_type": "code",
   "execution_count": null,
   "id": "c3bd78b0",
   "metadata": {},
   "outputs": [],
   "source": []
  }
 ],
 "metadata": {
  "kernelspec": {
   "display_name": "Julia 1.6.5",
   "language": "julia",
   "name": "julia-1.6"
  },
  "language_info": {
   "file_extension": ".jl",
   "mimetype": "application/julia",
   "name": "julia",
   "version": "1.6.5"
  }
 },
 "nbformat": 4,
 "nbformat_minor": 5
}

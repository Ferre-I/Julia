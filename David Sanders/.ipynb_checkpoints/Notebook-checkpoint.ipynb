{
 "cells": [
  {
   "cell_type": "code",
   "execution_count": 8,
   "id": "bd9d4a1b",
   "metadata": {},
   "outputs": [],
   "source": [
    "using LinearAlgebra"
   ]
  },
  {
   "cell_type": "code",
   "execution_count": 3,
   "id": "abf48660",
   "metadata": {},
   "outputs": [
    {
     "data": {
      "text/plain": [
       "3"
      ]
     },
     "execution_count": 3,
     "metadata": {},
     "output_type": "execute_result"
    }
   ],
   "source": [
    "α = 2# \\alpha[Tab]\n",
    "ℵ = 3# \\aleph[Tab]"
   ]
  },
  {
   "cell_type": "code",
   "execution_count": 4,
   "id": "8cc21da6",
   "metadata": {},
   "outputs": [
    {
     "data": {
      "text/plain": [
       "f (generic function with 1 method)"
      ]
     },
     "execution_count": 4,
     "metadata": {},
     "output_type": "execute_result"
    }
   ],
   "source": [
    "f(x)=2x^2 +3x +1"
   ]
  },
  {
   "cell_type": "code",
   "execution_count": 5,
   "id": "2f24f512",
   "metadata": {},
   "outputs": [
    {
     "data": {
      "text/plain": [
       "28"
      ]
     },
     "execution_count": 5,
     "metadata": {},
     "output_type": "execute_result"
    }
   ],
   "source": [
    "f(3)"
   ]
  },
  {
   "cell_type": "code",
   "execution_count": 6,
   "id": "ad8b4d14",
   "metadata": {},
   "outputs": [
    {
     "name": "stdout",
     "output_type": "stream",
     "text": [
      "El seno de 3 es 0.1411200080598672\n"
     ]
    }
   ],
   "source": [
    "μ = 3\n",
    "println(\"El seno de $μ es $(sin(μ))\")"
   ]
  },
  {
   "cell_type": "code",
   "execution_count": 7,
   "id": "389574ec",
   "metadata": {},
   "outputs": [
    {
     "data": {
      "text/plain": [
       "10"
      ]
     },
     "execution_count": 7,
     "metadata": {},
     "output_type": "execute_result"
    }
   ],
   "source": [
    "big(10)"
   ]
  },
  {
   "cell_type": "code",
   "execution_count": 8,
   "id": "f236bf42",
   "metadata": {},
   "outputs": [
    {
     "data": {
      "text/plain": [
       "BigInt"
      ]
     },
     "execution_count": 8,
     "metadata": {},
     "output_type": "execute_result"
    }
   ],
   "source": [
    "typeof(ans)"
   ]
  },
  {
   "cell_type": "code",
   "execution_count": 10,
   "id": "cf5382c7",
   "metadata": {},
   "outputs": [
    {
     "data": {
      "text/plain": [
       "16"
      ]
     },
     "execution_count": 10,
     "metadata": {},
     "output_type": "execute_result"
    }
   ],
   "source": [
    "sizeof(big(10))"
   ]
  },
  {
   "cell_type": "code",
   "execution_count": 15,
   "id": "2d445b97",
   "metadata": {},
   "outputs": [
    {
     "data": {
      "text/plain": [
       "16"
      ]
     },
     "execution_count": 15,
     "metadata": {},
     "output_type": "execute_result"
    }
   ],
   "source": [
    "sizeof(BigInt)"
   ]
  },
  {
   "cell_type": "code",
   "execution_count": 18,
   "id": "6f605c98",
   "metadata": {},
   "outputs": [
    {
     "name": "stdout",
     "output_type": "stream",
     "text": [
      "search: \u001b[0m\u001b[1mb\u001b[22m\u001b[0m\u001b[1mi\u001b[22m\u001b[0m\u001b[1mg\u001b[22m \u001b[0m\u001b[1mB\u001b[22m\u001b[0m\u001b[1mi\u001b[22m\u001b[0m\u001b[1mg\u001b[22mInt \u001b[0m\u001b[1mB\u001b[22m\u001b[0m\u001b[1mi\u001b[22m\u001b[0m\u001b[1mg\u001b[22mFloat @\u001b[0m\u001b[1mb\u001b[22m\u001b[0m\u001b[1mi\u001b[22m\u001b[0m\u001b[1mg\u001b[22m_str Su\u001b[0m\u001b[1mb\u001b[22mStr\u001b[0m\u001b[1mi\u001b[22mn\u001b[0m\u001b[1mg\u001b[22m disa\u001b[0m\u001b[1mb\u001b[22mle_s\u001b[0m\u001b[1mi\u001b[22m\u001b[0m\u001b[1mg\u001b[22mint reena\u001b[0m\u001b[1mb\u001b[22mle_s\u001b[0m\u001b[1mi\u001b[22m\u001b[0m\u001b[1mg\u001b[22mint\n",
      "\n"
     ]
    },
    {
     "data": {
      "text/latex": [
       "\\begin{verbatim}\n",
       "big(T::Type)\n",
       "\\end{verbatim}\n",
       "Compute the type that represents the numeric type \\texttt{T} with arbitrary precision. Equivalent to \\texttt{typeof(big(zero(T)))}.\n",
       "\n",
       "\\section{Examples}\n",
       "\\begin{verbatim}\n",
       "julia> big(Rational)\n",
       "Rational{BigInt}\n",
       "\n",
       "julia> big(Float64)\n",
       "BigFloat\n",
       "\n",
       "julia> big(Complex{Int})\n",
       "Complex{BigInt}\n",
       "\\end{verbatim}\n",
       "\\rule{\\textwidth}{1pt}\n",
       "\\begin{verbatim}\n",
       "big(x)\n",
       "\\end{verbatim}\n",
       "Convert a number to a maximum precision representation (typically \\href{@ref}{\\texttt{BigInt}} or \\texttt{BigFloat}). See \\href{@ref BigFloat(::Any, rounding::RoundingMode)}{\\texttt{BigFloat}} for information about some pitfalls with floating-point numbers.\n",
       "\n"
      ],
      "text/markdown": [
       "```\n",
       "big(T::Type)\n",
       "```\n",
       "\n",
       "Compute the type that represents the numeric type `T` with arbitrary precision. Equivalent to `typeof(big(zero(T)))`.\n",
       "\n",
       "# Examples\n",
       "\n",
       "```jldoctest\n",
       "julia> big(Rational)\n",
       "Rational{BigInt}\n",
       "\n",
       "julia> big(Float64)\n",
       "BigFloat\n",
       "\n",
       "julia> big(Complex{Int})\n",
       "Complex{BigInt}\n",
       "```\n",
       "\n",
       "---\n",
       "\n",
       "```\n",
       "big(x)\n",
       "```\n",
       "\n",
       "Convert a number to a maximum precision representation (typically [`BigInt`](@ref) or `BigFloat`). See [`BigFloat`](@ref BigFloat(::Any, rounding::RoundingMode)) for information about some pitfalls with floating-point numbers.\n"
      ],
      "text/plain": [
       "\u001b[36m  big(T::Type)\u001b[39m\n",
       "\n",
       "  Compute the type that represents the numeric type \u001b[36mT\u001b[39m with arbitrary\n",
       "  precision. Equivalent to \u001b[36mtypeof(big(zero(T)))\u001b[39m.\n",
       "\n",
       "\u001b[1m  Examples\u001b[22m\n",
       "\u001b[1m  ≡≡≡≡≡≡≡≡≡≡\u001b[22m\n",
       "\n",
       "\u001b[36m  julia> big(Rational)\u001b[39m\n",
       "\u001b[36m  Rational{BigInt}\u001b[39m\n",
       "\u001b[36m  \u001b[39m\n",
       "\u001b[36m  julia> big(Float64)\u001b[39m\n",
       "\u001b[36m  BigFloat\u001b[39m\n",
       "\u001b[36m  \u001b[39m\n",
       "\u001b[36m  julia> big(Complex{Int})\u001b[39m\n",
       "\u001b[36m  Complex{BigInt}\u001b[39m\n",
       "\n",
       "  ────────────────────────────────────────────────────────────────────────────\n",
       "\n",
       "\u001b[36m  big(x)\u001b[39m\n",
       "\n",
       "  Convert a number to a maximum precision representation (typically \u001b[36mBigInt\u001b[39m or\n",
       "  \u001b[36mBigFloat\u001b[39m). See \u001b[36mBigFloat\u001b[39m for information about some pitfalls with\n",
       "  floating-point numbers."
      ]
     },
     "execution_count": 18,
     "metadata": {},
     "output_type": "execute_result"
    }
   ],
   "source": [
    "?big"
   ]
  },
  {
   "cell_type": "code",
   "execution_count": 19,
   "id": "d0ceecda",
   "metadata": {},
   "outputs": [
    {
     "data": {
      "text/plain": [
       "10"
      ]
     },
     "execution_count": 19,
     "metadata": {},
     "output_type": "execute_result"
    }
   ],
   "source": [
    "ten=10"
   ]
  },
  {
   "cell_type": "code",
   "execution_count": 21,
   "id": "157650ec",
   "metadata": {},
   "outputs": [
    {
     "data": {
      "text/plain": [
       "1000000000000000000"
      ]
     },
     "execution_count": 21,
     "metadata": {},
     "output_type": "execute_result"
    }
   ],
   "source": [
    "ten^18"
   ]
  },
  {
   "cell_type": "code",
   "execution_count": 22,
   "id": "dfe5875f",
   "metadata": {},
   "outputs": [
    {
     "data": {
      "text/plain": [
       "10"
      ]
     },
     "execution_count": 22,
     "metadata": {},
     "output_type": "execute_result"
    }
   ],
   "source": [
    "ten =big(10)"
   ]
  },
  {
   "cell_type": "code",
   "execution_count": 32,
   "id": "9099c961",
   "metadata": {},
   "outputs": [
    {
     "data": {
      "text/plain": [
       "31416891990909090909000000000000000000000000000000000000000000000000000000000000000000000000000000000000000000000000000000000000000000000000000000000000000000000000000000000000000000000000000000000000000000000000000000000000000000000000000000000000000000000000000000000000000000000000000000000000000000000000000000000000000000000000000000000000000000000000000000000000000000000000000000000000000000000000000000000000000000000000000000000000000000000000000000000000000000000000000000000000000000000000000000000000000000000000000000000000000000000000000000000000000000000000000000000000000000000000000000000000000000000000000000000000000000000000000000000000000000000000000000000000000000000000000000000000000000000000000000000000000000000000000000000000000000000000000000000000000000000000000000000000000000000000000000000000000000000000000000000000000000000000000000000000000000000000000000000000000000000000000000000000000000000000000000000000000000000000000000000000000000000000000000000000000000000000000000000000000000"
      ]
     },
     "execution_count": 32,
     "metadata": {},
     "output_type": "execute_result"
    }
   ],
   "source": [
    "ten^1000*3141689199090909090900"
   ]
  },
  {
   "cell_type": "code",
   "execution_count": 34,
   "id": "c6fc4072",
   "metadata": {},
   "outputs": [
    {
     "data": {
      "text/plain": [
       "9223372036854775807"
      ]
     },
     "execution_count": 34,
     "metadata": {},
     "output_type": "execute_result"
    }
   ],
   "source": [
    "typemax(Int64)"
   ]
  },
  {
   "cell_type": "code",
   "execution_count": 36,
   "id": "841b8ecf",
   "metadata": {},
   "outputs": [
    {
     "data": {
      "text/plain": [
       "-9223372036854775808"
      ]
     },
     "execution_count": 36,
     "metadata": {},
     "output_type": "execute_result"
    }
   ],
   "source": [
    "typemin(Int64)"
   ]
  },
  {
   "cell_type": "code",
   "execution_count": 37,
   "id": "49959c0f",
   "metadata": {},
   "outputs": [
    {
     "data": {
      "text/plain": [
       "19//12"
      ]
     },
     "execution_count": 37,
     "metadata": {},
     "output_type": "execute_result"
    }
   ],
   "source": [
    "3//4 + 5//6 "
   ]
  },
  {
   "cell_type": "code",
   "execution_count": 38,
   "id": "32f65ddd",
   "metadata": {},
   "outputs": [
    {
     "data": {
      "text/plain": [
       "3//4"
      ]
     },
     "execution_count": 38,
     "metadata": {},
     "output_type": "execute_result"
    }
   ],
   "source": [
    "//(3,4)"
   ]
  },
  {
   "cell_type": "code",
   "execution_count": 39,
   "id": "32f11c0e",
   "metadata": {},
   "outputs": [
    {
     "data": {
      "text/plain": [
       "717897987691852588770249//1267650600228229401496703205376"
      ]
     },
     "execution_count": 39,
     "metadata": {},
     "output_type": "execute_result"
    }
   ],
   "source": [
    "(big(3)//4)^50"
   ]
  },
  {
   "cell_type": "code",
   "execution_count": 40,
   "id": "9839c19d",
   "metadata": {},
   "outputs": [
    {
     "data": {
      "text/plain": [
       "Rational{BigInt}"
      ]
     },
     "execution_count": 40,
     "metadata": {},
     "output_type": "execute_result"
    }
   ],
   "source": [
    "typeof(ans)"
   ]
  },
  {
   "cell_type": "code",
   "execution_count": 41,
   "id": "562cfeba",
   "metadata": {},
   "outputs": [
    {
     "data": {
      "text/plain": [
       "// (generic function with 8 methods)"
      ]
     },
     "execution_count": 41,
     "metadata": {},
     "output_type": "execute_result"
    }
   ],
   "source": [
    "//"
   ]
  },
  {
   "cell_type": "code",
   "execution_count": 42,
   "id": "93d08f9b",
   "metadata": {},
   "outputs": [
    {
     "data": {
      "text/plain": [
       "big (generic function with 13 methods)"
      ]
     },
     "execution_count": 42,
     "metadata": {},
     "output_type": "execute_result"
    }
   ],
   "source": [
    "big"
   ]
  },
  {
   "cell_type": "code",
   "execution_count": 44,
   "id": "37d3f6fa",
   "metadata": {},
   "outputs": [
    {
     "data": {
      "text/html": [
       "# 13 methods for generic function <b>big</b>:<ul><li> big(x::<b>Base.TwicePrecision</b>) in Base at <a href=\"https://github.com/JuliaLang/julia/tree/9058264a69f9efc1af805c4473c946f87859b731/base/twiceprecision.jl#L256\" target=\"_blank\">twiceprecision.jl:256</a></li> <li> big(::<b>Type{Complex{T}}</b>)<i> where T<:Real</i> in Base at <a href=\"https://github.com/JuliaLang/julia/tree/9058264a69f9efc1af805c4473c946f87859b731/base/complex.jl#L1047\" target=\"_blank\">complex.jl:1047</a></li> <li> big(q::<b>Rational</b>) in Base at <a href=\"https://github.com/JuliaLang/julia/tree/9058264a69f9efc1af805c4473c946f87859b731/base/rational.jl#L127\" target=\"_blank\">rational.jl:127</a></li> <li> big(z::<b>Complex{var\"#s77\"} where var\"#s77\"<:(Rational{var\"#s76\"} where var\"#s76\"<:Integer)</b>) in Base at <a href=\"https://github.com/JuliaLang/julia/tree/9058264a69f9efc1af805c4473c946f87859b731/base/rational.jl#L129\" target=\"_blank\">rational.jl:129</a></li> <li> big(z::<b>Complex{T}</b>)<i> where T<:Real</i> in Base at <a href=\"https://github.com/JuliaLang/julia/tree/9058264a69f9efc1af805c4473c946f87859b731/base/complex.jl#L1048\" target=\"_blank\">complex.jl:1048</a></li> <li> big(::<b>Type{var\"#s814\"} where var\"#s814\"<:Integer</b>) in Base.GMP at <a href=\"https://github.com/JuliaLang/julia/tree/9058264a69f9efc1af805c4473c946f87859b731/base/gmp.jl#L468\" target=\"_blank\">gmp.jl:468</a></li> <li> big(::<b>Type{var\"#s814\"} where var\"#s814\"<:Rational</b>) in Base.GMP at <a href=\"https://github.com/JuliaLang/julia/tree/9058264a69f9efc1af805c4473c946f87859b731/base/gmp.jl#L469\" target=\"_blank\">gmp.jl:469</a></li> <li> big(n::<b>Integer</b>) in Base.GMP at <a href=\"https://github.com/JuliaLang/julia/tree/9058264a69f9efc1af805c4473c946f87859b731/base/gmp.jl#L471\" target=\"_blank\">gmp.jl:471</a></li> <li> big(::<b>Type{var\"#s814\"} where var\"#s814\"<:AbstractFloat</b>) in Base.MPFR at <a href=\"https://github.com/JuliaLang/julia/tree/9058264a69f9efc1af805c4473c946f87859b731/base/mpfr.jl#L348\" target=\"_blank\">mpfr.jl:348</a></li> <li> big(x::<b>AbstractFloat</b>) in Base.MPFR at <a href=\"https://github.com/JuliaLang/julia/tree/9058264a69f9efc1af805c4473c946f87859b731/base/mpfr.jl#L350\" target=\"_blank\">mpfr.jl:350</a></li> <li> big(x::<b>AbstractIrrational</b>) in Base at <a href=\"https://github.com/JuliaLang/julia/tree/9058264a69f9efc1af805c4473c946f87859b731/base/irrationals.jl#L197\" target=\"_blank\">irrationals.jl:197</a></li> <li> big(::<b>Type{var\"#s814\"} where var\"#s814\"<:AbstractIrrational</b>) in Base at <a href=\"https://github.com/JuliaLang/julia/tree/9058264a69f9efc1af805c4473c946f87859b731/base/irrationals.jl#L198\" target=\"_blank\">irrationals.jl:198</a></li> <li> big(::<b>Type{T}</b>)<i> where T<:Number</i> in Base at <a href=\"https://github.com/JuliaLang/julia/tree/9058264a69f9efc1af805c4473c946f87859b731/base/number.jl#L339\" target=\"_blank\">number.jl:339</a></li> </ul>"
      ],
      "text/plain": [
       "# 13 methods for generic function \"big\":\n",
       "[1] big(x::Base.TwicePrecision) in Base at twiceprecision.jl:256\n",
       "[2] big(::Type{Complex{T}}) where T<:Real in Base at complex.jl:1047\n",
       "[3] big(q::Rational) in Base at rational.jl:127\n",
       "[4] big(z::Complex{var\"#s77\"} where var\"#s77\"<:(Rational{var\"#s76\"} where var\"#s76\"<:Integer)) in Base at rational.jl:129\n",
       "[5] big(z::Complex{T}) where T<:Real in Base at complex.jl:1048\n",
       "[6] big(::Type{var\"#s814\"} where var\"#s814\"<:Integer) in Base.GMP at gmp.jl:468\n",
       "[7] big(::Type{var\"#s814\"} where var\"#s814\"<:Rational) in Base.GMP at gmp.jl:469\n",
       "[8] big(n::Integer) in Base.GMP at gmp.jl:471\n",
       "[9] big(::Type{var\"#s814\"} where var\"#s814\"<:AbstractFloat) in Base.MPFR at mpfr.jl:348\n",
       "[10] big(x::AbstractFloat) in Base.MPFR at mpfr.jl:350\n",
       "[11] big(x::AbstractIrrational) in Base at irrationals.jl:197\n",
       "[12] big(::Type{var\"#s814\"} where var\"#s814\"<:AbstractIrrational) in Base at irrationals.jl:198\n",
       "[13] big(::Type{T}) where T<:Number in Base at number.jl:339"
      ]
     },
     "execution_count": 44,
     "metadata": {},
     "output_type": "execute_result"
    }
   ],
   "source": [
    "methods(big)"
   ]
  },
  {
   "cell_type": "code",
   "execution_count": 48,
   "id": "4fce37c8",
   "metadata": {},
   "outputs": [
    {
     "data": {
      "text/plain": [
       "5//6 - 1//6*im"
      ]
     },
     "execution_count": 48,
     "metadata": {},
     "output_type": "execute_result"
    }
   ],
   "source": [
    "(3+2im)//(3+3im)"
   ]
  },
  {
   "cell_type": "code",
   "execution_count": 54,
   "id": "7671f77f",
   "metadata": {},
   "outputs": [
    {
     "data": {
      "text/plain": [
       "29"
      ]
     },
     "execution_count": 54,
     "metadata": {},
     "output_type": "execute_result"
    }
   ],
   "source": [
    "34+-5"
   ]
  },
  {
   "cell_type": "code",
   "execution_count": 55,
   "id": "bf387a7b",
   "metadata": {},
   "outputs": [
    {
     "data": {
      "text/plain": [
       "3-element Vector{Int64}:\n",
       " 1\n",
       " 2\n",
       " 3"
      ]
     },
     "execution_count": 55,
     "metadata": {},
     "output_type": "execute_result"
    }
   ],
   "source": [
    "l=[1,2,3]"
   ]
  },
  {
   "cell_type": "code",
   "execution_count": 73,
   "id": "4432a1f9",
   "metadata": {},
   "outputs": [
    {
     "data": {
      "text/plain": [
       "3-element Vector{Any}:\n",
       " 1\n",
       " 2\n",
       "  \"coma\""
      ]
     },
     "execution_count": 73,
     "metadata": {},
     "output_type": "execute_result"
    }
   ],
   "source": [
    "l=[1,2,\"coma\"]"
   ]
  },
  {
   "cell_type": "code",
   "execution_count": 62,
   "id": "4aee0027",
   "metadata": {},
   "outputs": [
    {
     "data": {
      "text/plain": [
       "2-element Vector{Any}:\n",
       " 2\n",
       "  \"coma\""
      ]
     },
     "execution_count": 62,
     "metadata": {},
     "output_type": "execute_result"
    }
   ],
   "source": [
    "l[2:end]"
   ]
  },
  {
   "cell_type": "code",
   "execution_count": 2,
   "id": "c94bd116",
   "metadata": {},
   "outputs": [
    {
     "ename": "LoadError",
     "evalue": "UndefVarError: l not defined",
     "output_type": "error",
     "traceback": [
      "UndefVarError: l not defined",
      "",
      "Stacktrace:",
      " [1] top-level scope",
      "   @ In[2]:1",
      " [2] eval",
      "   @ ./boot.jl:360 [inlined]",
      " [3] include_string(mapexpr::typeof(REPL.softscope), mod::Module, code::String, filename::String)",
      "   @ Base ./loading.jl:1116"
     ]
    }
   ],
   "source": [
    "l[1:2]"
   ]
  },
  {
   "cell_type": "code",
   "execution_count": 3,
   "id": "2898a419",
   "metadata": {},
   "outputs": [
    {
     "ename": "LoadError",
     "evalue": "UndefVarError: l not defined",
     "output_type": "error",
     "traceback": [
      "UndefVarError: l not defined",
      "",
      "Stacktrace:",
      " [1] top-level scope",
      "   @ In[3]:1",
      " [2] eval",
      "   @ ./boot.jl:360 [inlined]",
      " [3] include_string(mapexpr::typeof(REPL.softscope), mod::Module, code::String, filename::String)",
      "   @ Base ./loading.jl:1116"
     ]
    }
   ],
   "source": [
    "l[begin:end]"
   ]
  },
  {
   "cell_type": "code",
   "execution_count": 4,
   "id": "80d44576",
   "metadata": {},
   "outputs": [
    {
     "ename": "LoadError",
     "evalue": "UndefVarError: l not defined",
     "output_type": "error",
     "traceback": [
      "UndefVarError: l not defined",
      "",
      "Stacktrace:",
      " [1] top-level scope",
      "   @ In[4]:1",
      " [2] eval",
      "   @ ./boot.jl:360 [inlined]",
      " [3] include_string(mapexpr::typeof(REPL.softscope), mod::Module, code::String, filename::String)",
      "   @ Base ./loading.jl:1116"
     ]
    }
   ],
   "source": [
    "l[begin:end-1]"
   ]
  },
  {
   "cell_type": "code",
   "execution_count": 5,
   "id": "4c1808b9",
   "metadata": {},
   "outputs": [
    {
     "data": {
      "text/plain": [
       "3-element Vector{Int64}:\n",
       " 1\n",
       " 2\n",
       " 3"
      ]
     },
     "execution_count": 5,
     "metadata": {},
     "output_type": "execute_result"
    }
   ],
   "source": [
    "l=[1,2,3]"
   ]
  },
  {
   "cell_type": "code",
   "execution_count": 6,
   "id": "9e7ba0ff",
   "metadata": {},
   "outputs": [
    {
     "data": {
      "text/plain": [
       "3-element Vector{Int64}:\n",
       " 2\n",
       " 4\n",
       " 6"
      ]
     },
     "execution_count": 6,
     "metadata": {},
     "output_type": "execute_result"
    }
   ],
   "source": [
    "l+l"
   ]
  },
  {
   "cell_type": "code",
   "execution_count": 7,
   "id": "cff87faf",
   "metadata": {},
   "outputs": [
    {
     "data": {
      "text/plain": [
       "4-element Vector{Int64}:\n",
       " 1\n",
       " 2\n",
       " 3\n",
       " 3"
      ]
     },
     "execution_count": 7,
     "metadata": {},
     "output_type": "execute_result"
    }
   ],
   "source": [
    "push!(l,3)"
   ]
  },
  {
   "cell_type": "code",
   "execution_count": 8,
   "id": "5f4e5857",
   "metadata": {},
   "outputs": [
    {
     "data": {
      "text/html": [
       "# 25 methods for generic function <b>push!</b>:<ul><li> push!(W::<b>Base.InvasiveLinkedListSynchronized{T}</b>, t::<b>T</b>)<i> where T</i> in Base at <a href=\"https://github.com/JuliaLang/julia/tree/9058264a69f9efc1af805c4473c946f87859b731/base/task.jl#L520\" target=\"_blank\">task.jl:520</a></li> <li> push!(q::<b>Base.InvasiveLinkedList{Base.LinkedListItem{T}}</b>, val::<b>T</b>)<i> where T</i> in Base at <a href=\"https://github.com/JuliaLang/julia/tree/9058264a69f9efc1af805c4473c946f87859b731/base/linked_list.jl#L138\" target=\"_blank\">linked_list.jl:138</a></li> <li> push!(q::<b>Base.InvasiveLinkedList{T}</b>, val::<b>T</b>)<i> where T</i> in Base at <a href=\"https://github.com/JuliaLang/julia/tree/9058264a69f9efc1af805c4473c946f87859b731/base/linked_list.jl#L52\" target=\"_blank\">linked_list.jl:52</a></li> <li> push!(c::<b>AbstractChannel</b>, v) in Base at <a href=\"https://github.com/JuliaLang/julia/tree/9058264a69f9efc1af805c4473c946f87859b731/base/channels.jl#L10\" target=\"_blank\">channels.jl:10</a></li> <li> push!(s::<b>Base.IdSet</b>, x) in Base at <a href=\"https://github.com/JuliaLang/julia/tree/9058264a69f9efc1af805c4473c946f87859b731/base/idset.jl#L20\" target=\"_blank\">idset.jl:20</a></li> <li> push!(s::<b>Set</b>, x) in Base at <a href=\"https://github.com/JuliaLang/julia/tree/9058264a69f9efc1af805c4473c946f87859b731/base/set.jl#L57\" target=\"_blank\">set.jl:57</a></li> <li> push!(entry::<b>Pkg.Resolve.ResolveLogEntry</b>, reason::<b>Tuple{Union{Nothing, Pkg.Resolve.ResolveLogEntry}, String}</b>) in Pkg.Resolve at <a href=\"file:///buildworker/worker/package_linux64/build/usr/share/julia/stdlib/v1.6/Pkg/src/Resolve/graphtype.jl\" target=\"_blank\">/home/fernando_ivan/.julia-1.6.5/share/julia/stdlib/v1.6/Pkg/src/Resolve/graphtype.jl:28</a></li> <li> push!(entry::<b>Pkg.Resolve.ResolveLogEntry</b>, reason::<b>Tuple{Union{Nothing, Pkg.Resolve.ResolveLogEntry}, String}</b>, to_journal::<b>Bool</b>) in Pkg.Resolve at <a href=\"file:///buildworker/worker/package_linux64/build/usr/share/julia/stdlib/v1.6/Pkg/src/Resolve/graphtype.jl\" target=\"_blank\">/home/fernando_ivan/.julia-1.6.5/share/julia/stdlib/v1.6/Pkg/src/Resolve/graphtype.jl:28</a></li> <li> push!(::<b>Base.EnvDict</b>, kv::<b>Pair{var\"#s814\", B} where {var\"#s814\"<:AbstractString, B}</b>) in Base at <a href=\"https://github.com/JuliaLang/julia/tree/9058264a69f9efc1af805c4473c946f87859b731/base/env.jl#L87\" target=\"_blank\">env.jl:87</a></li> <li> push!(t::<b>AbstractDict</b>, p::<b>Pair</b>) in Base at <a href=\"https://github.com/JuliaLang/julia/tree/9058264a69f9efc1af805c4473c946f87859b731/base/abstractdict.jl#L515\" target=\"_blank\">abstractdict.jl:515</a></li> <li> push!(t::<b>AbstractDict</b>, p::<b>Pair</b>, q::<b>Pair</b>) in Base at <a href=\"https://github.com/JuliaLang/julia/tree/9058264a69f9efc1af805c4473c946f87859b731/base/abstractdict.jl#L516\" target=\"_blank\">abstractdict.jl:516</a></li> <li> push!(t::<b>AbstractDict</b>, p::<b>Pair</b>, q::<b>Pair</b>, r::<b>Pair...</b>) in Base at <a href=\"https://github.com/JuliaLang/julia/tree/9058264a69f9efc1af805c4473c946f87859b731/base/abstractdict.jl#L517\" target=\"_blank\">abstractdict.jl:517</a></li> <li> push!(B::<b>BitVector</b>, item) in Base at <a href=\"https://github.com/JuliaLang/julia/tree/9058264a69f9efc1af805c4473c946f87859b731/base/bitarray.jl#L748\" target=\"_blank\">bitarray.jl:748</a></li> <li> push!(md::<b>Markdown.MD</b>, x) in Markdown at <a href=\"file:///buildworker/worker/package_linux64/build/usr/share/julia/stdlib/v1.6/Markdown/src/parse/parse.jl\" target=\"_blank\">/home/fernando_ivan/.julia-1.6.5/share/julia/stdlib/v1.6/Markdown/src/parse/parse.jl:23</a></li> <li> push!(s::<b>BitSet</b>, n::<b>Integer</b>) in Base at <a href=\"https://github.com/JuliaLang/julia/tree/9058264a69f9efc1af805c4473c946f87859b731/base/bitset.jl#L273\" target=\"_blank\">bitset.jl:273</a></li> <li> push!(s::<b>BitSet</b>, ns::<b>Integer...</b>) in Base at <a href=\"https://github.com/JuliaLang/julia/tree/9058264a69f9efc1af805c4473c946f87859b731/base/bitset.jl#L275\" target=\"_blank\">bitset.jl:275</a></li> <li> push!(::<b>Base.Nowhere</b>, ::<b>Any</b>) in Base at <a href=\"https://github.com/JuliaLang/julia/tree/9058264a69f9efc1af805c4473c946f87859b731/base/array.jl#L1384\" target=\"_blank\">array.jl:1384</a></li> <li> push!(a::<b>Vector{Any}</b>, item) in Base at <a href=\"https://github.com/JuliaLang/julia/tree/9058264a69f9efc1af805c4473c946f87859b731/base/array.jl#L938\" target=\"_blank\">array.jl:938</a></li> <li> push!(a::<b>Vector{T}</b>, item)<i> where T</i> in Base at <a href=\"https://github.com/JuliaLang/julia/tree/9058264a69f9efc1af805c4473c946f87859b731/base/array.jl#L930\" target=\"_blank\">array.jl:930</a></li> <li> push!(a::<b>AbstractVector{T} where T</b>, iter...) in Base at <a href=\"https://github.com/JuliaLang/julia/tree/9058264a69f9efc1af805c4473c946f87859b731/base/array.jl#L986\" target=\"_blank\">array.jl:986</a></li> <li> push!(c::<b>CompositeException</b>, ex) in Base at <a href=\"https://github.com/JuliaLang/julia/tree/9058264a69f9efc1af805c4473c946f87859b731/base/task.jl#L42\" target=\"_blank\">task.jl:42</a></li> <li> push!(pool::<b>Distributed.WorkerPool</b>, w::<b>Int64</b>) in Distributed at <a href=\"file:///buildworker/worker/package_linux64/build/usr/share/julia/stdlib/v1.6/Distributed/src/workerpool.jl\" target=\"_blank\">/home/fernando_ivan/.julia-1.6.5/share/julia/stdlib/v1.6/Distributed/src/workerpool.jl:152</a></li> <li> push!(pool::<b>Distributed.AbstractWorkerPool</b>, w::<b>Int64</b>) in Distributed at <a href=\"file:///buildworker/worker/package_linux64/build/usr/share/julia/stdlib/v1.6/Distributed/src/workerpool.jl\" target=\"_blank\">/home/fernando_ivan/.julia-1.6.5/share/julia/stdlib/v1.6/Distributed/src/workerpool.jl:161</a></li> <li> push!(A, a, b) in Base at <a href=\"https://github.com/JuliaLang/julia/tree/9058264a69f9efc1af805c4473c946f87859b731/base/abstractarray.jl#L2387\" target=\"_blank\">abstractarray.jl:2387</a></li> <li> push!(A, a, b, c...) in Base at <a href=\"https://github.com/JuliaLang/julia/tree/9058264a69f9efc1af805c4473c946f87859b731/base/abstractarray.jl#L2388\" target=\"_blank\">abstractarray.jl:2388</a></li> </ul>"
      ],
      "text/plain": [
       "# 25 methods for generic function \"push!\":\n",
       "[1] push!(W::Base.InvasiveLinkedListSynchronized{T}, t::T) where T in Base at task.jl:520\n",
       "[2] push!(q::Base.InvasiveLinkedList{Base.LinkedListItem{T}}, val::T) where T in Base at linked_list.jl:138\n",
       "[3] push!(q::Base.InvasiveLinkedList{T}, val::T) where T in Base at linked_list.jl:52\n",
       "[4] push!(c::AbstractChannel, v) in Base at channels.jl:10\n",
       "[5] push!(s::Base.IdSet, x) in Base at idset.jl:20\n",
       "[6] push!(s::Set, x) in Base at set.jl:57\n",
       "[7] push!(entry::Pkg.Resolve.ResolveLogEntry, reason::Tuple{Union{Nothing, Pkg.Resolve.ResolveLogEntry}, String}) in Pkg.Resolve at /home/fernando_ivan/.julia-1.6.5/share/julia/stdlib/v1.6/Pkg/src/Resolve/graphtype.jl:28\n",
       "[8] push!(entry::Pkg.Resolve.ResolveLogEntry, reason::Tuple{Union{Nothing, Pkg.Resolve.ResolveLogEntry}, String}, to_journal::Bool) in Pkg.Resolve at /home/fernando_ivan/.julia-1.6.5/share/julia/stdlib/v1.6/Pkg/src/Resolve/graphtype.jl:28\n",
       "[9] push!(::Base.EnvDict, kv::Pair{var\"#s814\", B} where {var\"#s814\"<:AbstractString, B}) in Base at env.jl:87\n",
       "[10] push!(t::AbstractDict, p::Pair) in Base at abstractdict.jl:515\n",
       "[11] push!(t::AbstractDict, p::Pair, q::Pair) in Base at abstractdict.jl:516\n",
       "[12] push!(t::AbstractDict, p::Pair, q::Pair, r::Pair...) in Base at abstractdict.jl:517\n",
       "[13] push!(B::BitVector, item) in Base at bitarray.jl:748\n",
       "[14] push!(md::Markdown.MD, x) in Markdown at /home/fernando_ivan/.julia-1.6.5/share/julia/stdlib/v1.6/Markdown/src/parse/parse.jl:23\n",
       "[15] push!(s::BitSet, n::Integer) in Base at bitset.jl:273\n",
       "[16] push!(s::BitSet, ns::Integer...) in Base at bitset.jl:275\n",
       "[17] push!(::Base.Nowhere, ::Any) in Base at array.jl:1384\n",
       "[18] push!(a::Vector{Any}, item) in Base at array.jl:938\n",
       "[19] push!(a::Vector{T}, item) where T in Base at array.jl:930\n",
       "[20] push!(a::AbstractVector{T} where T, iter...) in Base at array.jl:986\n",
       "[21] push!(c::CompositeException, ex) in Base at task.jl:42\n",
       "[22] push!(pool::Distributed.WorkerPool, w::Int64) in Distributed at /home/fernando_ivan/.julia-1.6.5/share/julia/stdlib/v1.6/Distributed/src/workerpool.jl:152\n",
       "[23] push!(pool::Distributed.AbstractWorkerPool, w::Int64) in Distributed at /home/fernando_ivan/.julia-1.6.5/share/julia/stdlib/v1.6/Distributed/src/workerpool.jl:161\n",
       "[24] push!(A, a, b) in Base at abstractarray.jl:2387\n",
       "[25] push!(A, a, b, c...) in Base at abstractarray.jl:2388"
      ]
     },
     "execution_count": 8,
     "metadata": {},
     "output_type": "execute_result"
    }
   ],
   "source": [
    "methods(push!)"
   ]
  },
  {
   "cell_type": "code",
   "execution_count": 9,
   "id": "76e7cd2f",
   "metadata": {},
   "outputs": [
    {
     "data": {
      "text/html": [
       "52-element Vector{Method}:<ul><li> curl_easy_getinfo(handle, opt, ptrval::<b>Array{T, N} where N</b>)<i> where T</i> in LibCURL at <a href=\"file:///buildworker/worker/package_linux64/build/usr/share/julia/stdlib/v1.6/LibCURL/src/LibCURL.jl\" target=\"_blank\">/home/fernando_ivan/.julia-1.6.5/share/julia/stdlib/v1.6/LibCURL/src/LibCURL.jl:40</a><li> curl_easy_setopt(handle, opt, ptrval::<b>Array{T, N} where N</b>)<i> where T</i> in LibCURL at <a href=\"file:///buildworker/worker/package_linux64/build/usr/share/julia/stdlib/v1.6/LibCURL/src/LibCURL.jl\" target=\"_blank\">/home/fernando_ivan/.julia-1.6.5/share/julia/stdlib/v1.6/LibCURL/src/LibCURL.jl:30</a><li> curl_multi_setopt(handle, opt, ptrval::<b>Array{T, N} where N</b>)<i> where T</i> in LibCURL at <a href=\"file:///buildworker/worker/package_linux64/build/usr/share/julia/stdlib/v1.6/LibCURL/src/LibCURL.jl\" target=\"_blank\">/home/fernando_ivan/.julia-1.6.5/share/julia/stdlib/v1.6/LibCURL/src/LibCURL.jl:35</a><li> serialize(s::<b>Serialization.AbstractSerializer</b>, a::<b>Array</b>) in Serialization at <a href=\"file:///buildworker/worker/package_linux64/build/usr/share/julia/stdlib/v1.6/Serialization/src/Serialization.jl\" target=\"_blank\">/home/fernando_ivan/.julia-1.6.5/share/julia/stdlib/v1.6/Serialization/src/Serialization.jl:255</a><li> copyto!(dest::<b>BitArray</b>, doffs::<b>Integer</b>, src::<b>Array</b>, soffs::<b>Integer</b>, n::<b>Integer</b>) in Base at <a href=\"https://github.com/JuliaLang/julia/tree/9058264a69f9efc1af805c4473c946f87859b731/base/bitarray.jl#L461\" target=\"_blank\">bitarray.jl:461</a><li> copyto!(dest::<b>BitArray</b>, src::<b>Array</b>) in Base at <a href=\"https://github.com/JuliaLang/julia/tree/9058264a69f9efc1af805c4473c946f87859b731/base/bitarray.jl#L472\" target=\"_blank\">bitarray.jl:472</a><li> copyto!(S::<b>SharedArrays.SharedArray</b>, A::<b>Array</b>) in SharedArrays at <a href=\"file:///buildworker/worker/package_linux64/build/usr/share/julia/stdlib/v1.6/SharedArrays/src/SharedArrays.jl\" target=\"_blank\">/home/fernando_ivan/.julia-1.6.5/share/julia/stdlib/v1.6/SharedArrays/src/SharedArrays.jl:589</a><li> copyto!(dest::<b>Array{T, N} where N</b>, doffs::<b>Integer</b>, src::<b>Array{T, N} where N</b>, soffs::<b>Integer</b>, n::<b>Integer</b>)<i> where T</i> in Base at <a href=\"https://github.com/JuliaLang/julia/tree/9058264a69f9efc1af805c4473c946f87859b731/base/array.jl#L303\" target=\"_blank\">array.jl:303</a><li> copyto!(dest::<b>Array</b>, doffs::<b>Integer</b>, src::<b>Array</b>, soffs::<b>Integer</b>, n::<b>Integer</b>) in Base at <a href=\"https://github.com/JuliaLang/julia/tree/9058264a69f9efc1af805c4473c946f87859b731/base/array.jl#L298\" target=\"_blank\">array.jl:298</a><li> copyto!(dest::<b>Array{T, N} where N</b>, src::<b>Array{T, N} where N</b>)<i> where T</i> in Base at <a href=\"https://github.com/JuliaLang/julia/tree/9058264a69f9efc1af805c4473c946f87859b731/base/array.jl#L328\" target=\"_blank\">array.jl:328</a><li> copyto!(dest::<b>Array</b>, src::<b>Array</b>) in Base at <a href=\"https://github.com/JuliaLang/julia/tree/9058264a69f9efc1af805c4473c946f87859b731/base/array.jl#L325\" target=\"_blank\">array.jl:325</a><li> +(A::<b>Array</b>, Bs::<b>Array...</b>) in Base at <a href=\"https://github.com/JuliaLang/julia/tree/9058264a69f9efc1af805c4473c946f87859b731/base/arraymath.jl#L43\" target=\"_blank\">arraymath.jl:43</a><li> +(A::<b>Array</b>, B::<b>SparseArrays.AbstractSparseMatrixCSC</b>) in SparseArrays at <a href=\"file:///buildworker/worker/package_linux64/build/usr/share/julia/stdlib/v1.6/SparseArrays/src/sparsematrix.jl\" target=\"_blank\">/home/fernando_ivan/.julia-1.6.5/share/julia/stdlib/v1.6/SparseArrays/src/sparsematrix.jl:1745</a><li> +(A::<b>SparseArrays.AbstractSparseMatrixCSC</b>, B::<b>Array</b>) in SparseArrays at <a href=\"file:///buildworker/worker/package_linux64/build/usr/share/julia/stdlib/v1.6/SparseArrays/src/sparsematrix.jl\" target=\"_blank\">/home/fernando_ivan/.julia-1.6.5/share/julia/stdlib/v1.6/SparseArrays/src/sparsematrix.jl:1744</a><li> -(A::<b>Array</b>, B::<b>SparseArrays.AbstractSparseMatrixCSC</b>) in SparseArrays at <a href=\"file:///buildworker/worker/package_linux64/build/usr/share/julia/stdlib/v1.6/SparseArrays/src/sparsematrix.jl\" target=\"_blank\">/home/fernando_ivan/.julia-1.6.5/share/julia/stdlib/v1.6/SparseArrays/src/sparsematrix.jl:1747</a><li> -(A::<b>SparseArrays.AbstractSparseMatrixCSC</b>, B::<b>Array</b>) in SparseArrays at <a href=\"file:///buildworker/worker/package_linux64/build/usr/share/julia/stdlib/v1.6/SparseArrays/src/sparsematrix.jl\" target=\"_blank\">/home/fernando_ivan/.julia-1.6.5/share/julia/stdlib/v1.6/SparseArrays/src/sparsematrix.jl:1746</a><li> convert(T::<b>Type{var\"#s814\"} where var\"#s814\"<:SharedArrays.SharedArray</b>, a::<b>Array</b>) in SharedArrays at <a href=\"file:///buildworker/worker/package_linux64/build/usr/share/julia/stdlib/v1.6/SharedArrays/src/SharedArrays.jl\" target=\"_blank\">/home/fernando_ivan/.julia-1.6.5/share/julia/stdlib/v1.6/SharedArrays/src/SharedArrays.jl:377</a><li> copy(a::<b>T</b>)<i> where T<:Array</i> in Base at <a href=\"https://github.com/JuliaLang/julia/tree/9058264a69f9efc1af805c4473c946f87859b731/base/array.jl#L349\" target=\"_blank\">array.jl:349</a><li> dump(io::<b>IOContext</b>, x::<b>Array</b>, n::<b>Int64</b>, indent) in Base at <a href=\"https://github.com/JuliaLang/julia/tree/9058264a69f9efc1af805c4473c946f87859b731/base/show.jl#L2478\" target=\"_blank\">show.jl:2478</a><li> fill!(dest::<b>Array{T, N} where N</b>, x)<i> where T</i> in Base at <a href=\"https://github.com/JuliaLang/julia/tree/9058264a69f9efc1af805c4473c946f87859b731/base/array.jl#L332\" target=\"_blank\">array.jl:332</a><li> filter(f, a::<b>Array{T, N}</b>)<i> where {T, N}</i> in Base at <a href=\"https://github.com/JuliaLang/julia/tree/9058264a69f9efc1af805c4473c946f87859b731/base/array.jl#L2506\" target=\"_blank\">array.jl:2506</a><li> getindex(A::<b>Array</b>, i1::<b>Int64</b>) in Base at <a href=\"https://github.com/JuliaLang/julia/tree/9058264a69f9efc1af805c4473c946f87859b731/base/array.jl#L805\" target=\"_blank\">array.jl:805</a><li> getindex(A::<b>Array</b>, i1::<b>Int64</b>, i2::<b>Int64</b>, I::<b>Int64...</b>) in Base at <a href=\"https://github.com/JuliaLang/julia/tree/9058264a69f9efc1af805c4473c946f87859b731/base/array.jl#L806\" target=\"_blank\">array.jl:806</a><li> getindex(A::<b>Array</b>, I::<b>UnitRange{Int64}</b>) in Base at <a href=\"https://github.com/JuliaLang/julia/tree/9058264a69f9efc1af805c4473c946f87859b731/base/array.jl#L809\" target=\"_blank\">array.jl:809</a><li> getindex(A::<b>Array</b>, c::<b>Colon</b>) in Base at <a href=\"https://github.com/JuliaLang/julia/tree/9058264a69f9efc1af805c4473c946f87859b731/base/array.jl#L819\" target=\"_blank\">array.jl:819</a><li> getindex(A::<b>Array{S, N} where N</b>, I::<b>AbstractRange{Int64}</b>)<i> where S</i> in Base at <a href=\"https://github.com/JuliaLang/julia/tree/9058264a69f9efc1af805c4473c946f87859b731/base/array.jl#L829\" target=\"_blank\">array.jl:829</a><li> getindex(A::<b>Array</b>, i1::<b>Integer</b>, I::<b>Integer...</b>) in Base at <a href=\"https://github.com/JuliaLang/julia/tree/9058264a69f9efc1af805c4473c946f87859b731/base/abstractarray.jl#L1173\" target=\"_blank\">abstractarray.jl:1173</a><li> getindex(A::<b>Array</b>, i1::<b>Union{Integer, CartesianIndex}</b>, I::<b>Union{Integer, CartesianIndex}...</b>) in Base at <a href=\"https://github.com/JuliaLang/julia/tree/9058264a69f9efc1af805c4473c946f87859b731/base/multidimensional.jl#L643\" target=\"_blank\">multidimensional.jl:643</a><li> isassigned(a::<b>Array</b>, i::<b>Int64...</b>) in Base at <a href=\"https://github.com/JuliaLang/julia/tree/9058264a69f9efc1af805c4473c946f87859b731/base/array.jl#L201\" target=\"_blank\">array.jl:201</a><li> iterate(A::<b>Array</b>) in Base at <a href=\"https://github.com/JuliaLang/julia/tree/9058264a69f9efc1af805c4473c946f87859b731/base/array.jl#L781\" target=\"_blank\">array.jl:781</a><li> iterate(A::<b>Array</b>, i) in Base at <a href=\"https://github.com/JuliaLang/julia/tree/9058264a69f9efc1af805c4473c946f87859b731/base/array.jl#L781\" target=\"_blank\">array.jl:781</a><li> length(a::<b>Array</b>) in Base at <a href=\"https://github.com/JuliaLang/julia/tree/9058264a69f9efc1af805c4473c946f87859b731/base/array.jl#L197\" target=\"_blank\">array.jl:197</a><li> permutedims!(P::<b>Array{T, N}</b>, B::<b>StridedArray{T, N}</b>, perm)<i> where {T, N}</i> in Base at <a href=\"https://github.com/JuliaLang/julia/tree/9058264a69f9efc1af805c4473c946f87859b731/base/multidimensional.jl#L1515\" target=\"_blank\">multidimensional.jl:1515</a><li> reshape(a::<b>Array{T, M}</b>, dims::<b>Tuple{Vararg{Int64, N}}</b>)<i> where {T, N, M}</i> in Base at <a href=\"https://github.com/JuliaLang/julia/tree/9058264a69f9efc1af805c4473c946f87859b731/base/reshapedarray.jl#L40\" target=\"_blank\">reshapedarray.jl:40</a><li> setindex!(A::<b>Array{T, N} where N</b>, x, i1::<b>Int64</b>)<i> where T</i> in Base at <a href=\"https://github.com/JuliaLang/julia/tree/9058264a69f9efc1af805c4473c946f87859b731/base/array.jl#L843\" target=\"_blank\">array.jl:843</a><li> setindex!(A::<b>Array{T, N} where N</b>, x, i1::<b>Int64</b>, i2::<b>Int64</b>, I::<b>Int64...</b>)<i> where T</i> in Base at <a href=\"https://github.com/JuliaLang/julia/tree/9058264a69f9efc1af805c4473c946f87859b731/base/array.jl#L844\" target=\"_blank\">array.jl:844</a><li> setindex!(A::<b>Array{T, N} where N</b>, X::<b>Array{T, N} where N</b>, I::<b>UnitRange{Int64}</b>)<i> where T</i> in Base at <a href=\"https://github.com/JuliaLang/julia/tree/9058264a69f9efc1af805c4473c946f87859b731/base/array.jl#L864\" target=\"_blank\">array.jl:864</a><li> setindex!(A::<b>Array</b>, X::<b>AbstractArray</b>, I::<b>AbstractVector{Int64}</b>) in Base at <a href=\"https://github.com/JuliaLang/julia/tree/9058264a69f9efc1af805c4473c946f87859b731/base/array.jl#L848\" target=\"_blank\">array.jl:848</a><li> setindex!(A::<b>Array{T, N} where N</b>, X::<b>Array{T, N} where N</b>, c::<b>Colon</b>)<i> where T</i> in Base at <a href=\"https://github.com/JuliaLang/julia/tree/9058264a69f9efc1af805c4473c946f87859b731/base/array.jl#L874\" target=\"_blank\">array.jl:874</a><li> setindex!(A::<b>Array</b>, v, i1::<b>Union{Integer, CartesianIndex}</b>, I::<b>Union{Integer, CartesianIndex}...</b>) in Base at <a href=\"https://github.com/JuliaLang/julia/tree/9058264a69f9efc1af805c4473c946f87859b731/base/multidimensional.jl#L645\" target=\"_blank\">multidimensional.jl:645</a><li> similar(a::<b>Array{T, N} where N</b>, m::<b>Int64</b>)<i> where T</i> in Base at <a href=\"https://github.com/JuliaLang/julia/tree/9058264a69f9efc1af805c4473c946f87859b731/base/array.jl#L357\" target=\"_blank\">array.jl:357</a><li> similar(a::<b>Array</b>, T::<b>Type</b>, dims::<b>Tuple{Vararg{Int64, N}}</b>)<i> where N</i> in Base at <a href=\"https://github.com/JuliaLang/julia/tree/9058264a69f9efc1af805c4473c946f87859b731/base/array.jl#L358\" target=\"_blank\">array.jl:358</a><li> similar(a::<b>Array{T, N} where N</b>, dims::<b>Tuple{Vararg{Int64, N}}</b>)<i> where {T, N}</i> in Base at <a href=\"https://github.com/JuliaLang/julia/tree/9058264a69f9efc1af805c4473c946f87859b731/base/array.jl#L359\" target=\"_blank\">array.jl:359</a><li> size(a::<b>Array{var\"#s77\", N} where var\"#s77\"</b>)<i> where N</i> in Base at <a href=\"https://github.com/JuliaLang/julia/tree/9058264a69f9efc1af805c4473c946f87859b731/base/array.jl#L135\" target=\"_blank\">array.jl:135</a><li> size(a::<b>Array</b>, d::<b>Integer</b>) in Base at <a href=\"https://github.com/JuliaLang/julia/tree/9058264a69f9efc1af805c4473c946f87859b731/base/array.jl#L132\" target=\"_blank\">array.jl:132</a><li> sizeof(a::<b>Array</b>) in Base at <a href=\"https://github.com/JuliaLang/julia/tree/9058264a69f9efc1af805c4473c946f87859b731/base/array.jl#L199\" target=\"_blank\">array.jl:199</a><li> unsafe_copyto!(dest::<b>Array{T, N} where N</b>, doffs, src::<b>Array{T, N} where N</b>, soffs, n)<i> where T</i> in Base at <a href=\"https://github.com/JuliaLang/julia/tree/9058264a69f9efc1af805c4473c946f87859b731/base/array.jl#L262\" target=\"_blank\">array.jl:262</a><li> unsafe_copyto!(dest::<b>Array</b>, doffs, src::<b>Array</b>, soffs, n) in Base at <a href=\"https://github.com/JuliaLang/julia/tree/9058264a69f9efc1af805c4473c946f87859b731/base/array.jl#L289\" target=\"_blank\">array.jl:289</a><li> write(s::<b>IO</b>, a::<b>Array</b>) in Base at <a href=\"https://github.com/JuliaLang/julia/tree/9058264a69f9efc1af805c4473c946f87859b731/base/io.jl#L667\" target=\"_blank\">io.jl:667</a><li> rand!(rng::<b>MbedTLS.CtrDrbg</b>, buf::<b>Array</b>) in MbedTLS at <a href=\"file:///home/fernando_ivan/.julia/packages/MbedTLS/4YY6E/src/ctr_drbg.jl\" target=\"_blank\">/home/fernando_ivan/.julia/packages/MbedTLS/4YY6E/src/ctr_drbg.jl:37</a><li> launch(manager::<b>Distributed.SSHManager</b>, params::<b>Dict</b>, launched::<b>Array</b>, launch_ntfy::<b>Condition</b>) in Distributed at <a href=\"file:///buildworker/worker/package_linux64/build/usr/share/julia/stdlib/v1.6/Distributed/src/managers.jl\" target=\"_blank\">/home/fernando_ivan/.julia-1.6.5/share/julia/stdlib/v1.6/Distributed/src/managers.jl:158</a><li> launch(manager::<b>Distributed.LocalManager</b>, params::<b>Dict</b>, launched::<b>Array</b>, c::<b>Condition</b>) in Distributed at <a href=\"file:///buildworker/worker/package_linux64/build/usr/share/julia/stdlib/v1.6/Distributed/src/managers.jl\" target=\"_blank\">/home/fernando_ivan/.julia-1.6.5/share/julia/stdlib/v1.6/Distributed/src/managers.jl:448</a></ul>"
      ],
      "text/plain": [
       "[1] curl_easy_getinfo(handle, opt, ptrval::Array{T, N} where N) where T in LibCURL at /home/fernando_ivan/.julia-1.6.5/share/julia/stdlib/v1.6/LibCURL/src/LibCURL.jl:40\n",
       "[2] curl_easy_setopt(handle, opt, ptrval::Array{T, N} where N) where T in LibCURL at /home/fernando_ivan/.julia-1.6.5/share/julia/stdlib/v1.6/LibCURL/src/LibCURL.jl:30\n",
       "[3] curl_multi_setopt(handle, opt, ptrval::Array{T, N} where N) where T in LibCURL at /home/fernando_ivan/.julia-1.6.5/share/julia/stdlib/v1.6/LibCURL/src/LibCURL.jl:35\n",
       "[4] serialize(s::Serialization.AbstractSerializer, a::Array) in Serialization at /home/fernando_ivan/.julia-1.6.5/share/julia/stdlib/v1.6/Serialization/src/Serialization.jl:255\n",
       "[5] copyto!(dest::BitArray, doffs::Integer, src::Array, soffs::Integer, n::Integer) in Base at bitarray.jl:461\n",
       "[6] copyto!(dest::BitArray, src::Array) in Base at bitarray.jl:472\n",
       "[7] copyto!(S::SharedArrays.SharedArray, A::Array) in SharedArrays at /home/fernando_ivan/.julia-1.6.5/share/julia/stdlib/v1.6/SharedArrays/src/SharedArrays.jl:589\n",
       "[8] copyto!(dest::Array{T, N} where N, doffs::Integer, src::Array{T, N} where N, soffs::Integer, n::Integer) where T in Base at array.jl:303\n",
       "[9] copyto!(dest::Array, doffs::Integer, src::Array, soffs::Integer, n::Integer) in Base at array.jl:298\n",
       "[10] copyto!(dest::Array{T, N} where N, src::Array{T, N} where N) where T in Base at array.jl:328\n",
       "[11] copyto!(dest::Array, src::Array) in Base at array.jl:325\n",
       "[12] +(A::Array, Bs::Array...) in Base at arraymath.jl:43\n",
       "[13] +(A::Array, B::SparseArrays.AbstractSparseMatrixCSC) in SparseArrays at /home/fernando_ivan/.julia-1.6.5/share/julia/stdlib/v1.6/SparseArrays/src/sparsematrix.jl:1745\n",
       "[14] +(A::SparseArrays.AbstractSparseMatrixCSC, B::Array) in SparseArrays at /home/fernando_ivan/.julia-1.6.5/share/julia/stdlib/v1.6/SparseArrays/src/sparsematrix.jl:1744\n",
       "[15] -(A::Array, B::SparseArrays.AbstractSparseMatrixCSC) in SparseArrays at /home/fernando_ivan/.julia-1.6.5/share/julia/stdlib/v1.6/SparseArrays/src/sparsematrix.jl:1747\n",
       "[16] -(A::SparseArrays.AbstractSparseMatrixCSC, B::Array) in SparseArrays at /home/fernando_ivan/.julia-1.6.5/share/julia/stdlib/v1.6/SparseArrays/src/sparsematrix.jl:1746\n",
       "[17] convert(T::Type{var\"#s814\"} where var\"#s814\"<:SharedArrays.SharedArray, a::Array) in SharedArrays at /home/fernando_ivan/.julia-1.6.5/share/julia/stdlib/v1.6/SharedArrays/src/SharedArrays.jl:377\n",
       "[18] copy(a::T) where T<:Array in Base at array.jl:349\n",
       "[19] dump(io::IOContext, x::Array, n::Int64, indent) in Base at show.jl:2478\n",
       "[20] fill!(dest::Array{T, N} where N, x) where T in Base at array.jl:332\n",
       "[21] filter(f, a::Array{T, N}) where {T, N} in Base at array.jl:2506\n",
       "[22] getindex(A::Array, i1::Int64) in Base at array.jl:805\n",
       "[23] getindex(A::Array, i1::Int64, i2::Int64, I::Int64...) in Base at array.jl:806\n",
       "[24] getindex(A::Array, I::UnitRange{Int64}) in Base at array.jl:809\n",
       "[25] getindex(A::Array, c::Colon) in Base at array.jl:819\n",
       "[26] getindex(A::Array{S, N} where N, I::AbstractRange{Int64}) where S in Base at array.jl:829\n",
       "[27] getindex(A::Array, i1::Integer, I::Integer...) in Base at abstractarray.jl:1173\n",
       "[28] getindex(A::Array, i1::Union{Integer, CartesianIndex}, I::Union{Integer, CartesianIndex}...) in Base at multidimensional.jl:643\n",
       "[29] isassigned(a::Array, i::Int64...) in Base at array.jl:201\n",
       "[30] iterate(A::Array) in Base at array.jl:781\n",
       "[31] iterate(A::Array, i) in Base at array.jl:781\n",
       "[32] length(a::Array) in Base at array.jl:197\n",
       "[33] permutedims!(P::Array{T, N}, B::StridedArray{T, N}, perm) where {T, N} in Base at multidimensional.jl:1515\n",
       "[34] reshape(a::Array{T, M}, dims::Tuple{Vararg{Int64, N}}) where {T, N, M} in Base at reshapedarray.jl:40\n",
       "[35] setindex!(A::Array{T, N} where N, x, i1::Int64) where T in Base at array.jl:843\n",
       "[36] setindex!(A::Array{T, N} where N, x, i1::Int64, i2::Int64, I::Int64...) where T in Base at array.jl:844\n",
       "[37] setindex!(A::Array{T, N} where N, X::Array{T, N} where N, I::UnitRange{Int64}) where T in Base at array.jl:864\n",
       "[38] setindex!(A::Array, X::AbstractArray, I::AbstractVector{Int64}) in Base at array.jl:848\n",
       "[39] setindex!(A::Array{T, N} where N, X::Array{T, N} where N, c::Colon) where T in Base at array.jl:874\n",
       "[40] setindex!(A::Array, v, i1::Union{Integer, CartesianIndex}, I::Union{Integer, CartesianIndex}...) in Base at multidimensional.jl:645\n",
       "[41] similar(a::Array{T, N} where N, m::Int64) where T in Base at array.jl:357\n",
       "[42] similar(a::Array, T::Type, dims::Tuple{Vararg{Int64, N}}) where N in Base at array.jl:358\n",
       "[43] similar(a::Array{T, N} where N, dims::Tuple{Vararg{Int64, N}}) where {T, N} in Base at array.jl:359\n",
       "[44] size(a::Array{var\"#s77\", N} where var\"#s77\") where N in Base at array.jl:135\n",
       "[45] size(a::Array, d::Integer) in Base at array.jl:132\n",
       "[46] sizeof(a::Array) in Base at array.jl:199\n",
       "[47] unsafe_copyto!(dest::Array{T, N} where N, doffs, src::Array{T, N} where N, soffs, n) where T in Base at array.jl:262\n",
       "[48] unsafe_copyto!(dest::Array, doffs, src::Array, soffs, n) in Base at array.jl:289\n",
       "[49] write(s::IO, a::Array) in Base at io.jl:667\n",
       "[50] rand!(rng::MbedTLS.CtrDrbg, buf::Array) in MbedTLS at /home/fernando_ivan/.julia/packages/MbedTLS/4YY6E/src/ctr_drbg.jl:37\n",
       "[51] launch(manager::Distributed.SSHManager, params::Dict, launched::Array, launch_ntfy::Condition) in Distributed at /home/fernando_ivan/.julia-1.6.5/share/julia/stdlib/v1.6/Distributed/src/managers.jl:158\n",
       "[52] launch(manager::Distributed.LocalManager, params::Dict, launched::Array, c::Condition) in Distributed at /home/fernando_ivan/.julia-1.6.5/share/julia/stdlib/v1.6/Distributed/src/managers.jl:448"
      ]
     },
     "execution_count": 9,
     "metadata": {},
     "output_type": "execute_result"
    }
   ],
   "source": [
    "a=methodswith(Array)"
   ]
  },
  {
   "cell_type": "code",
   "execution_count": 23,
   "id": "14e28595",
   "metadata": {},
   "outputs": [
    {
     "data": {
      "text/plain": [
       "4-element Vector{Int64}:\n",
       "  3\n",
       "  4\n",
       "  5\n",
       " 12"
      ]
     },
     "execution_count": 23,
     "metadata": {},
     "output_type": "execute_result"
    }
   ],
   "source": [
    "l=[3, 4, 5]\n",
    "push!(l,12.0)"
   ]
  },
  {
   "cell_type": "code",
   "execution_count": 20,
   "id": "0c12d022",
   "metadata": {},
   "outputs": [
    {
     "data": {
      "text/plain": [
       "true"
      ]
     },
     "execution_count": 20,
     "metadata": {},
     "output_type": "execute_result"
    }
   ],
   "source": [
    "12.0::Float64==12"
   ]
  },
  {
   "cell_type": "code",
   "execution_count": 24,
   "id": "0397edef",
   "metadata": {},
   "outputs": [
    {
     "ename": "LoadError",
     "evalue": "InexactError: Int64(12.1)",
     "output_type": "error",
     "traceback": [
      "InexactError: Int64(12.1)",
      "",
      "Stacktrace:",
      " [1] Int64",
      "   @ ./float.jl:723 [inlined]",
      " [2] convert",
      "   @ ./number.jl:7 [inlined]",
      " [3] push!(a::Vector{Int64}, item::Float64)",
      "   @ Base ./array.jl:932",
      " [4] top-level scope",
      "   @ In[24]:1",
      " [5] eval",
      "   @ ./boot.jl:360 [inlined]",
      " [6] include_string(mapexpr::typeof(REPL.softscope), mod::Module, code::String, filename::String)",
      "   @ Base ./loading.jl:1116"
     ]
    }
   ],
   "source": [
    "push!(l,12.1)"
   ]
  },
  {
   "cell_type": "code",
   "execution_count": 25,
   "id": "456d4b2a",
   "metadata": {},
   "outputs": [
    {
     "data": {
      "text/plain": [
       "3-element Vector{Complex{Int64}}:\n",
       " 3 + 1im\n",
       " 4 + 5im\n",
       " 6 + 10im"
      ]
     },
     "execution_count": 25,
     "metadata": {},
     "output_type": "execute_result"
    }
   ],
   "source": [
    "a=[3+im,4+5im,6+10im]"
   ]
  },
  {
   "cell_type": "code",
   "execution_count": 26,
   "id": "7f69170d",
   "metadata": {},
   "outputs": [
    {
     "data": {
      "text/plain": [
       "1×3 adjoint(::Vector{Complex{Int64}}) with eltype Complex{Int64}:\n",
       " 3-1im  4-5im  6-10im"
      ]
     },
     "execution_count": 26,
     "metadata": {},
     "output_type": "execute_result"
    }
   ],
   "source": [
    "a'"
   ]
  },
  {
   "cell_type": "code",
   "execution_count": 31,
   "id": "b9677f11",
   "metadata": {},
   "outputs": [
    {
     "data": {
      "text/plain": [
       "2×2 Matrix{Int64}:\n",
       " 2  1\n",
       " 1  1"
      ]
     },
     "execution_count": 31,
     "metadata": {},
     "output_type": "execute_result"
    }
   ],
   "source": [
    "M =reshape([2,1,1,1],(2,2))"
   ]
  },
  {
   "cell_type": "code",
   "execution_count": 24,
   "id": "1f5e8d1d",
   "metadata": {},
   "outputs": [
    {
     "data": {
      "text/plain": [
       "2×2 Matrix{Int64}:\n",
       " 2  1\n",
       " 1  1"
      ]
     },
     "execution_count": 24,
     "metadata": {},
     "output_type": "execute_result"
    }
   ],
   "source": [
    "M=[2 1;1 1]"
   ]
  },
  {
   "cell_type": "code",
   "execution_count": 33,
   "id": "84de39d7",
   "metadata": {},
   "outputs": [
    {
     "data": {
      "text/plain": [
       "3-element Vector{Int64}:\n",
       " 2\n",
       " 2\n",
       " 2"
      ]
     },
     "execution_count": 33,
     "metadata": {},
     "output_type": "execute_result"
    }
   ],
   "source": [
    "b=[2,2,2]"
   ]
  },
  {
   "cell_type": "code",
   "execution_count": 42,
   "id": "3b131693",
   "metadata": {},
   "outputs": [
    {
     "data": {
      "text/plain": [
       "3-element Vector{Complex{Int64}}:\n",
       " -4 - 10im\n",
       "  6 + 18im\n",
       " -2 - 8im"
      ]
     },
     "execution_count": 42,
     "metadata": {},
     "output_type": "execute_result"
    }
   ],
   "source": [
    "a × b"
   ]
  },
  {
   "cell_type": "code",
   "execution_count": 44,
   "id": "5a88e992",
   "metadata": {},
   "outputs": [
    {
     "data": {
      "text/plain": [
       "26 - 32im"
      ]
     },
     "execution_count": 44,
     "metadata": {},
     "output_type": "execute_result"
    }
   ],
   "source": [
    "a ⋅ b"
   ]
  },
  {
   "cell_type": "code",
   "execution_count": 49,
   "id": "6533c0de",
   "metadata": {},
   "outputs": [
    {
     "data": {
      "text/plain": [
       "3-element Vector{Complex{Int64}}:\n",
       " 0 + 0im\n",
       " 0 + 0im\n",
       " 0 + 0im"
      ]
     },
     "execution_count": 49,
     "metadata": {},
     "output_type": "execute_result"
    }
   ],
   "source": [
    "a×b+b×a"
   ]
  },
  {
   "cell_type": "code",
   "execution_count": 54,
   "id": "5bf6434a",
   "metadata": {},
   "outputs": [
    {
     "data": {
      "text/plain": [
       "0 + 0im"
      ]
     },
     "execution_count": 54,
     "metadata": {},
     "output_type": "execute_result"
    }
   ],
   "source": [
    "a ⋅ b -(b⋅a)'"
   ]
  },
  {
   "cell_type": "code",
   "execution_count": 55,
   "id": "25889ab1",
   "metadata": {},
   "outputs": [
    {
     "name": "stdout",
     "output_type": "stream",
     "text": [
      "search: \u001b[0m\u001b[1md\u001b[22m\u001b[0m\u001b[1mo\u001b[22m\u001b[0m\u001b[1mt\u001b[22m @__\u001b[0m\u001b[1md\u001b[22m\u001b[0m\u001b[1mo\u001b[22m\u001b[0m\u001b[1mt\u001b[22m__ st\u001b[0m\u001b[1md\u001b[22m\u001b[0m\u001b[1mo\u001b[22mu\u001b[0m\u001b[1mt\u001b[22m \u001b[0m\u001b[1mD\u001b[22mEP\u001b[0m\u001b[1mO\u001b[22m\u001b[0m\u001b[1mT\u001b[22m_PATH a\u001b[0m\u001b[1md\u001b[22mj\u001b[0m\u001b[1mo\u001b[22min\u001b[0m\u001b[1mt\u001b[22m A\u001b[0m\u001b[1md\u001b[22mj\u001b[0m\u001b[1mo\u001b[22min\u001b[0m\u001b[1mt\u001b[22m a\u001b[0m\u001b[1md\u001b[22mj\u001b[0m\u001b[1mo\u001b[22min\u001b[0m\u001b[1mt\u001b[22m! fiel\u001b[0m\u001b[1md\u001b[22mc\u001b[0m\u001b[1mo\u001b[22mun\u001b[0m\u001b[1mt\u001b[22m\n",
      "\n"
     ]
    },
    {
     "data": {
      "text/latex": [
       "\\begin{verbatim}\n",
       "dot(x, y)\n",
       "x ⋅ y\n",
       "\\end{verbatim}\n",
       "Compute the dot product between two vectors. For complex vectors, the first vector is conjugated.\n",
       "\n",
       "\\texttt{dot} also works on arbitrary iterable objects, including arrays of any dimension, as long as \\texttt{dot} is defined on the elements.\n",
       "\n",
       "\\texttt{dot} is semantically equivalent to \\texttt{sum(dot(vx,vy) for (vx,vy) in zip(x, y))}, with the added restriction that the arguments must have equal lengths.\n",
       "\n",
       "\\texttt{x ⋅ y} (where \\texttt{⋅} can be typed by tab-completing \\texttt{{\\textbackslash}cdot} in the REPL) is a synonym for \\texttt{dot(x, y)}.\n",
       "\n",
       "\\section{Examples}\n",
       "\\begin{verbatim}\n",
       "julia> dot([1; 1], [2; 3])\n",
       "5\n",
       "\n",
       "julia> dot([im; im], [1; 1])\n",
       "0 - 2im\n",
       "\n",
       "julia> dot(1:5, 2:6)\n",
       "70\n",
       "\n",
       "julia> x = fill(2., (5,5));\n",
       "\n",
       "julia> y = fill(3., (5,5));\n",
       "\n",
       "julia> dot(x, y)\n",
       "150.0\n",
       "\\end{verbatim}\n",
       "\\rule{\\textwidth}{1pt}\n",
       "\\begin{verbatim}\n",
       "dot(x, A, y)\n",
       "\\end{verbatim}\n",
       "Compute the generalized dot product \\texttt{dot(x, A*y)} between two vectors \\texttt{x} and \\texttt{y}, without storing the intermediate result of \\texttt{A*y}. As for the two-argument \\href{@ref}{\\texttt{dot(\\_,\\_)}}, this acts recursively. Moreover, for complex vectors, the first vector is conjugated.\n",
       "\n",
       "\\begin{quote}\n",
       "\\textbf{compat}\n",
       "\n",
       "Julia 1.4\n",
       "\n",
       "Three-argument \\texttt{dot} requires at least Julia 1.4.\n",
       "\n",
       "\\end{quote}\n",
       "\\section{Examples}\n",
       "\\begin{verbatim}\n",
       "julia> dot([1; 1], [1 2; 3 4], [2; 3])\n",
       "26\n",
       "\n",
       "julia> dot(1:5, reshape(1:25, 5, 5), 2:6)\n",
       "4850\n",
       "\n",
       "julia> ⋅(1:5, reshape(1:25, 5, 5), 2:6) == dot(1:5, reshape(1:25, 5, 5), 2:6)\n",
       "true\n",
       "\\end{verbatim}\n"
      ],
      "text/markdown": [
       "```\n",
       "dot(x, y)\n",
       "x ⋅ y\n",
       "```\n",
       "\n",
       "Compute the dot product between two vectors. For complex vectors, the first vector is conjugated.\n",
       "\n",
       "`dot` also works on arbitrary iterable objects, including arrays of any dimension, as long as `dot` is defined on the elements.\n",
       "\n",
       "`dot` is semantically equivalent to `sum(dot(vx,vy) for (vx,vy) in zip(x, y))`, with the added restriction that the arguments must have equal lengths.\n",
       "\n",
       "`x ⋅ y` (where `⋅` can be typed by tab-completing `\\cdot` in the REPL) is a synonym for `dot(x, y)`.\n",
       "\n",
       "# Examples\n",
       "\n",
       "```jldoctest\n",
       "julia> dot([1; 1], [2; 3])\n",
       "5\n",
       "\n",
       "julia> dot([im; im], [1; 1])\n",
       "0 - 2im\n",
       "\n",
       "julia> dot(1:5, 2:6)\n",
       "70\n",
       "\n",
       "julia> x = fill(2., (5,5));\n",
       "\n",
       "julia> y = fill(3., (5,5));\n",
       "\n",
       "julia> dot(x, y)\n",
       "150.0\n",
       "```\n",
       "\n",
       "---\n",
       "\n",
       "```\n",
       "dot(x, A, y)\n",
       "```\n",
       "\n",
       "Compute the generalized dot product `dot(x, A*y)` between two vectors `x` and `y`, without storing the intermediate result of `A*y`. As for the two-argument [`dot(_,_)`](@ref), this acts recursively. Moreover, for complex vectors, the first vector is conjugated.\n",
       "\n",
       "!!! compat \"Julia 1.4\"\n",
       "    Three-argument `dot` requires at least Julia 1.4.\n",
       "\n",
       "\n",
       "# Examples\n",
       "\n",
       "```jldoctest\n",
       "julia> dot([1; 1], [1 2; 3 4], [2; 3])\n",
       "26\n",
       "\n",
       "julia> dot(1:5, reshape(1:25, 5, 5), 2:6)\n",
       "4850\n",
       "\n",
       "julia> ⋅(1:5, reshape(1:25, 5, 5), 2:6) == dot(1:5, reshape(1:25, 5, 5), 2:6)\n",
       "true\n",
       "```\n"
      ],
      "text/plain": [
       "\u001b[36m  dot(x, y)\u001b[39m\n",
       "\u001b[36m  x ⋅ y\u001b[39m\n",
       "\n",
       "  Compute the dot product between two vectors. For complex vectors, the first\n",
       "  vector is conjugated.\n",
       "\n",
       "  \u001b[36mdot\u001b[39m also works on arbitrary iterable objects, including arrays of any\n",
       "  dimension, as long as \u001b[36mdot\u001b[39m is defined on the elements.\n",
       "\n",
       "  \u001b[36mdot\u001b[39m is semantically equivalent to \u001b[36msum(dot(vx,vy) for (vx,vy) in zip(x, y))\u001b[39m,\n",
       "  with the added restriction that the arguments must have equal lengths.\n",
       "\n",
       "  \u001b[36mx ⋅ y\u001b[39m (where \u001b[36m⋅\u001b[39m can be typed by tab-completing \u001b[36m\\cdot\u001b[39m in the REPL) is a\n",
       "  synonym for \u001b[36mdot(x, y)\u001b[39m.\n",
       "\n",
       "\u001b[1m  Examples\u001b[22m\n",
       "\u001b[1m  ≡≡≡≡≡≡≡≡≡≡\u001b[22m\n",
       "\n",
       "\u001b[36m  julia> dot([1; 1], [2; 3])\u001b[39m\n",
       "\u001b[36m  5\u001b[39m\n",
       "\u001b[36m  \u001b[39m\n",
       "\u001b[36m  julia> dot([im; im], [1; 1])\u001b[39m\n",
       "\u001b[36m  0 - 2im\u001b[39m\n",
       "\u001b[36m  \u001b[39m\n",
       "\u001b[36m  julia> dot(1:5, 2:6)\u001b[39m\n",
       "\u001b[36m  70\u001b[39m\n",
       "\u001b[36m  \u001b[39m\n",
       "\u001b[36m  julia> x = fill(2., (5,5));\u001b[39m\n",
       "\u001b[36m  \u001b[39m\n",
       "\u001b[36m  julia> y = fill(3., (5,5));\u001b[39m\n",
       "\u001b[36m  \u001b[39m\n",
       "\u001b[36m  julia> dot(x, y)\u001b[39m\n",
       "\u001b[36m  150.0\u001b[39m\n",
       "\n",
       "  ────────────────────────────────────────────────────────────────────────────\n",
       "\n",
       "\u001b[36m  dot(x, A, y)\u001b[39m\n",
       "\n",
       "  Compute the generalized dot product \u001b[36mdot(x, A*y)\u001b[39m between two vectors \u001b[36mx\u001b[39m and \u001b[36my\u001b[39m,\n",
       "  without storing the intermediate result of \u001b[36mA*y\u001b[39m. As for the two-argument\n",
       "  \u001b[36mdot(_,_)\u001b[39m, this acts recursively. Moreover, for complex vectors, the first\n",
       "  vector is conjugated.\n",
       "\n",
       "\u001b[39m\u001b[1m  │ \u001b[22m\u001b[39m\u001b[1mJulia 1.4\u001b[22m\n",
       "\u001b[39m\u001b[1m  │\u001b[22m\n",
       "\u001b[39m\u001b[1m  │\u001b[22m  Three-argument \u001b[36mdot\u001b[39m requires at least Julia 1.4.\n",
       "\n",
       "\u001b[1m  Examples\u001b[22m\n",
       "\u001b[1m  ≡≡≡≡≡≡≡≡≡≡\u001b[22m\n",
       "\n",
       "\u001b[36m  julia> dot([1; 1], [1 2; 3 4], [2; 3])\u001b[39m\n",
       "\u001b[36m  26\u001b[39m\n",
       "\u001b[36m  \u001b[39m\n",
       "\u001b[36m  julia> dot(1:5, reshape(1:25, 5, 5), 2:6)\u001b[39m\n",
       "\u001b[36m  4850\u001b[39m\n",
       "\u001b[36m  \u001b[39m\n",
       "\u001b[36m  julia> ⋅(1:5, reshape(1:25, 5, 5), 2:6) == dot(1:5, reshape(1:25, 5, 5), 2:6)\u001b[39m\n",
       "\u001b[36m  true\u001b[39m"
      ]
     },
     "execution_count": 55,
     "metadata": {},
     "output_type": "execute_result"
    }
   ],
   "source": [
    "?dot"
   ]
  },
  {
   "cell_type": "code",
   "execution_count": 67,
   "id": "20437fe6",
   "metadata": {},
   "outputs": [
    {
     "data": {
      "text/plain": [
       "3-element Vector{Complex{Int64}}:\n",
       " 0 + 2im\n",
       " 0 + 2im\n",
       " 0 + 2im"
      ]
     },
     "execution_count": 67,
     "metadata": {},
     "output_type": "execute_result"
    }
   ],
   "source": [
    "b=[2im,2im,2im]"
   ]
  },
  {
   "cell_type": "code",
   "execution_count": 68,
   "id": "347af64a",
   "metadata": {},
   "outputs": [
    {
     "data": {
      "text/plain": [
       "0 + 0im"
      ]
     },
     "execution_count": 68,
     "metadata": {},
     "output_type": "execute_result"
    }
   ],
   "source": [
    "dot(a,b)-dot(b,a)'"
   ]
  },
  {
   "cell_type": "code",
   "execution_count": 61,
   "id": "558aad0e",
   "metadata": {},
   "outputs": [
    {
     "data": {
      "text/plain": [
       "2×2 Matrix{Int64}:\n",
       " 1  2\n",
       " 2  3"
      ]
     },
     "execution_count": 61,
     "metadata": {},
     "output_type": "execute_result"
    }
   ],
   "source": [
    "M= [1 2 ; 2 3]"
   ]
  },
  {
   "cell_type": "code",
   "execution_count": 12,
   "id": "633c64f9",
   "metadata": {},
   "outputs": [
    {
     "name": "stdout",
     "output_type": "stream",
     "text": [
      "search: \u001b[0m\u001b[1mp\u001b[22m\u001b[0m\u001b[1mu\u001b[22m\u001b[0m\u001b[1ms\u001b[22m\u001b[0m\u001b[1mh\u001b[22m\u001b[0m\u001b[1m!\u001b[22m \u001b[0m\u001b[1mp\u001b[22m\u001b[0m\u001b[1mu\u001b[22m\u001b[0m\u001b[1ms\u001b[22m\u001b[0m\u001b[1mh\u001b[22mfirst\u001b[0m\u001b[1m!\u001b[22m \u001b[0m\u001b[1mp\u001b[22m\u001b[0m\u001b[1mu\u001b[22m\u001b[0m\u001b[1ms\u001b[22m\u001b[0m\u001b[1mh\u001b[22mdisplay\n",
      "\n"
     ]
    },
    {
     "data": {
      "text/latex": [
       "\\begin{verbatim}\n",
       "push!(collection, items...) -> collection\n",
       "\\end{verbatim}\n",
       "Insert one or more \\texttt{items} in \\texttt{collection}. If \\texttt{collection} is an ordered container, the items are inserted at the end (in the given order).\n",
       "\n",
       "\\section{Examples}\n",
       "\\begin{verbatim}\n",
       "julia> push!([1, 2, 3], 4, 5, 6)\n",
       "6-element Vector{Int64}:\n",
       " 1\n",
       " 2\n",
       " 3\n",
       " 4\n",
       " 5\n",
       " 6\n",
       "\\end{verbatim}\n",
       "If \\texttt{collection} is ordered, use \\href{@ref}{\\texttt{append!}} to add all the elements of another collection to it. The result of the preceding example is equivalent to \\texttt{append!([1, 2, 3], [4, 5, 6])}. For \\texttt{AbstractSet} objects, \\href{@ref}{\\texttt{union!}} can be used instead.\n",
       "\n",
       "See \\href{@ref}{\\texttt{sizehint!}} for notes about the performance model.\n",
       "\n"
      ],
      "text/markdown": [
       "```\n",
       "push!(collection, items...) -> collection\n",
       "```\n",
       "\n",
       "Insert one or more `items` in `collection`. If `collection` is an ordered container, the items are inserted at the end (in the given order).\n",
       "\n",
       "# Examples\n",
       "\n",
       "```jldoctest\n",
       "julia> push!([1, 2, 3], 4, 5, 6)\n",
       "6-element Vector{Int64}:\n",
       " 1\n",
       " 2\n",
       " 3\n",
       " 4\n",
       " 5\n",
       " 6\n",
       "```\n",
       "\n",
       "If `collection` is ordered, use [`append!`](@ref) to add all the elements of another collection to it. The result of the preceding example is equivalent to `append!([1, 2, 3], [4, 5, 6])`. For `AbstractSet` objects, [`union!`](@ref) can be used instead.\n",
       "\n",
       "See [`sizehint!`](@ref) for notes about the performance model.\n"
      ],
      "text/plain": [
       "\u001b[36m  push!(collection, items...) -> collection\u001b[39m\n",
       "\n",
       "  Insert one or more \u001b[36mitems\u001b[39m in \u001b[36mcollection\u001b[39m. If \u001b[36mcollection\u001b[39m is an ordered\n",
       "  container, the items are inserted at the end (in the given order).\n",
       "\n",
       "\u001b[1m  Examples\u001b[22m\n",
       "\u001b[1m  ≡≡≡≡≡≡≡≡≡≡\u001b[22m\n",
       "\n",
       "\u001b[36m  julia> push!([1, 2, 3], 4, 5, 6)\u001b[39m\n",
       "\u001b[36m  6-element Vector{Int64}:\u001b[39m\n",
       "\u001b[36m   1\u001b[39m\n",
       "\u001b[36m   2\u001b[39m\n",
       "\u001b[36m   3\u001b[39m\n",
       "\u001b[36m   4\u001b[39m\n",
       "\u001b[36m   5\u001b[39m\n",
       "\u001b[36m   6\u001b[39m\n",
       "\n",
       "  If \u001b[36mcollection\u001b[39m is ordered, use \u001b[36mappend!\u001b[39m to add all the elements of another\n",
       "  collection to it. The result of the preceding example is equivalent to\n",
       "  \u001b[36mappend!([1, 2, 3], [4, 5, 6])\u001b[39m. For \u001b[36mAbstractSet\u001b[39m objects, \u001b[36munion!\u001b[39m can be used\n",
       "  instead.\n",
       "\n",
       "  See \u001b[36msizehint!\u001b[39m for notes about the performance model."
      ]
     },
     "execution_count": 12,
     "metadata": {},
     "output_type": "execute_result"
    }
   ],
   "source": [
    "?push!"
   ]
  },
  {
   "cell_type": "code",
   "execution_count": 96,
   "id": "9e6b423b",
   "metadata": {},
   "outputs": [
    {
     "data": {
      "text/plain": [
       "4-element Vector{Int64}:\n",
       " 1\n",
       " 2\n",
       " 2\n",
       " 3"
      ]
     },
     "execution_count": 96,
     "metadata": {},
     "output_type": "execute_result"
    }
   ],
   "source": [
    "M=dropdims(reshape(M,(length(M),1)),dims=2)"
   ]
  },
  {
   "cell_type": "code",
   "execution_count": 97,
   "id": "97a12517",
   "metadata": {},
   "outputs": [
    {
     "data": {
      "text/plain": [
       "5-element Vector{Int64}:\n",
       "  1\n",
       "  2\n",
       "  2\n",
       "  3\n",
       " 12"
      ]
     },
     "execution_count": 97,
     "metadata": {},
     "output_type": "execute_result"
    }
   ],
   "source": [
    "push!(M,12)"
   ]
  },
  {
   "cell_type": "code",
   "execution_count": 99,
   "id": "ceed6733",
   "metadata": {},
   "outputs": [
    {
     "data": {
      "text/plain": [
       "5×1 Matrix{Int64}:\n",
       "  1\n",
       "  2\n",
       "  2\n",
       "  3\n",
       " 12"
      ]
     },
     "execution_count": 99,
     "metadata": {},
     "output_type": "execute_result"
    }
   ],
   "source": [
    "reshape(M,(5,1))"
   ]
  },
  {
   "cell_type": "code",
   "execution_count": 108,
   "id": "5235919a",
   "metadata": {},
   "outputs": [
    {
     "data": {
      "text/plain": [
       "pow (generic function with 1 method)"
      ]
     },
     "execution_count": 108,
     "metadata": {},
     "output_type": "execute_result"
    }
   ],
   "source": [
    "M=[2 1; 1 1]\n",
    "\n",
    "#Del ejercicio de David Sanders\n",
    "##Modificado y corregido\n",
    "\n",
    "function pow(w::Matrix,x0::Vector)\n",
    "\n",
    "    tolerancia =1e-10\n",
    "    x=[3,3]\n",
    "    if size(w)[2]==size(x)[1]\n",
    "            ite=0\n",
    "            while abs(det(norm(x)*I-w))>tolerancia&&ite<200   #=\n",
    "                                                                David pone como condición\n",
    "                                    x0-x,que es igual a λx-x, por lo que nunca\n",
    "                                    va a ocurrir la convergencia\n",
    "            \n",
    "                                    Para que el algoritmo converga, utilizo la propiedad\n",
    "                                   det(λI-A)≊0, tal que norm(Ax)=norm(λx)=λ si x es eigenvector unitario de w\n",
    "                                \n",
    "                                   Y como x0=x/norm(x), haciendo x0 vector unitario, y luego x=A*x0\n",
    "                                    Por lo que necesariamente se cumple con la condición de convergencia \n",
    "\n",
    "                                    =#\n",
    "                    x=w*x0\n",
    "                    x0=x/norm(x)\n",
    "                    println(\"$(det(norm(x)*I-w))\")\n",
    "                    ite+=1\n",
    "            end \n",
    "            println(\"Iteración $ite\\n\"*\n",
    "            \"$(minimum(x))$(y=x/norm(x)) \\n\"*\n",
    "            \"eigenvector: $y\"*\n",
    "            \" λ=$(dot(w*y,y)/dot(y,y))\")\n",
    "            else\n",
    "            println(\"Error\\n\\n\")\n",
    "            end\n",
    "        end"
   ]
  },
  {
   "cell_type": "code",
   "execution_count": 104,
   "id": "f9fb6fcf",
   "metadata": {},
   "outputs": [
    {
     "name": "stdout",
     "output_type": "stream",
     "text": [
      "11.0\n",
      "-0.023042886243178518\n",
      "-0.0004956882552805686\n",
      "-1.0553711336513949e-5\n",
      "-2.24649867597293e-7\n",
      "-4.781949503041005e-9\n",
      "-1.0179068699045501e-10\n",
      "-2.166600232555993e-12\n",
      "Iteración 8\n",
      "1.3763822030461315[0.8506507416450114, 0.5257312200533577] \n",
      "eigenvector: [0.8506507416450114, 0.5257312200533577] λ=2.6180339887498585\n"
     ]
    }
   ],
   "source": [
    "pow(M,[1,2])"
   ]
  },
  {
   "cell_type": "code",
   "execution_count": 4,
   "id": "2d8b149f",
   "metadata": {},
   "outputs": [
    {
     "data": {
      "text/plain": [
       "2-element Vector{Int64}:\n",
       " 4\n",
       " 3"
      ]
     },
     "execution_count": 4,
     "metadata": {},
     "output_type": "execute_result"
    }
   ],
   "source": [
    "x=[1;2]\n",
    "M*x"
   ]
  },
  {
   "cell_type": "code",
   "execution_count": 41,
   "id": "c5c96b17",
   "metadata": {},
   "outputs": [
    {
     "data": {
      "text/plain": [
       "2-element Vector{Float64}:\n",
       " 2.2270327288232137\n",
       " 1.3763819204711736"
      ]
     },
     "execution_count": 41,
     "metadata": {},
     "output_type": "execute_result"
    }
   ],
   "source": [
    "[0.85065080835204, 0.5257311121191336].*2.618033988749895"
   ]
  },
  {
   "cell_type": "code",
   "execution_count": 43,
   "id": "65031733",
   "metadata": {},
   "outputs": [
    {
     "data": {
      "text/plain": [
       "2-element Vector{Float64}:\n",
       " 0.38196601125010515\n",
       " 2.618033988749895"
      ]
     },
     "execution_count": 43,
     "metadata": {},
     "output_type": "execute_result"
    }
   ],
   "source": [
    "eigvals(M)"
   ]
  },
  {
   "cell_type": "code",
   "execution_count": 45,
   "id": "bac05b21",
   "metadata": {},
   "outputs": [
    {
     "data": {
      "text/plain": [
       "2×2 Matrix{Float64}:\n",
       "  0.525731  -0.850651\n",
       " -0.850651  -0.525731"
      ]
     },
     "execution_count": 45,
     "metadata": {},
     "output_type": "execute_result"
    }
   ],
   "source": [
    "eigvecs(M)"
   ]
  },
  {
   "cell_type": "code",
   "execution_count": 77,
   "id": "5c71e185",
   "metadata": {},
   "outputs": [
    {
     "ename": "LoadError",
     "evalue": "DimensionMismatch(\"matrix is not square: dimensions are (1, 2)\")",
     "output_type": "error",
     "traceback": [
      "DimensionMismatch(\"matrix is not square: dimensions are (1, 2)\")",
      "",
      "Stacktrace:",
      " [1] checksquare",
      "   @ /buildworker/worker/package_linux64/build/usr/share/julia/stdlib/v1.6/LinearAlgebra/src/LinearAlgebra.jl:224 [inlined]",
      " [2] inv(A::Matrix{Float64})",
      "   @ LinearAlgebra /buildworker/worker/package_linux64/build/usr/share/julia/stdlib/v1.6/LinearAlgebra/src/dense.jl:807",
      " [3] top-level scope",
      "   @ In[77]:1",
      " [4] eval",
      "   @ ./boot.jl:360 [inlined]",
      " [5] include_string(mapexpr::typeof(REPL.softscope), mod::Module, code::String, filename::String)",
      "   @ Base ./loading.jl:1116"
     ]
    }
   ],
   "source": []
  },
  {
   "cell_type": "code",
   "execution_count": null,
   "id": "e076a071",
   "metadata": {},
   "outputs": [],
   "source": []
  }
 ],
 "metadata": {
  "kernelspec": {
   "display_name": "Julia 1.6.5",
   "language": "julia",
   "name": "julia-1.6"
  },
  "language_info": {
   "file_extension": ".jl",
   "mimetype": "application/julia",
   "name": "julia",
   "version": "1.6.5"
  }
 },
 "nbformat": 4,
 "nbformat_minor": 5
}

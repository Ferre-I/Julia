{
 "cells": [
  {
   "cell_type": "markdown",
   "id": "b22aedb4",
   "metadata": {},
   "source": [
    "# Estructuras de Datos simples\n",
    "\n",
    "Es conveniente usar estructuras para almacenar datos, \n",
    "como tuplas, arreglos, o diccionarios.\n",
    "\n",
    "Tipos de estructuras de datos que se cubren:\n",
    "\n",
    "    1.Tuplas\n",
    "    2.Diccionarios\n",
    "    3.Arreglos\n",
    "\n"
   ]
  },
  {
   "cell_type": "markdown",
   "id": "8a2d79ae",
   "metadata": {},
   "source": [
    "## Tuplas\n",
    "\n",
    "Las tuplas son estructuras de datos que consisten en una colección de elementos y que no pueden actualizarse. En cambio a los arreglos y los diccionarios sí se les puede realizar modificaciones.\n"
   ]
  },
  {
   "cell_type": "code",
   "execution_count": 2,
   "id": "79ca478f",
   "metadata": {},
   "outputs": [
    {
     "data": {
      "text/plain": [
       "(\"matemáticas\", \"japonés\", \"español\", \"computación\")"
      ]
     },
     "execution_count": 2,
     "metadata": {},
     "output_type": "execute_result"
    }
   ],
   "source": [
    "##Forma de declarar una tupla\n",
    "\n",
    "materias=(\"matemáticas\",\"japonés\",\"español\",\"computación\")\n"
   ]
  },
  {
   "cell_type": "code",
   "execution_count": 3,
   "id": "1b1a8e23",
   "metadata": {},
   "outputs": [
    {
     "data": {
      "text/plain": [
       "\"matemáticas\""
      ]
     },
     "execution_count": 3,
     "metadata": {},
     "output_type": "execute_result"
    }
   ],
   "source": [
    "#Forma de indexar una tupla\n",
    "materias[1]\n",
    "\n",
    "# Nótese que se indexan con la definición clásica de Números naturales\n"
   ]
  },
  {
   "cell_type": "code",
   "execution_count": 4,
   "id": "a291dc80",
   "metadata": {},
   "outputs": [
    {
     "ename": "LoadError",
     "evalue": "MethodError: no method matching setindex!(::NTuple{4, String}, ::String, ::Int64)",
     "output_type": "error",
     "traceback": [
      "MethodError: no method matching setindex!(::NTuple{4, String}, ::String, ::Int64)",
      "",
      "Stacktrace:",
      " [1] top-level scope",
      "   @ In[4]:2",
      " [2] eval",
      "   @ ./boot.jl:360 [inlined]",
      " [3] include_string(mapexpr::typeof(REPL.softscope), mod::Module, code::String, filename::String)",
      "   @ Base ./loading.jl:1116"
     ]
    }
   ],
   "source": [
    "# Aquí se muestra cómo una tupla no puede ser actualizada\n",
    "materias[1]=\"algebra\"\n"
   ]
  },
  {
   "cell_type": "markdown",
   "id": "d2f3e128",
   "metadata": {},
   "source": [
    "# Diccionarios\n",
    "\n",
    "Son una colección de parejas asociadas de datos, donde un dato llamado llave está asociado a otro dato llamado valor. Al dato llamado valor se le accede y modifica por medio de su llave.\n",
    "\n",
    "Estas colecciones de datos no están ordenadas, a diferencia de las tuplas y de los arreglos. Por lo que no pueden ser indexados"
   ]
  },
  {
   "cell_type": "code",
   "execution_count": 5,
   "id": "693c19ef",
   "metadata": {},
   "outputs": [
    {
     "data": {
      "text/plain": [
       "Dict{String, String} with 2 entries:\n",
       "  \"Arturia Pendragón\"                                 => \"55 54579908\"\n",
       "  \"Constanze Amalie Von Braunschbank Albrechtsberger\" => \"55 57023195\""
      ]
     },
     "execution_count": 5,
     "metadata": {},
     "output_type": "execute_result"
    }
   ],
   "source": [
    "#Un buen ejemplo de un diccionario es una lista telefónica\n",
    "\n",
    "mi_agenda= Dict(\"Arturia Pendragón\" => \"55 54579908\", \n",
    "    \"Constanze Amalie Von Braunschbank Albrechtsberger\" => \"55 57023195\")\n"
   ]
  },
  {
   "cell_type": "code",
   "execution_count": 6,
   "id": "9a14f670",
   "metadata": {},
   "outputs": [
    {
     "data": {
      "text/plain": [
       "\"55 54579908\""
      ]
     },
     "execution_count": 6,
     "metadata": {},
     "output_type": "execute_result"
    }
   ],
   "source": [
    "#Realizamos una consulta\n",
    "mi_agenda[\"Arturia Pendragón\"]"
   ]
  },
  {
   "cell_type": "code",
   "execution_count": 7,
   "id": "31fee834",
   "metadata": {},
   "outputs": [
    {
     "data": {
      "text/plain": [
       "\"55 53070899\""
      ]
     },
     "execution_count": 7,
     "metadata": {},
     "output_type": "execute_result"
    }
   ],
   "source": [
    "#Agregamos otro elemento al diccionario\n",
    "\n",
    "mi_agenda[\"Iris\"]=\"55 53070899\"\n",
    "\n"
   ]
  },
  {
   "cell_type": "code",
   "execution_count": 8,
   "id": "a8a04801",
   "metadata": {},
   "outputs": [
    {
     "data": {
      "text/plain": [
       "Dict{String, String} with 3 entries:\n",
       "  \"Arturia Pendragón\"                                 => \"55 54579908\"\n",
       "  \"Constanze Amalie Von Braunschbank Albrechtsberger\" => \"55 57023195\"\n",
       "  \"Iris\"                                              => \"55 53070899\""
      ]
     },
     "execution_count": 8,
     "metadata": {},
     "output_type": "execute_result"
    }
   ],
   "source": [
    "mi_agenda"
   ]
  },
  {
   "cell_type": "code",
   "execution_count": 9,
   "id": "e0367818",
   "metadata": {},
   "outputs": [
    {
     "data": {
      "text/plain": [
       "\"000 0002\""
      ]
     },
     "execution_count": 9,
     "metadata": {},
     "output_type": "execute_result"
    }
   ],
   "source": [
    "mi_agenda[\"nuevo\"]=\"000 0002\"\n"
   ]
  },
  {
   "cell_type": "code",
   "execution_count": 10,
   "id": "a5ed9918",
   "metadata": {},
   "outputs": [
    {
     "data": {
      "text/plain": [
       "Dict{String, String} with 4 entries:\n",
       "  \"Arturia Pendragón\"                                 => \"55 54579908\"\n",
       "  \"Constanze Amalie Von Braunschbank Albrechtsberger\" => \"55 57023195\"\n",
       "  \"Iris\"                                              => \"55 53070899\"\n",
       "  \"nuevo\"                                             => \"000 0002\""
      ]
     },
     "execution_count": 10,
     "metadata": {},
     "output_type": "execute_result"
    }
   ],
   "source": [
    "mi_agenda"
   ]
  },
  {
   "cell_type": "code",
   "execution_count": 11,
   "id": "817bcf0c",
   "metadata": {},
   "outputs": [],
   "source": [
    "#Removemos un elemento del diccionario\n",
    "\n",
    "pop!(mi_agenda,\"nuevo\");"
   ]
  },
  {
   "cell_type": "code",
   "execution_count": 12,
   "id": "621cea46",
   "metadata": {},
   "outputs": [
    {
     "data": {
      "text/plain": [
       "Dict{String, String} with 3 entries:\n",
       "  \"Arturia Pendragón\"                                 => \"55 54579908\"\n",
       "  \"Constanze Amalie Von Braunschbank Albrechtsberger\" => \"55 57023195\"\n",
       "  \"Iris\"                                              => \"55 53070899\""
      ]
     },
     "execution_count": 12,
     "metadata": {},
     "output_type": "execute_result"
    }
   ],
   "source": [
    "mi_agenda"
   ]
  },
  {
   "cell_type": "code",
   "execution_count": 13,
   "id": "32f78bf7",
   "metadata": {},
   "outputs": [
    {
     "ename": "LoadError",
     "evalue": "KeyError: key 1 not found",
     "output_type": "error",
     "traceback": [
      "KeyError: key 1 not found",
      "",
      "Stacktrace:",
      " [1] getindex(h::Dict{String, String}, key::Int64)",
      "   @ Base ./dict.jl:482",
      " [2] top-level scope",
      "   @ In[13]:2",
      " [3] eval",
      "   @ ./boot.jl:360 [inlined]",
      " [4] include_string(mapexpr::typeof(REPL.softscope), mod::Module, code::String, filename::String)",
      "   @ Base ./loading.jl:1116"
     ]
    }
   ],
   "source": [
    "#Demostramos que los diccionarios no se los puede indexar\n",
    "mi_agenda[1]"
   ]
  },
  {
   "cell_type": "markdown",
   "id": "2b4fa1b2",
   "metadata": {},
   "source": [
    "## Arreglos\n",
    "\n",
    "Los arreglos son colecciones ordenadas de datos, que pueden se indexados. A diferencia de las tuplas, los arreglos sí pueden ser modificados.\n",
    "\n",
    "Podemos crear arreglos encerrando entre corchetes una colección de datos.\n",
    "\n",
    "Sintaxis:\n",
    "\n",
    "    [elemento1, elemento2, ...]\n",
    "    \n",
    "Por ejemplo, se pueden crear un arreglo para llevar el registro de los amigos que tiene una persona:\n"
   ]
  },
  {
   "cell_type": "code",
   "execution_count": 14,
   "id": "26d19ab5",
   "metadata": {},
   "outputs": [
    {
     "data": {
      "text/plain": [
       "6-element Vector{String}:\n",
       " \"María\"\n",
       " \"Lucía\"\n",
       " \"Sofía\"\n",
       " \"Pedro\"\n",
       " \"Tomás\"\n",
       " \"Alfredo\""
      ]
     },
     "execution_count": 14,
     "metadata": {},
     "output_type": "execute_result"
    }
   ],
   "source": [
    "misAmigos = [\"María\", \"Lucía\", \"Sofía\", \"Pedro\", \"Tomás\",\"Alfredo\"]"
   ]
  },
  {
   "cell_type": "markdown",
   "id": "c89d2b28",
   "metadata": {},
   "source": [
    "O se puede utilizar para almacenar una secuencia de números"
   ]
  },
  {
   "cell_type": "code",
   "execution_count": 15,
   "id": "109e6046",
   "metadata": {},
   "outputs": [
    {
     "data": {
      "text/plain": [
       "7-element Vector{Int64}:\n",
       "  1\n",
       "  1\n",
       "  2\n",
       "  3\n",
       "  5\n",
       "  8\n",
       " 13"
      ]
     },
     "execution_count": 15,
     "metadata": {},
     "output_type": "execute_result"
    }
   ],
   "source": [
    "fibonacci = [1, 1, 2, 3, 5, 8, 13]"
   ]
  },
  {
   "cell_type": "code",
   "execution_count": 16,
   "id": "de1c2b83",
   "metadata": {},
   "outputs": [
    {
     "data": {
      "text/plain": [
       "6-element Vector{Any}:\n",
       " 1\n",
       " 1\n",
       " 2\n",
       " 3\n",
       "  \"Tomás\"\n",
       "  \"Marcos\""
      ]
     },
     "execution_count": 16,
     "metadata": {},
     "output_type": "execute_result"
    }
   ],
   "source": [
    "mezcla = [1, 1, 2, 3, \"Tomás\", \"Marcos\"]"
   ]
  },
  {
   "cell_type": "code",
   "execution_count": 17,
   "id": "3cca8841",
   "metadata": {},
   "outputs": [
    {
     "data": {
      "text/plain": [
       "\"Alfredo\""
      ]
     },
     "execution_count": 17,
     "metadata": {},
     "output_type": "execute_result"
    }
   ],
   "source": [
    "misAmigos[6]"
   ]
  },
  {
   "cell_type": "markdown",
   "id": "80493792",
   "metadata": {},
   "source": [
    "Se puede editar un elemento existente de un arreglo usando el indexado"
   ]
  },
  {
   "cell_type": "code",
   "execution_count": 18,
   "id": "1f57e751",
   "metadata": {},
   "outputs": [
    {
     "data": {
      "text/plain": [
       "\"Carlos\""
      ]
     },
     "execution_count": 18,
     "metadata": {},
     "output_type": "execute_result"
    }
   ],
   "source": [
    "misAmigos[6]=\"Carlos\""
   ]
  },
  {
   "cell_type": "markdown",
   "id": "78b5c864",
   "metadata": {},
   "source": [
    "También se pueden editar arreglos usando las funciones push! y pop!\n",
    "\n",
    "push! añade un elemento al final de un arreglo\n",
    "\n",
    "pop! remueve el último elemento de un arreglo\n",
    "\n",
    "\n",
    "De esta manera se puede añadir otro número a nuestra secuencia de Fibonacci"
   ]
  },
  {
   "cell_type": "code",
   "execution_count": 19,
   "id": "64d2ca4e",
   "metadata": {},
   "outputs": [
    {
     "data": {
      "text/plain": [
       "8-element Vector{Int64}:\n",
       "  1\n",
       "  1\n",
       "  2\n",
       "  3\n",
       "  5\n",
       "  8\n",
       " 13\n",
       " 21"
      ]
     },
     "execution_count": 19,
     "metadata": {},
     "output_type": "execute_result"
    }
   ],
   "source": [
    "push!(fibonacci,21)"
   ]
  },
  {
   "cell_type": "markdown",
   "id": "60972591",
   "metadata": {},
   "source": [
    "Y luego removerlo"
   ]
  },
  {
   "cell_type": "code",
   "execution_count": 20,
   "id": "3c2ce817",
   "metadata": {},
   "outputs": [
    {
     "data": {
      "text/plain": [
       "21"
      ]
     },
     "execution_count": 20,
     "metadata": {},
     "output_type": "execute_result"
    }
   ],
   "source": [
    "pop!(fibonacci)"
   ]
  },
  {
   "cell_type": "code",
   "execution_count": 21,
   "id": "77d3edf8",
   "metadata": {
    "scrolled": false
   },
   "outputs": [
    {
     "data": {
      "text/plain": [
       "7-element Vector{Int64}:\n",
       "  1\n",
       "  1\n",
       "  2\n",
       "  3\n",
       "  5\n",
       "  8\n",
       " 13"
      ]
     },
     "execution_count": 21,
     "metadata": {},
     "output_type": "execute_result"
    }
   ],
   "source": [
    "fibonacci"
   ]
  },
  {
   "cell_type": "markdown",
   "id": "88e83ad4",
   "metadata": {},
   "source": [
    "En Julia los arreglos unidimensionales reciben el nombre de vectores.\n",
    "\n",
    "Mientras que los arreglos multidimencionales de mxn, reciben el nombre de matrices.\n",
    "\n",
    "También pueden almacenar otros arreglos\n"
   ]
  },
  {
   "cell_type": "code",
   "execution_count": 22,
   "id": "f6806048",
   "metadata": {},
   "outputs": [
    {
     "data": {
      "text/plain": [
       "2-element Vector{Vector{String}}:\n",
       " [\"chocolate\", \"leche\", \"huevos\"]\n",
       " [\"gatos\", \"aves\", \"french puddles\"]"
      ]
     },
     "execution_count": 22,
     "metadata": {},
     "output_type": "execute_result"
    }
   ],
   "source": [
    "#=Aquí por ejemplo vamos a hacer la declaración de un arreglo de arreglos, \n",
    "que es un arreglo que contiene elementos que son arreglos.\n",
    "\n",
    "En este caso particular se declara un arreglo de arreglo de cadenas. Su\n",
    "firma es un arreglo de una dimensión (vector) de arreglos de una dimensión \n",
    "(vector) que almacenan cadenas. \n",
    "\n",
    "Dicho de otra forma es arreglo es un arreglo de dos elementos, donde cada\n",
    "elemento es un arreglo de 3 cadenas\n",
    "=#\n",
    "\n",
    "favoritos=[[\"chocolate\", \"leche\", \"huevos\"],[\"gatos\",\"aves\",\"french puddles\"]]"
   ]
  },
  {
   "cell_type": "code",
   "execution_count": 23,
   "id": "23799e0e",
   "metadata": {},
   "outputs": [
    {
     "data": {
      "text/plain": [
       "3-element Vector{Vector{Int64}}:\n",
       " [1, 2, 3]\n",
       " [4, 5]\n",
       " [6, 7, 8, 9]"
      ]
     },
     "execution_count": 23,
     "metadata": {},
     "output_type": "execute_result"
    }
   ],
   "source": [
    "#= \n",
    "Mientras aquí se tiene un vector de vectores que almacenan enteros de 64 bits\n",
    "=#\n",
    "\n",
    "numbers = [[1, 2, 3],[4, 5],[6, 7, 8, 9]]"
   ]
  },
  {
   "cell_type": "code",
   "execution_count": 24,
   "id": "0557abad",
   "metadata": {},
   "outputs": [
    {
     "data": {
      "text/plain": [
       "4×3 Matrix{Float64}:\n",
       " 0.227016     0.0715902  0.247045\n",
       " 0.570563     0.343691   0.869719\n",
       " 0.265033     0.0634156  0.543947\n",
       " 0.000449084  0.537722   0.561763"
      ]
     },
     "execution_count": 24,
     "metadata": {},
     "output_type": "execute_result"
    }
   ],
   "source": [
    "#= La función rand permite generar matrices de mxn donde cada elemento es\n",
    "un flotante entre 0 y 1, generado con números únicos pseudoaleatorios\n",
    "=#\n",
    "rand(4,3)"
   ]
  },
  {
   "cell_type": "code",
   "execution_count": 25,
   "id": "bc588ee7",
   "metadata": {},
   "outputs": [
    {
     "data": {
      "text/plain": [
       "4×3×2 Array{Float64, 3}:\n",
       "[:, :, 1] =\n",
       " 0.136993  0.309194  0.100302\n",
       " 0.297345  0.147501  0.983743\n",
       " 0.913694  0.845757  0.680918\n",
       " 0.980314  0.692248  0.871631\n",
       "\n",
       "[:, :, 2] =\n",
       " 0.0376538  0.739735  0.134243\n",
       " 0.92136    0.254851  0.286251\n",
       " 0.187651   0.56429   0.834198\n",
       " 0.653565   0.212455  0.66631"
      ]
     },
     "execution_count": 25,
     "metadata": {},
     "output_type": "execute_result"
    }
   ],
   "source": [
    "#=Aquí se utiliza rand() con la finalidad de generar un arreglo \n",
    "multidimensional tridimensional\n",
    "=#\n",
    "\n",
    "rand(4,3,2)"
   ]
  },
  {
   "cell_type": "code",
   "execution_count": 26,
   "id": "ae215a40",
   "metadata": {},
   "outputs": [
    {
     "data": {
      "text/plain": [
       "7-element Vector{Int64}:\n",
       "  1\n",
       "  1\n",
       "  2\n",
       "  3\n",
       "  5\n",
       "  8\n",
       " 13"
      ]
     },
     "execution_count": 26,
     "metadata": {},
     "output_type": "execute_result"
    }
   ],
   "source": [
    "#=Hay que tener cuidado con esta tipo declaración que se escribió para\n",
    "intentar copiar un arreglo. Ya que no copia el  arreglo  fibonacci  en \n",
    "es_copia, más bien declara un nuevo nombre o sinónimo para la \n",
    "estructura de datos ya existente de fibonacci.\n",
    "=#\n",
    "\n",
    "es_copia=fibonacci\n"
   ]
  },
  {
   "cell_type": "code",
   "execution_count": 30,
   "id": "3d5a2376",
   "metadata": {},
   "outputs": [
    {
     "data": {
      "text/plain": [
       "404"
      ]
     },
     "execution_count": 30,
     "metadata": {},
     "output_type": "execute_result"
    }
   ],
   "source": [
    "#=Aquí se modifica el primer elemento de es_copia. Sin embargo, dado que \n",
    "es sinónimo de fibonacci, lo que ocurrirá es que el arreglo fibonacci se \n",
    "verá alterado en su primer elemento\n",
    "=#\n",
    "es_copia[1]=404"
   ]
  },
  {
   "cell_type": "code",
   "execution_count": 31,
   "id": "f3a6c787",
   "metadata": {},
   "outputs": [
    {
     "data": {
      "text/plain": [
       "7-element Vector{Int64}:\n",
       " 404\n",
       "   1\n",
       "   2\n",
       "   3\n",
       "   5\n",
       "   8\n",
       "  13"
      ]
     },
     "execution_count": 31,
     "metadata": {},
     "output_type": "execute_result"
    }
   ],
   "source": [
    "#=Aquí se muestra que los cambios en fibonacci, realizados por medio de su\n",
    "sinónimo. Tal y cómo se esperaba.\n",
    "\n",
    "=#\n",
    "\n",
    "fibonacci"
   ]
  },
  {
   "cell_type": "code",
   "execution_count": null,
   "id": "18a80bc5",
   "metadata": {},
   "outputs": [],
   "source": []
  }
 ],
 "metadata": {
  "kernelspec": {
   "display_name": "Julia 1.6.5",
   "language": "julia",
   "name": "julia-1.6"
  },
  "language_info": {
   "file_extension": ".jl",
   "mimetype": "application/julia",
   "name": "julia",
   "version": "1.6.5"
  }
 },
 "nbformat": 4,
 "nbformat_minor": 5
}
